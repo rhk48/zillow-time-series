{
 "cells": [
  {
   "cell_type": "code",
   "execution_count": 1,
   "metadata": {
    "ExecuteTime": {
     "end_time": "2021-10-06T20:05:17.953634Z",
     "start_time": "2021-10-06T20:05:17.019508Z"
    }
   },
   "outputs": [],
   "source": [
    "import pandas as pd\n",
    "import numpy as np\n",
    "import matplotlib.pylab as plt\n",
    "%matplotlib inline\n",
    "from statsmodels.tsa.stattools import adfuller\n",
    "import seaborn as sns"
   ]
  },
  {
   "cell_type": "code",
   "execution_count": 2,
   "metadata": {
    "ExecuteTime": {
     "end_time": "2021-10-06T20:05:18.326219Z",
     "start_time": "2021-10-06T20:05:17.955632Z"
    }
   },
   "outputs": [
    {
     "data": {
      "text/html": [
       "<div>\n",
       "<style scoped>\n",
       "    .dataframe tbody tr th:only-of-type {\n",
       "        vertical-align: middle;\n",
       "    }\n",
       "\n",
       "    .dataframe tbody tr th {\n",
       "        vertical-align: top;\n",
       "    }\n",
       "\n",
       "    .dataframe thead th {\n",
       "        text-align: right;\n",
       "    }\n",
       "</style>\n",
       "<table border=\"1\" class=\"dataframe\">\n",
       "  <thead>\n",
       "    <tr style=\"text-align: right;\">\n",
       "      <th></th>\n",
       "      <th>RegionID</th>\n",
       "      <th>RegionName</th>\n",
       "      <th>City</th>\n",
       "      <th>State</th>\n",
       "      <th>Metro</th>\n",
       "      <th>CountyName</th>\n",
       "      <th>SizeRank</th>\n",
       "      <th>1996-04</th>\n",
       "      <th>1996-05</th>\n",
       "      <th>1996-06</th>\n",
       "      <th>...</th>\n",
       "      <th>2017-07</th>\n",
       "      <th>2017-08</th>\n",
       "      <th>2017-09</th>\n",
       "      <th>2017-10</th>\n",
       "      <th>2017-11</th>\n",
       "      <th>2017-12</th>\n",
       "      <th>2018-01</th>\n",
       "      <th>2018-02</th>\n",
       "      <th>2018-03</th>\n",
       "      <th>2018-04</th>\n",
       "    </tr>\n",
       "  </thead>\n",
       "  <tbody>\n",
       "    <tr>\n",
       "      <th>0</th>\n",
       "      <td>84654</td>\n",
       "      <td>60657</td>\n",
       "      <td>Chicago</td>\n",
       "      <td>IL</td>\n",
       "      <td>Chicago</td>\n",
       "      <td>Cook</td>\n",
       "      <td>1</td>\n",
       "      <td>334200.0</td>\n",
       "      <td>335400.0</td>\n",
       "      <td>336500.0</td>\n",
       "      <td>...</td>\n",
       "      <td>1005500</td>\n",
       "      <td>1007500</td>\n",
       "      <td>1007800</td>\n",
       "      <td>1009600</td>\n",
       "      <td>1013300</td>\n",
       "      <td>1018700</td>\n",
       "      <td>1024400</td>\n",
       "      <td>1030700</td>\n",
       "      <td>1033800</td>\n",
       "      <td>1030600</td>\n",
       "    </tr>\n",
       "    <tr>\n",
       "      <th>1</th>\n",
       "      <td>90668</td>\n",
       "      <td>75070</td>\n",
       "      <td>McKinney</td>\n",
       "      <td>TX</td>\n",
       "      <td>Dallas-Fort Worth</td>\n",
       "      <td>Collin</td>\n",
       "      <td>2</td>\n",
       "      <td>235700.0</td>\n",
       "      <td>236900.0</td>\n",
       "      <td>236700.0</td>\n",
       "      <td>...</td>\n",
       "      <td>308000</td>\n",
       "      <td>310000</td>\n",
       "      <td>312500</td>\n",
       "      <td>314100</td>\n",
       "      <td>315000</td>\n",
       "      <td>316600</td>\n",
       "      <td>318100</td>\n",
       "      <td>319600</td>\n",
       "      <td>321100</td>\n",
       "      <td>321800</td>\n",
       "    </tr>\n",
       "    <tr>\n",
       "      <th>2</th>\n",
       "      <td>91982</td>\n",
       "      <td>77494</td>\n",
       "      <td>Katy</td>\n",
       "      <td>TX</td>\n",
       "      <td>Houston</td>\n",
       "      <td>Harris</td>\n",
       "      <td>3</td>\n",
       "      <td>210400.0</td>\n",
       "      <td>212200.0</td>\n",
       "      <td>212200.0</td>\n",
       "      <td>...</td>\n",
       "      <td>321000</td>\n",
       "      <td>320600</td>\n",
       "      <td>320200</td>\n",
       "      <td>320400</td>\n",
       "      <td>320800</td>\n",
       "      <td>321200</td>\n",
       "      <td>321200</td>\n",
       "      <td>323000</td>\n",
       "      <td>326900</td>\n",
       "      <td>329900</td>\n",
       "    </tr>\n",
       "    <tr>\n",
       "      <th>3</th>\n",
       "      <td>84616</td>\n",
       "      <td>60614</td>\n",
       "      <td>Chicago</td>\n",
       "      <td>IL</td>\n",
       "      <td>Chicago</td>\n",
       "      <td>Cook</td>\n",
       "      <td>4</td>\n",
       "      <td>498100.0</td>\n",
       "      <td>500900.0</td>\n",
       "      <td>503100.0</td>\n",
       "      <td>...</td>\n",
       "      <td>1289800</td>\n",
       "      <td>1287700</td>\n",
       "      <td>1287400</td>\n",
       "      <td>1291500</td>\n",
       "      <td>1296600</td>\n",
       "      <td>1299000</td>\n",
       "      <td>1302700</td>\n",
       "      <td>1306400</td>\n",
       "      <td>1308500</td>\n",
       "      <td>1307000</td>\n",
       "    </tr>\n",
       "    <tr>\n",
       "      <th>4</th>\n",
       "      <td>93144</td>\n",
       "      <td>79936</td>\n",
       "      <td>El Paso</td>\n",
       "      <td>TX</td>\n",
       "      <td>El Paso</td>\n",
       "      <td>El Paso</td>\n",
       "      <td>5</td>\n",
       "      <td>77300.0</td>\n",
       "      <td>77300.0</td>\n",
       "      <td>77300.0</td>\n",
       "      <td>...</td>\n",
       "      <td>119100</td>\n",
       "      <td>119400</td>\n",
       "      <td>120000</td>\n",
       "      <td>120300</td>\n",
       "      <td>120300</td>\n",
       "      <td>120300</td>\n",
       "      <td>120300</td>\n",
       "      <td>120500</td>\n",
       "      <td>121000</td>\n",
       "      <td>121500</td>\n",
       "    </tr>\n",
       "    <tr>\n",
       "      <th>...</th>\n",
       "      <td>...</td>\n",
       "      <td>...</td>\n",
       "      <td>...</td>\n",
       "      <td>...</td>\n",
       "      <td>...</td>\n",
       "      <td>...</td>\n",
       "      <td>...</td>\n",
       "      <td>...</td>\n",
       "      <td>...</td>\n",
       "      <td>...</td>\n",
       "      <td>...</td>\n",
       "      <td>...</td>\n",
       "      <td>...</td>\n",
       "      <td>...</td>\n",
       "      <td>...</td>\n",
       "      <td>...</td>\n",
       "      <td>...</td>\n",
       "      <td>...</td>\n",
       "      <td>...</td>\n",
       "      <td>...</td>\n",
       "      <td>...</td>\n",
       "    </tr>\n",
       "    <tr>\n",
       "      <th>14718</th>\n",
       "      <td>58333</td>\n",
       "      <td>1338</td>\n",
       "      <td>Ashfield</td>\n",
       "      <td>MA</td>\n",
       "      <td>Greenfield Town</td>\n",
       "      <td>Franklin</td>\n",
       "      <td>14719</td>\n",
       "      <td>94600.0</td>\n",
       "      <td>94300.0</td>\n",
       "      <td>94000.0</td>\n",
       "      <td>...</td>\n",
       "      <td>216800</td>\n",
       "      <td>217700</td>\n",
       "      <td>218600</td>\n",
       "      <td>218500</td>\n",
       "      <td>218100</td>\n",
       "      <td>216400</td>\n",
       "      <td>213100</td>\n",
       "      <td>209800</td>\n",
       "      <td>209200</td>\n",
       "      <td>209300</td>\n",
       "    </tr>\n",
       "    <tr>\n",
       "      <th>14719</th>\n",
       "      <td>59107</td>\n",
       "      <td>3293</td>\n",
       "      <td>Woodstock</td>\n",
       "      <td>NH</td>\n",
       "      <td>Claremont</td>\n",
       "      <td>Grafton</td>\n",
       "      <td>14720</td>\n",
       "      <td>92700.0</td>\n",
       "      <td>92500.0</td>\n",
       "      <td>92400.0</td>\n",
       "      <td>...</td>\n",
       "      <td>202100</td>\n",
       "      <td>208400</td>\n",
       "      <td>212200</td>\n",
       "      <td>215200</td>\n",
       "      <td>214300</td>\n",
       "      <td>213100</td>\n",
       "      <td>213700</td>\n",
       "      <td>218300</td>\n",
       "      <td>222700</td>\n",
       "      <td>225800</td>\n",
       "    </tr>\n",
       "    <tr>\n",
       "      <th>14720</th>\n",
       "      <td>75672</td>\n",
       "      <td>40404</td>\n",
       "      <td>Berea</td>\n",
       "      <td>KY</td>\n",
       "      <td>Richmond</td>\n",
       "      <td>Madison</td>\n",
       "      <td>14721</td>\n",
       "      <td>57100.0</td>\n",
       "      <td>57300.0</td>\n",
       "      <td>57500.0</td>\n",
       "      <td>...</td>\n",
       "      <td>121800</td>\n",
       "      <td>122800</td>\n",
       "      <td>124600</td>\n",
       "      <td>126700</td>\n",
       "      <td>128800</td>\n",
       "      <td>130600</td>\n",
       "      <td>131700</td>\n",
       "      <td>132500</td>\n",
       "      <td>133000</td>\n",
       "      <td>133400</td>\n",
       "    </tr>\n",
       "    <tr>\n",
       "      <th>14721</th>\n",
       "      <td>93733</td>\n",
       "      <td>81225</td>\n",
       "      <td>Mount Crested Butte</td>\n",
       "      <td>CO</td>\n",
       "      <td>NaN</td>\n",
       "      <td>Gunnison</td>\n",
       "      <td>14722</td>\n",
       "      <td>191100.0</td>\n",
       "      <td>192400.0</td>\n",
       "      <td>193700.0</td>\n",
       "      <td>...</td>\n",
       "      <td>662800</td>\n",
       "      <td>671200</td>\n",
       "      <td>682400</td>\n",
       "      <td>695600</td>\n",
       "      <td>695500</td>\n",
       "      <td>694700</td>\n",
       "      <td>706400</td>\n",
       "      <td>705300</td>\n",
       "      <td>681500</td>\n",
       "      <td>664400</td>\n",
       "    </tr>\n",
       "    <tr>\n",
       "      <th>14722</th>\n",
       "      <td>95851</td>\n",
       "      <td>89155</td>\n",
       "      <td>Mesquite</td>\n",
       "      <td>NV</td>\n",
       "      <td>Las Vegas</td>\n",
       "      <td>Clark</td>\n",
       "      <td>14723</td>\n",
       "      <td>176400.0</td>\n",
       "      <td>176300.0</td>\n",
       "      <td>176100.0</td>\n",
       "      <td>...</td>\n",
       "      <td>333800</td>\n",
       "      <td>336400</td>\n",
       "      <td>339700</td>\n",
       "      <td>343800</td>\n",
       "      <td>346800</td>\n",
       "      <td>348900</td>\n",
       "      <td>350400</td>\n",
       "      <td>353000</td>\n",
       "      <td>356000</td>\n",
       "      <td>357200</td>\n",
       "    </tr>\n",
       "  </tbody>\n",
       "</table>\n",
       "<p>14723 rows × 272 columns</p>\n",
       "</div>"
      ],
      "text/plain": [
       "       RegionID  RegionName                 City State              Metro  \\\n",
       "0         84654       60657              Chicago    IL            Chicago   \n",
       "1         90668       75070             McKinney    TX  Dallas-Fort Worth   \n",
       "2         91982       77494                 Katy    TX            Houston   \n",
       "3         84616       60614              Chicago    IL            Chicago   \n",
       "4         93144       79936              El Paso    TX            El Paso   \n",
       "...         ...         ...                  ...   ...                ...   \n",
       "14718     58333        1338             Ashfield    MA    Greenfield Town   \n",
       "14719     59107        3293            Woodstock    NH          Claremont   \n",
       "14720     75672       40404                Berea    KY           Richmond   \n",
       "14721     93733       81225  Mount Crested Butte    CO                NaN   \n",
       "14722     95851       89155             Mesquite    NV          Las Vegas   \n",
       "\n",
       "      CountyName  SizeRank   1996-04   1996-05   1996-06  ...  2017-07  \\\n",
       "0           Cook         1  334200.0  335400.0  336500.0  ...  1005500   \n",
       "1         Collin         2  235700.0  236900.0  236700.0  ...   308000   \n",
       "2         Harris         3  210400.0  212200.0  212200.0  ...   321000   \n",
       "3           Cook         4  498100.0  500900.0  503100.0  ...  1289800   \n",
       "4        El Paso         5   77300.0   77300.0   77300.0  ...   119100   \n",
       "...          ...       ...       ...       ...       ...  ...      ...   \n",
       "14718   Franklin     14719   94600.0   94300.0   94000.0  ...   216800   \n",
       "14719    Grafton     14720   92700.0   92500.0   92400.0  ...   202100   \n",
       "14720    Madison     14721   57100.0   57300.0   57500.0  ...   121800   \n",
       "14721   Gunnison     14722  191100.0  192400.0  193700.0  ...   662800   \n",
       "14722      Clark     14723  176400.0  176300.0  176100.0  ...   333800   \n",
       "\n",
       "       2017-08  2017-09  2017-10  2017-11  2017-12  2018-01  2018-02  2018-03  \\\n",
       "0      1007500  1007800  1009600  1013300  1018700  1024400  1030700  1033800   \n",
       "1       310000   312500   314100   315000   316600   318100   319600   321100   \n",
       "2       320600   320200   320400   320800   321200   321200   323000   326900   \n",
       "3      1287700  1287400  1291500  1296600  1299000  1302700  1306400  1308500   \n",
       "4       119400   120000   120300   120300   120300   120300   120500   121000   \n",
       "...        ...      ...      ...      ...      ...      ...      ...      ...   \n",
       "14718   217700   218600   218500   218100   216400   213100   209800   209200   \n",
       "14719   208400   212200   215200   214300   213100   213700   218300   222700   \n",
       "14720   122800   124600   126700   128800   130600   131700   132500   133000   \n",
       "14721   671200   682400   695600   695500   694700   706400   705300   681500   \n",
       "14722   336400   339700   343800   346800   348900   350400   353000   356000   \n",
       "\n",
       "       2018-04  \n",
       "0      1030600  \n",
       "1       321800  \n",
       "2       329900  \n",
       "3      1307000  \n",
       "4       121500  \n",
       "...        ...  \n",
       "14718   209300  \n",
       "14719   225800  \n",
       "14720   133400  \n",
       "14721   664400  \n",
       "14722   357200  \n",
       "\n",
       "[14723 rows x 272 columns]"
      ]
     },
     "execution_count": 2,
     "metadata": {},
     "output_type": "execute_result"
    }
   ],
   "source": [
    "raw_df = pd.read_csv('data/zillow_data.csv')\n",
    "raw_df"
   ]
  },
  {
   "cell_type": "markdown",
   "metadata": {},
   "source": [
    "Filter only for Texas\n",
    "<br>Drop Metro because there were many nulls, and it was redundant with other location data \n",
    "<br> Drop regionID and SizeRank because values were specific to Zillow "
   ]
  },
  {
   "cell_type": "code",
   "execution_count": 3,
   "metadata": {
    "ExecuteTime": {
     "end_time": "2021-10-06T20:05:18.356138Z",
     "start_time": "2021-10-06T20:05:18.328238Z"
    }
   },
   "outputs": [
    {
     "name": "stderr",
     "output_type": "stream",
     "text": [
      "C:\\Users\\sethk\\anaconda3\\envs\\learn-env\\lib\\site-packages\\pandas\\core\\frame.py:4163: SettingWithCopyWarning: \n",
      "A value is trying to be set on a copy of a slice from a DataFrame\n",
      "\n",
      "See the caveats in the documentation: https://pandas.pydata.org/pandas-docs/stable/user_guide/indexing.html#returning-a-view-versus-a-copy\n",
      "  return super().drop(\n"
     ]
    }
   ],
   "source": [
    "raw_df = raw_df[raw_df['State']=='TX']\n",
    "raw_df.drop(raw_df.columns[np.r_[0,3,4, 6]], axis=1, inplace=True)\n",
    "raw_df = raw_df.rename(columns={'RegionName': 'zipcode'})\n"
   ]
  },
  {
   "cell_type": "code",
   "execution_count": 4,
   "metadata": {
    "ExecuteTime": {
     "end_time": "2021-10-06T20:05:18.403214Z",
     "start_time": "2021-10-06T20:05:18.359149Z"
    }
   },
   "outputs": [
    {
     "data": {
      "text/html": [
       "<div>\n",
       "<style scoped>\n",
       "    .dataframe tbody tr th:only-of-type {\n",
       "        vertical-align: middle;\n",
       "    }\n",
       "\n",
       "    .dataframe tbody tr th {\n",
       "        vertical-align: top;\n",
       "    }\n",
       "\n",
       "    .dataframe thead th {\n",
       "        text-align: right;\n",
       "    }\n",
       "</style>\n",
       "<table border=\"1\" class=\"dataframe\">\n",
       "  <thead>\n",
       "    <tr style=\"text-align: right;\">\n",
       "      <th></th>\n",
       "      <th>zipcode</th>\n",
       "      <th>std</th>\n",
       "      <th>mean</th>\n",
       "      <th>ROI</th>\n",
       "      <th>CV</th>\n",
       "    </tr>\n",
       "  </thead>\n",
       "  <tbody>\n",
       "    <tr>\n",
       "      <th>1</th>\n",
       "      <td>75070</td>\n",
       "      <td>33537.101427</td>\n",
       "      <td>219655.849057</td>\n",
       "      <td>0.365295</td>\n",
       "      <td>0.152680</td>\n",
       "    </tr>\n",
       "    <tr>\n",
       "      <th>2</th>\n",
       "      <td>77494</td>\n",
       "      <td>37730.794353</td>\n",
       "      <td>262110.566038</td>\n",
       "      <td>0.567966</td>\n",
       "      <td>0.143950</td>\n",
       "    </tr>\n",
       "    <tr>\n",
       "      <th>4</th>\n",
       "      <td>79936</td>\n",
       "      <td>18167.079218</td>\n",
       "      <td>101875.471698</td>\n",
       "      <td>0.571798</td>\n",
       "      <td>0.178326</td>\n",
       "    </tr>\n",
       "    <tr>\n",
       "      <th>5</th>\n",
       "      <td>77084</td>\n",
       "      <td>17242.109812</td>\n",
       "      <td>121185.283019</td>\n",
       "      <td>0.729474</td>\n",
       "      <td>0.142279</td>\n",
       "    </tr>\n",
       "    <tr>\n",
       "      <th>8</th>\n",
       "      <td>77449</td>\n",
       "      <td>18603.288493</td>\n",
       "      <td>126530.188679</td>\n",
       "      <td>0.846960</td>\n",
       "      <td>0.147026</td>\n",
       "    </tr>\n",
       "  </tbody>\n",
       "</table>\n",
       "</div>"
      ],
      "text/plain": [
       "   zipcode           std           mean       ROI        CV\n",
       "1    75070  33537.101427  219655.849057  0.365295  0.152680\n",
       "2    77494  37730.794353  262110.566038  0.567966  0.143950\n",
       "4    79936  18167.079218  101875.471698  0.571798  0.178326\n",
       "5    77084  17242.109812  121185.283019  0.729474  0.142279\n",
       "8    77449  18603.288493  126530.188679  0.846960  0.147026"
      ]
     },
     "execution_count": 4,
     "metadata": {},
     "output_type": "execute_result"
    }
   ],
   "source": [
    "#Calculate historical return on investment\n",
    "raw_df['ROI']= (raw_df['2018-04']/raw_df['1996-04'])-1\n",
    "raw_df['ROI']\n",
    "\n",
    "\n",
    "#Calculate standard deviation of monthly values\n",
    "raw_df['std']=raw_df.loc[:,'1996-04':'2018-04'].std(skipna=True, axis=1)\n",
    "\n",
    "#Calculate historical mean value\n",
    "raw_df['mean']=raw_df.loc[:,'1996-04':'2018-04'].mean(skipna=True, axis=1)\n",
    "\n",
    "#Calculate coefficient of variance\n",
    "raw_df['CV']=raw_df['std']/raw_df['mean']\n",
    "\n",
    "#Show calculated values\n",
    "raw_df[['zipcode','std','mean','ROI','CV']].head()\n",
    "\n"
   ]
  },
  {
   "cell_type": "code",
   "execution_count": 5,
   "metadata": {
    "ExecuteTime": {
     "end_time": "2021-10-06T20:05:18.419236Z",
     "start_time": "2021-10-06T20:05:18.405209Z"
    }
   },
   "outputs": [],
   "source": [
    "def melt_data(raw_df):\n",
    "    melted = pd.melt(raw_df, id_vars=['zipcode', 'City', 'CountyName','ROI','std','mean','CV'], var_name='date')\n",
    "    melted['date'] = pd.to_datetime(melted['date'], infer_datetime_format=True)\n",
    "    melted['year'] = [d.year for d in melted.date]\n",
    "    melted = melted.dropna(subset=['value'])\n",
    "    return melted"
   ]
  },
  {
   "cell_type": "code",
   "execution_count": 6,
   "metadata": {
    "ExecuteTime": {
     "end_time": "2021-10-06T20:05:18.868364Z",
     "start_time": "2021-10-06T20:05:18.421164Z"
    }
   },
   "outputs": [
    {
     "name": "stdout",
     "output_type": "stream",
     "text": [
      "<class 'pandas.core.frame.DataFrame'>\n",
      "Int64Index: 255096 entries, 0 to 262084\n",
      "Data columns (total 10 columns):\n",
      " #   Column      Non-Null Count   Dtype         \n",
      "---  ------      --------------   -----         \n",
      " 0   zipcode     255096 non-null  int64         \n",
      " 1   City        255096 non-null  object        \n",
      " 2   CountyName  255096 non-null  object        \n",
      " 3   ROI         250160 non-null  float64       \n",
      " 4   std         255096 non-null  float64       \n",
      " 5   mean        255096 non-null  float64       \n",
      " 6   CV          255096 non-null  float64       \n",
      " 7   date        255096 non-null  datetime64[ns]\n",
      " 8   value       255096 non-null  float64       \n",
      " 9   year        255096 non-null  int64         \n",
      "dtypes: datetime64[ns](1), float64(5), int64(2), object(2)\n",
      "memory usage: 21.4+ MB\n"
     ]
    }
   ],
   "source": [
    "df = melt_data(raw_df)\n",
    "df.info()"
   ]
  },
  {
   "cell_type": "code",
   "execution_count": 7,
   "metadata": {
    "ExecuteTime": {
     "end_time": "2021-10-06T20:05:18.913504Z",
     "start_time": "2021-10-06T20:05:18.870254Z"
    }
   },
   "outputs": [
    {
     "data": {
      "text/html": [
       "<div>\n",
       "<style scoped>\n",
       "    .dataframe tbody tr th:only-of-type {\n",
       "        vertical-align: middle;\n",
       "    }\n",
       "\n",
       "    .dataframe tbody tr th {\n",
       "        vertical-align: top;\n",
       "    }\n",
       "\n",
       "    .dataframe thead th {\n",
       "        text-align: right;\n",
       "    }\n",
       "</style>\n",
       "<table border=\"1\" class=\"dataframe\">\n",
       "  <thead>\n",
       "    <tr style=\"text-align: right;\">\n",
       "      <th></th>\n",
       "      <th>zipcode</th>\n",
       "      <th>City</th>\n",
       "      <th>CountyName</th>\n",
       "      <th>ROI</th>\n",
       "      <th>std</th>\n",
       "      <th>mean</th>\n",
       "      <th>CV</th>\n",
       "      <th>value</th>\n",
       "      <th>year</th>\n",
       "    </tr>\n",
       "    <tr>\n",
       "      <th>date</th>\n",
       "      <th></th>\n",
       "      <th></th>\n",
       "      <th></th>\n",
       "      <th></th>\n",
       "      <th></th>\n",
       "      <th></th>\n",
       "      <th></th>\n",
       "      <th></th>\n",
       "      <th></th>\n",
       "    </tr>\n",
       "  </thead>\n",
       "  <tbody>\n",
       "    <tr>\n",
       "      <th>1996-04-01</th>\n",
       "      <td>75070</td>\n",
       "      <td>McKinney</td>\n",
       "      <td>Collin</td>\n",
       "      <td>0.365295</td>\n",
       "      <td>33537.101427</td>\n",
       "      <td>219655.849057</td>\n",
       "      <td>0.152680</td>\n",
       "      <td>235700.0</td>\n",
       "      <td>1996</td>\n",
       "    </tr>\n",
       "    <tr>\n",
       "      <th>1996-04-01</th>\n",
       "      <td>77494</td>\n",
       "      <td>Katy</td>\n",
       "      <td>Harris</td>\n",
       "      <td>0.567966</td>\n",
       "      <td>37730.794353</td>\n",
       "      <td>262110.566038</td>\n",
       "      <td>0.143950</td>\n",
       "      <td>210400.0</td>\n",
       "      <td>1996</td>\n",
       "    </tr>\n",
       "    <tr>\n",
       "      <th>1996-04-01</th>\n",
       "      <td>79936</td>\n",
       "      <td>El Paso</td>\n",
       "      <td>El Paso</td>\n",
       "      <td>0.571798</td>\n",
       "      <td>18167.079218</td>\n",
       "      <td>101875.471698</td>\n",
       "      <td>0.178326</td>\n",
       "      <td>77300.0</td>\n",
       "      <td>1996</td>\n",
       "    </tr>\n",
       "    <tr>\n",
       "      <th>1996-04-01</th>\n",
       "      <td>77084</td>\n",
       "      <td>Houston</td>\n",
       "      <td>Harris</td>\n",
       "      <td>0.729474</td>\n",
       "      <td>17242.109812</td>\n",
       "      <td>121185.283019</td>\n",
       "      <td>0.142279</td>\n",
       "      <td>95000.0</td>\n",
       "      <td>1996</td>\n",
       "    </tr>\n",
       "    <tr>\n",
       "      <th>1996-04-01</th>\n",
       "      <td>77449</td>\n",
       "      <td>Katy</td>\n",
       "      <td>Harris</td>\n",
       "      <td>0.846960</td>\n",
       "      <td>18603.288493</td>\n",
       "      <td>126530.188679</td>\n",
       "      <td>0.147026</td>\n",
       "      <td>95400.0</td>\n",
       "      <td>1996</td>\n",
       "    </tr>\n",
       "    <tr>\n",
       "      <th>...</th>\n",
       "      <td>...</td>\n",
       "      <td>...</td>\n",
       "      <td>...</td>\n",
       "      <td>...</td>\n",
       "      <td>...</td>\n",
       "      <td>...</td>\n",
       "      <td>...</td>\n",
       "      <td>...</td>\n",
       "      <td>...</td>\n",
       "    </tr>\n",
       "    <tr>\n",
       "      <th>2018-04-01</th>\n",
       "      <td>76941</td>\n",
       "      <td>Mertzon</td>\n",
       "      <td>Irion</td>\n",
       "      <td>NaN</td>\n",
       "      <td>13734.029878</td>\n",
       "      <td>99318.367347</td>\n",
       "      <td>0.138283</td>\n",
       "      <td>121600.0</td>\n",
       "      <td>2018</td>\n",
       "    </tr>\n",
       "    <tr>\n",
       "      <th>2018-04-01</th>\n",
       "      <td>79313</td>\n",
       "      <td>Anton</td>\n",
       "      <td>Hockley</td>\n",
       "      <td>NaN</td>\n",
       "      <td>5286.674724</td>\n",
       "      <td>54424.675325</td>\n",
       "      <td>0.097137</td>\n",
       "      <td>63300.0</td>\n",
       "      <td>2018</td>\n",
       "    </tr>\n",
       "    <tr>\n",
       "      <th>2018-04-01</th>\n",
       "      <td>79355</td>\n",
       "      <td>Plains</td>\n",
       "      <td>Yoakum</td>\n",
       "      <td>NaN</td>\n",
       "      <td>12929.465872</td>\n",
       "      <td>78967.346939</td>\n",
       "      <td>0.163732</td>\n",
       "      <td>93500.0</td>\n",
       "      <td>2018</td>\n",
       "    </tr>\n",
       "    <tr>\n",
       "      <th>2018-04-01</th>\n",
       "      <td>79366</td>\n",
       "      <td>Ransom Canyon</td>\n",
       "      <td>Lubbock</td>\n",
       "      <td>0.914498</td>\n",
       "      <td>31276.315584</td>\n",
       "      <td>172420.377358</td>\n",
       "      <td>0.181396</td>\n",
       "      <td>257500.0</td>\n",
       "      <td>2018</td>\n",
       "    </tr>\n",
       "    <tr>\n",
       "      <th>2018-04-01</th>\n",
       "      <td>77457</td>\n",
       "      <td>Matagorda</td>\n",
       "      <td>Matagorda</td>\n",
       "      <td>1.506064</td>\n",
       "      <td>40483.593081</td>\n",
       "      <td>153585.660377</td>\n",
       "      <td>0.263590</td>\n",
       "      <td>227300.0</td>\n",
       "      <td>2018</td>\n",
       "    </tr>\n",
       "  </tbody>\n",
       "</table>\n",
       "<p>255096 rows × 9 columns</p>\n",
       "</div>"
      ],
      "text/plain": [
       "            zipcode           City CountyName       ROI           std  \\\n",
       "date                                                                    \n",
       "1996-04-01    75070       McKinney     Collin  0.365295  33537.101427   \n",
       "1996-04-01    77494           Katy     Harris  0.567966  37730.794353   \n",
       "1996-04-01    79936        El Paso    El Paso  0.571798  18167.079218   \n",
       "1996-04-01    77084        Houston     Harris  0.729474  17242.109812   \n",
       "1996-04-01    77449           Katy     Harris  0.846960  18603.288493   \n",
       "...             ...            ...        ...       ...           ...   \n",
       "2018-04-01    76941        Mertzon      Irion       NaN  13734.029878   \n",
       "2018-04-01    79313          Anton    Hockley       NaN   5286.674724   \n",
       "2018-04-01    79355         Plains     Yoakum       NaN  12929.465872   \n",
       "2018-04-01    79366  Ransom Canyon    Lubbock  0.914498  31276.315584   \n",
       "2018-04-01    77457      Matagorda  Matagorda  1.506064  40483.593081   \n",
       "\n",
       "                     mean        CV     value  year  \n",
       "date                                                 \n",
       "1996-04-01  219655.849057  0.152680  235700.0  1996  \n",
       "1996-04-01  262110.566038  0.143950  210400.0  1996  \n",
       "1996-04-01  101875.471698  0.178326   77300.0  1996  \n",
       "1996-04-01  121185.283019  0.142279   95000.0  1996  \n",
       "1996-04-01  126530.188679  0.147026   95400.0  1996  \n",
       "...                   ...       ...       ...   ...  \n",
       "2018-04-01   99318.367347  0.138283  121600.0  2018  \n",
       "2018-04-01   54424.675325  0.097137   63300.0  2018  \n",
       "2018-04-01   78967.346939  0.163732   93500.0  2018  \n",
       "2018-04-01  172420.377358  0.181396  257500.0  2018  \n",
       "2018-04-01  153585.660377  0.263590  227300.0  2018  \n",
       "\n",
       "[255096 rows x 9 columns]"
      ]
     },
     "execution_count": 7,
     "metadata": {},
     "output_type": "execute_result"
    }
   ],
   "source": [
    "df.set_index(df['date'], inplace = True)\n",
    "df.drop('date',axis=1, inplace=True)\n",
    "df"
   ]
  },
  {
   "cell_type": "code",
   "execution_count": 8,
   "metadata": {
    "ExecuteTime": {
     "end_time": "2021-10-06T20:05:19.022463Z",
     "start_time": "2021-10-06T20:05:18.915481Z"
    }
   },
   "outputs": [
    {
     "name": "stdout",
     "output_type": "stream",
     "text": [
      "<class 'pandas.core.frame.DataFrame'>\n",
      "Int64Index: 1839 entries, 31142 to 34261\n",
      "Data columns (total 14 columns):\n",
      " #   Column                       Non-Null Count  Dtype  \n",
      "---  ------                       --------------  -----  \n",
      " 0   ZIP Code                     1839 non-null   int64  \n",
      " 1   Type                         1839 non-null   object \n",
      " 2   State FIPS                   1839 non-null   int64  \n",
      " 3   Preferred name               1839 non-null   object \n",
      " 4   Alternate names              829 non-null    object \n",
      " 5   Population (2019)            1718 non-null   object \n",
      " 6   Housing units (2019)         1718 non-null   object \n",
      " 7   Median family income (2019)  1623 non-null   object \n",
      " 8   MFI percentile (2019)        1623 non-null   float64\n",
      " 9   Latitude                     1718 non-null   float64\n",
      " 10  Longitude                    1718 non-null   float64\n",
      " 11  Land area                    1718 non-null   float64\n",
      " 12  Water area                   1718 non-null   float64\n",
      " 13  state                        1839 non-null   object \n",
      "dtypes: float64(5), int64(2), object(7)\n",
      "memory usage: 215.5+ KB\n"
     ]
    }
   ],
   "source": [
    "df_income = pd.read_csv('data/zip_codes_2019_median_inc.csv')\n",
    "df_income['state'] = df_income['Preferred name'].str.slice(-2)\n",
    "df_income = df_income[df_income['state']=='TX']\n",
    "df_income = (df_income[df_income['Type'] != 'PO box'])\n",
    "df_income.info()"
   ]
  },
  {
   "cell_type": "code",
   "execution_count": 9,
   "metadata": {
    "ExecuteTime": {
     "end_time": "2021-10-06T20:05:19.038430Z",
     "start_time": "2021-10-06T20:05:19.024457Z"
    }
   },
   "outputs": [
    {
     "name": "stdout",
     "output_type": "stream",
     "text": [
      "<class 'pandas.core.frame.DataFrame'>\n",
      "Int64Index: 1839 entries, 31142 to 34261\n",
      "Data columns (total 6 columns):\n",
      " #   Column                       Non-Null Count  Dtype  \n",
      "---  ------                       --------------  -----  \n",
      " 0   ZIP Code                     1839 non-null   int64  \n",
      " 1   Population (2019)            1718 non-null   object \n",
      " 2   Median family income (2019)  1623 non-null   object \n",
      " 3   Latitude                     1718 non-null   float64\n",
      " 4   Longitude                    1718 non-null   float64\n",
      " 5   state                        1839 non-null   object \n",
      "dtypes: float64(2), int64(1), object(3)\n",
      "memory usage: 100.6+ KB\n"
     ]
    }
   ],
   "source": [
    "df_income.drop(df_income.columns[np.r_[1:5,6,8,11,12]], axis=1, inplace=True)\n",
    "df_income.info()"
   ]
  },
  {
   "cell_type": "markdown",
   "metadata": {},
   "source": [
    "Clean up column names"
   ]
  },
  {
   "cell_type": "code",
   "execution_count": 10,
   "metadata": {
    "ExecuteTime": {
     "end_time": "2021-10-06T20:05:19.053381Z",
     "start_time": "2021-10-06T20:05:19.040435Z"
    }
   },
   "outputs": [],
   "source": [
    "df_income = df_income.rename(columns={'Median family income (2019)': 'median_family_income',\n",
    "                               'Population (2019)': 'population',\n",
    "                               'ZIP Code': 'zipcode'})"
   ]
  },
  {
   "cell_type": "code",
   "execution_count": 11,
   "metadata": {
    "ExecuteTime": {
     "end_time": "2021-10-06T20:05:19.069338Z",
     "start_time": "2021-10-06T20:05:19.054377Z"
    }
   },
   "outputs": [
    {
     "data": {
      "text/plain": [
       "31142         NaN\n",
       "31143         NaN\n",
       "31744     $79,551\n",
       "31745    $105,656\n",
       "31746     $72,325\n",
       "           ...   \n",
       "34257         NaN\n",
       "34258         NaN\n",
       "34259         NaN\n",
       "34260         NaN\n",
       "34261         NaN\n",
       "Name: median_family_income, Length: 1839, dtype: object"
      ]
     },
     "execution_count": 11,
     "metadata": {},
     "output_type": "execute_result"
    }
   ],
   "source": [
    "df_income['median_family_income']"
   ]
  },
  {
   "cell_type": "code",
   "execution_count": 12,
   "metadata": {
    "ExecuteTime": {
     "end_time": "2021-10-06T20:05:19.084306Z",
     "start_time": "2021-10-06T20:05:19.071332Z"
    }
   },
   "outputs": [],
   "source": [
    "df_income['median_family_income'] = df_income['median_family_income'].str.strip('$\\n\\t')\n",
    "df_income['median_family_income'] = df_income['median_family_income'].str.replace(',','')\n",
    "df_income  = df_income[df_income['median_family_income'].notna()]\n",
    "df_income['median_family_income'] = df_income['median_family_income'].astype(int)\n",
    "\n",
    "\n",
    "\n",
    " "
   ]
  },
  {
   "cell_type": "code",
   "execution_count": 13,
   "metadata": {
    "ExecuteTime": {
     "end_time": "2021-10-06T20:05:19.115474Z",
     "start_time": "2021-10-06T20:05:19.086048Z"
    }
   },
   "outputs": [
    {
     "data": {
      "text/html": [
       "<div>\n",
       "<style scoped>\n",
       "    .dataframe tbody tr th:only-of-type {\n",
       "        vertical-align: middle;\n",
       "    }\n",
       "\n",
       "    .dataframe tbody tr th {\n",
       "        vertical-align: top;\n",
       "    }\n",
       "\n",
       "    .dataframe thead th {\n",
       "        text-align: right;\n",
       "    }\n",
       "</style>\n",
       "<table border=\"1\" class=\"dataframe\">\n",
       "  <thead>\n",
       "    <tr style=\"text-align: right;\">\n",
       "      <th></th>\n",
       "      <th>zipcode</th>\n",
       "      <th>population</th>\n",
       "      <th>median_family_income</th>\n",
       "      <th>Latitude</th>\n",
       "      <th>Longitude</th>\n",
       "      <th>state</th>\n",
       "    </tr>\n",
       "  </thead>\n",
       "  <tbody>\n",
       "    <tr>\n",
       "      <th>31744</th>\n",
       "      <td>75001</td>\n",
       "      <td>14,992</td>\n",
       "      <td>79551</td>\n",
       "      <td>32.959999</td>\n",
       "      <td>-96.838997</td>\n",
       "      <td>TX</td>\n",
       "    </tr>\n",
       "    <tr>\n",
       "      <th>31745</th>\n",
       "      <td>75002</td>\n",
       "      <td>71,253</td>\n",
       "      <td>105656</td>\n",
       "      <td>33.090000</td>\n",
       "      <td>-96.609001</td>\n",
       "      <td>TX</td>\n",
       "    </tr>\n",
       "    <tr>\n",
       "      <th>31746</th>\n",
       "      <td>75006</td>\n",
       "      <td>51,642</td>\n",
       "      <td>72325</td>\n",
       "      <td>32.962002</td>\n",
       "      <td>-96.899002</td>\n",
       "      <td>TX</td>\n",
       "    </tr>\n",
       "    <tr>\n",
       "      <th>31747</th>\n",
       "      <td>75007</td>\n",
       "      <td>55,500</td>\n",
       "      <td>96094</td>\n",
       "      <td>33.005001</td>\n",
       "      <td>-96.897003</td>\n",
       "      <td>TX</td>\n",
       "    </tr>\n",
       "    <tr>\n",
       "      <th>31748</th>\n",
       "      <td>75009</td>\n",
       "      <td>14,089</td>\n",
       "      <td>117857</td>\n",
       "      <td>33.339001</td>\n",
       "      <td>-96.752998</td>\n",
       "      <td>TX</td>\n",
       "    </tr>\n",
       "    <tr>\n",
       "      <th>...</th>\n",
       "      <td>...</td>\n",
       "      <td>...</td>\n",
       "      <td>...</td>\n",
       "      <td>...</td>\n",
       "      <td>...</td>\n",
       "      <td>...</td>\n",
       "    </tr>\n",
       "    <tr>\n",
       "      <th>34233</th>\n",
       "      <td>79932</td>\n",
       "      <td>28,243</td>\n",
       "      <td>75676</td>\n",
       "      <td>31.875000</td>\n",
       "      <td>-106.608002</td>\n",
       "      <td>TX</td>\n",
       "    </tr>\n",
       "    <tr>\n",
       "      <th>34234</th>\n",
       "      <td>79934</td>\n",
       "      <td>26,445</td>\n",
       "      <td>71037</td>\n",
       "      <td>31.951000</td>\n",
       "      <td>-106.433998</td>\n",
       "      <td>TX</td>\n",
       "    </tr>\n",
       "    <tr>\n",
       "      <th>34235</th>\n",
       "      <td>79935</td>\n",
       "      <td>17,850</td>\n",
       "      <td>61607</td>\n",
       "      <td>31.768000</td>\n",
       "      <td>-106.329002</td>\n",
       "      <td>TX</td>\n",
       "    </tr>\n",
       "    <tr>\n",
       "      <th>34236</th>\n",
       "      <td>79936</td>\n",
       "      <td>111,620</td>\n",
       "      <td>61016</td>\n",
       "      <td>31.777000</td>\n",
       "      <td>-106.296997</td>\n",
       "      <td>TX</td>\n",
       "    </tr>\n",
       "    <tr>\n",
       "      <th>34238</th>\n",
       "      <td>79938</td>\n",
       "      <td>84,237</td>\n",
       "      <td>62111</td>\n",
       "      <td>31.830000</td>\n",
       "      <td>-105.971001</td>\n",
       "      <td>TX</td>\n",
       "    </tr>\n",
       "  </tbody>\n",
       "</table>\n",
       "<p>1623 rows × 6 columns</p>\n",
       "</div>"
      ],
      "text/plain": [
       "       zipcode population  median_family_income   Latitude   Longitude state\n",
       "31744    75001     14,992                 79551  32.959999  -96.838997    TX\n",
       "31745    75002     71,253                105656  33.090000  -96.609001    TX\n",
       "31746    75006     51,642                 72325  32.962002  -96.899002    TX\n",
       "31747    75007     55,500                 96094  33.005001  -96.897003    TX\n",
       "31748    75009     14,089                117857  33.339001  -96.752998    TX\n",
       "...        ...        ...                   ...        ...         ...   ...\n",
       "34233    79932     28,243                 75676  31.875000 -106.608002    TX\n",
       "34234    79934     26,445                 71037  31.951000 -106.433998    TX\n",
       "34235    79935     17,850                 61607  31.768000 -106.329002    TX\n",
       "34236    79936    111,620                 61016  31.777000 -106.296997    TX\n",
       "34238    79938     84,237                 62111  31.830000 -105.971001    TX\n",
       "\n",
       "[1623 rows x 6 columns]"
      ]
     },
     "execution_count": 13,
     "metadata": {},
     "output_type": "execute_result"
    }
   ],
   "source": [
    "df_income"
   ]
  },
  {
   "cell_type": "code",
   "execution_count": 14,
   "metadata": {
    "ExecuteTime": {
     "end_time": "2021-10-06T20:05:19.131432Z",
     "start_time": "2021-10-06T20:05:19.116472Z"
    }
   },
   "outputs": [],
   "source": [
    "df_income['population'] = df_income['population'].str.replace(',','')\n",
    "df_income = df_income[df_income['population'].notna()]\n",
    "df_income['population'] = df_income['population'].astype(int)"
   ]
  },
  {
   "cell_type": "code",
   "execution_count": 15,
   "metadata": {
    "ExecuteTime": {
     "end_time": "2021-10-06T20:05:19.146392Z",
     "start_time": "2021-10-06T20:05:19.133429Z"
    }
   },
   "outputs": [
    {
     "name": "stdout",
     "output_type": "stream",
     "text": [
      "<class 'pandas.core.frame.DataFrame'>\n",
      "Int64Index: 1623 entries, 31744 to 34238\n",
      "Data columns (total 6 columns):\n",
      " #   Column                Non-Null Count  Dtype  \n",
      "---  ------                --------------  -----  \n",
      " 0   zipcode               1623 non-null   int64  \n",
      " 1   population            1623 non-null   int32  \n",
      " 2   median_family_income  1623 non-null   int32  \n",
      " 3   Latitude              1623 non-null   float64\n",
      " 4   Longitude             1623 non-null   float64\n",
      " 5   state                 1623 non-null   object \n",
      "dtypes: float64(2), int32(2), int64(1), object(1)\n",
      "memory usage: 76.1+ KB\n"
     ]
    }
   ],
   "source": [
    "df_income.info()"
   ]
  },
  {
   "cell_type": "code",
   "execution_count": 16,
   "metadata": {
    "ExecuteTime": {
     "end_time": "2021-10-06T20:05:19.162350Z",
     "start_time": "2021-10-06T20:05:19.148388Z"
    }
   },
   "outputs": [
    {
     "name": "stdout",
     "output_type": "stream",
     "text": [
      "<class 'pandas.core.frame.DataFrame'>\n",
      "Int64Index: 1623 entries, 31744 to 34238\n",
      "Data columns (total 6 columns):\n",
      " #   Column                Non-Null Count  Dtype  \n",
      "---  ------                --------------  -----  \n",
      " 0   zipcode               1623 non-null   int64  \n",
      " 1   population            1623 non-null   int32  \n",
      " 2   median_family_income  1623 non-null   int32  \n",
      " 3   Latitude              1623 non-null   float64\n",
      " 4   Longitude             1623 non-null   float64\n",
      " 5   state                 1623 non-null   object \n",
      "dtypes: float64(2), int32(2), int64(1), object(1)\n",
      "memory usage: 76.1+ KB\n"
     ]
    }
   ],
   "source": [
    "df_income.info()"
   ]
  },
  {
   "cell_type": "code",
   "execution_count": 17,
   "metadata": {
    "ExecuteTime": {
     "end_time": "2021-10-06T20:05:19.253725Z",
     "start_time": "2021-10-06T20:05:19.164345Z"
    }
   },
   "outputs": [],
   "source": [
    "df_merged = df.reset_index().merge(df_income, how=\"left\").set_index('date')\n"
   ]
  },
  {
   "cell_type": "code",
   "execution_count": 18,
   "metadata": {
    "ExecuteTime": {
     "end_time": "2021-10-06T20:05:19.440426Z",
     "start_time": "2021-10-06T20:05:19.257705Z"
    }
   },
   "outputs": [
    {
     "data": {
      "text/html": [
       "<div>\n",
       "<style scoped>\n",
       "    .dataframe tbody tr th:only-of-type {\n",
       "        vertical-align: middle;\n",
       "    }\n",
       "\n",
       "    .dataframe tbody tr th {\n",
       "        vertical-align: top;\n",
       "    }\n",
       "\n",
       "    .dataframe thead th {\n",
       "        text-align: right;\n",
       "    }\n",
       "</style>\n",
       "<table border=\"1\" class=\"dataframe\">\n",
       "  <thead>\n",
       "    <tr style=\"text-align: right;\">\n",
       "      <th></th>\n",
       "      <th>count</th>\n",
       "      <th>mean</th>\n",
       "      <th>std</th>\n",
       "      <th>min</th>\n",
       "      <th>25%</th>\n",
       "      <th>50%</th>\n",
       "      <th>75%</th>\n",
       "      <th>max</th>\n",
       "    </tr>\n",
       "  </thead>\n",
       "  <tbody>\n",
       "    <tr>\n",
       "      <th>zipcode</th>\n",
       "      <td>255096.0</td>\n",
       "      <td>77163.777546</td>\n",
       "      <td>1361.342308</td>\n",
       "      <td>75001.000000</td>\n",
       "      <td>76017.000000</td>\n",
       "      <td>77098.000000</td>\n",
       "      <td>78251.000000</td>\n",
       "      <td>7.993800e+04</td>\n",
       "    </tr>\n",
       "    <tr>\n",
       "      <th>ROI</th>\n",
       "      <td>250160.0</td>\n",
       "      <td>0.940549</td>\n",
       "      <td>0.418125</td>\n",
       "      <td>-0.375469</td>\n",
       "      <td>0.721048</td>\n",
       "      <td>0.903395</td>\n",
       "      <td>1.101759</td>\n",
       "      <td>6.550360e+00</td>\n",
       "    </tr>\n",
       "    <tr>\n",
       "      <th>std</th>\n",
       "      <td>255096.0</td>\n",
       "      <td>23762.532113</td>\n",
       "      <td>16134.709292</td>\n",
       "      <td>2684.773009</td>\n",
       "      <td>13998.832825</td>\n",
       "      <td>19663.932774</td>\n",
       "      <td>29134.083926</td>\n",
       "      <td>1.437548e+05</td>\n",
       "    </tr>\n",
       "    <tr>\n",
       "      <th>mean</th>\n",
       "      <td>255096.0</td>\n",
       "      <td>140540.600793</td>\n",
       "      <td>94822.092356</td>\n",
       "      <td>32718.292683</td>\n",
       "      <td>81482.641509</td>\n",
       "      <td>115224.150943</td>\n",
       "      <td>165333.207547</td>\n",
       "      <td>8.802596e+05</td>\n",
       "    </tr>\n",
       "    <tr>\n",
       "      <th>CV</th>\n",
       "      <td>255096.0</td>\n",
       "      <td>0.168955</td>\n",
       "      <td>0.040480</td>\n",
       "      <td>0.045182</td>\n",
       "      <td>0.144163</td>\n",
       "      <td>0.166917</td>\n",
       "      <td>0.189818</td>\n",
       "      <td>3.614458e-01</td>\n",
       "    </tr>\n",
       "    <tr>\n",
       "      <th>value</th>\n",
       "      <td>255096.0</td>\n",
       "      <td>140540.600793</td>\n",
       "      <td>99061.016727</td>\n",
       "      <td>24100.000000</td>\n",
       "      <td>79900.000000</td>\n",
       "      <td>113700.000000</td>\n",
       "      <td>165100.000000</td>\n",
       "      <td>1.268600e+06</td>\n",
       "    </tr>\n",
       "    <tr>\n",
       "      <th>year</th>\n",
       "      <td>255096.0</td>\n",
       "      <td>2006.908003</td>\n",
       "      <td>6.393508</td>\n",
       "      <td>1996.000000</td>\n",
       "      <td>2001.000000</td>\n",
       "      <td>2007.000000</td>\n",
       "      <td>2012.000000</td>\n",
       "      <td>2.018000e+03</td>\n",
       "    </tr>\n",
       "    <tr>\n",
       "      <th>population</th>\n",
       "      <td>252181.0</td>\n",
       "      <td>25939.370892</td>\n",
       "      <td>20385.536014</td>\n",
       "      <td>1056.000000</td>\n",
       "      <td>9761.000000</td>\n",
       "      <td>21879.000000</td>\n",
       "      <td>37281.000000</td>\n",
       "      <td>1.282940e+05</td>\n",
       "    </tr>\n",
       "    <tr>\n",
       "      <th>median_family_income</th>\n",
       "      <td>252181.0</td>\n",
       "      <td>77689.448301</td>\n",
       "      <td>32642.262099</td>\n",
       "      <td>21169.000000</td>\n",
       "      <td>56108.000000</td>\n",
       "      <td>69722.000000</td>\n",
       "      <td>90867.000000</td>\n",
       "      <td>2.500010e+05</td>\n",
       "    </tr>\n",
       "    <tr>\n",
       "      <th>Latitude</th>\n",
       "      <td>252181.0</td>\n",
       "      <td>31.108154</td>\n",
       "      <td>1.797547</td>\n",
       "      <td>25.944000</td>\n",
       "      <td>29.736000</td>\n",
       "      <td>30.805000</td>\n",
       "      <td>32.723999</td>\n",
       "      <td>3.604600e+01</td>\n",
       "    </tr>\n",
       "    <tr>\n",
       "      <th>Longitude</th>\n",
       "      <td>252181.0</td>\n",
       "      <td>-97.222148</td>\n",
       "      <td>2.252386</td>\n",
       "      <td>-106.608002</td>\n",
       "      <td>-97.957001</td>\n",
       "      <td>-97.019997</td>\n",
       "      <td>-95.523003</td>\n",
       "      <td>-9.361600e+01</td>\n",
       "    </tr>\n",
       "  </tbody>\n",
       "</table>\n",
       "</div>"
      ],
      "text/plain": [
       "                         count           mean           std           min  \\\n",
       "zipcode               255096.0   77163.777546   1361.342308  75001.000000   \n",
       "ROI                   250160.0       0.940549      0.418125     -0.375469   \n",
       "std                   255096.0   23762.532113  16134.709292   2684.773009   \n",
       "mean                  255096.0  140540.600793  94822.092356  32718.292683   \n",
       "CV                    255096.0       0.168955      0.040480      0.045182   \n",
       "value                 255096.0  140540.600793  99061.016727  24100.000000   \n",
       "year                  255096.0    2006.908003      6.393508   1996.000000   \n",
       "population            252181.0   25939.370892  20385.536014   1056.000000   \n",
       "median_family_income  252181.0   77689.448301  32642.262099  21169.000000   \n",
       "Latitude              252181.0      31.108154      1.797547     25.944000   \n",
       "Longitude             252181.0     -97.222148      2.252386   -106.608002   \n",
       "\n",
       "                               25%            50%            75%           max  \n",
       "zipcode               76017.000000   77098.000000   78251.000000  7.993800e+04  \n",
       "ROI                       0.721048       0.903395       1.101759  6.550360e+00  \n",
       "std                   13998.832825   19663.932774   29134.083926  1.437548e+05  \n",
       "mean                  81482.641509  115224.150943  165333.207547  8.802596e+05  \n",
       "CV                        0.144163       0.166917       0.189818  3.614458e-01  \n",
       "value                 79900.000000  113700.000000  165100.000000  1.268600e+06  \n",
       "year                   2001.000000    2007.000000    2012.000000  2.018000e+03  \n",
       "population             9761.000000   21879.000000   37281.000000  1.282940e+05  \n",
       "median_family_income  56108.000000   69722.000000   90867.000000  2.500010e+05  \n",
       "Latitude                 29.736000      30.805000      32.723999  3.604600e+01  \n",
       "Longitude               -97.957001     -97.019997     -95.523003 -9.361600e+01  "
      ]
     },
     "execution_count": 18,
     "metadata": {},
     "output_type": "execute_result"
    }
   ],
   "source": [
    "df_merged.describe().T"
   ]
  },
  {
   "cell_type": "markdown",
   "metadata": {},
   "source": [
    "# Filtering"
   ]
  },
  {
   "cell_type": "code",
   "execution_count": 19,
   "metadata": {
    "ExecuteTime": {
     "end_time": "2021-10-06T20:05:19.456384Z",
     "start_time": "2021-10-06T20:05:19.441389Z"
    }
   },
   "outputs": [],
   "source": [
    "df_merged_upper_pop = df_merged['population'].quantile(.75)\n",
    "df_filtered = df_merged[(df_merged['population'] > df_merged_upper_pop)]"
   ]
  },
  {
   "cell_type": "markdown",
   "metadata": {},
   "source": [
    "Get IQR of data based on salaries  "
   ]
  },
  {
   "cell_type": "code",
   "execution_count": 20,
   "metadata": {
    "ExecuteTime": {
     "end_time": "2021-10-06T20:05:19.487394Z",
     "start_time": "2021-10-06T20:05:19.458344Z"
    }
   },
   "outputs": [
    {
     "name": "stdout",
     "output_type": "stream",
     "text": [
      "<class 'pandas.core.frame.DataFrame'>\n",
      "DatetimeIndex: 31421 entries, 1996-04-01 to 2018-04-01\n",
      "Data columns (total 14 columns):\n",
      " #   Column                Non-Null Count  Dtype  \n",
      "---  ------                --------------  -----  \n",
      " 0   zipcode               31421 non-null  int64  \n",
      " 1   City                  31421 non-null  object \n",
      " 2   CountyName            31421 non-null  object \n",
      " 3   ROI                   31421 non-null  float64\n",
      " 4   std                   31421 non-null  float64\n",
      " 5   mean                  31421 non-null  float64\n",
      " 6   CV                    31421 non-null  float64\n",
      " 7   value                 31421 non-null  float64\n",
      " 8   year                  31421 non-null  int64  \n",
      " 9   population            31421 non-null  float64\n",
      " 10  median_family_income  31421 non-null  float64\n",
      " 11  Latitude              31421 non-null  float64\n",
      " 12  Longitude             31421 non-null  float64\n",
      " 13  state                 31421 non-null  object \n",
      "dtypes: float64(9), int64(2), object(3)\n",
      "memory usage: 3.6+ MB\n"
     ]
    }
   ],
   "source": [
    "# Select the first quantile\n",
    "q1 = df_filtered['value'].quantile(.25)\n",
    "\n",
    "# Select the third quantile\n",
    "q3 = df_filtered['value'].quantile(.75)\n",
    "\n",
    "\n",
    "# Create a filtered in between q1 & q3\n",
    "filtered = df_filtered[(df_filtered['value']>=q1) \n",
    "             & (df_filtered['value']<=q3)]\n",
    "df_filtered = pd.DataFrame(filtered)\n",
    "df_filtered.info()"
   ]
  },
  {
   "cell_type": "markdown",
   "metadata": {},
   "source": [
    "**Create Affordability Score**"
   ]
  },
  {
   "cell_type": "code",
   "execution_count": 21,
   "metadata": {
    "ExecuteTime": {
     "end_time": "2021-10-06T20:05:19.502480Z",
     "start_time": "2021-10-06T20:05:19.489389Z"
    }
   },
   "outputs": [],
   "source": [
    "# group by date and aggregate on median value\n",
    "df_filtered['median_house_price'] = df_filtered.groupby('date').aggregate({'value':'median'})\n",
    "df_filtered['affordability'] = df_filtered['value'] - df_filtered['median_family_income']/.12 "
   ]
  },
  {
   "cell_type": "code",
   "execution_count": 22,
   "metadata": {
    "ExecuteTime": {
     "end_time": "2021-10-06T20:05:19.518034Z",
     "start_time": "2021-10-06T20:05:19.504479Z"
    }
   },
   "outputs": [],
   "source": [
    "df_merged['affordability'] = df_merged['value'] -df_merged['median_family_income']/.12"
   ]
  },
  {
   "cell_type": "code",
   "execution_count": 23,
   "metadata": {
    "ExecuteTime": {
     "end_time": "2021-10-06T20:05:19.564871Z",
     "start_time": "2021-10-06T20:05:19.523951Z"
    }
   },
   "outputs": [
    {
     "data": {
      "text/html": [
       "<div>\n",
       "<style scoped>\n",
       "    .dataframe tbody tr th:only-of-type {\n",
       "        vertical-align: middle;\n",
       "    }\n",
       "\n",
       "    .dataframe tbody tr th {\n",
       "        vertical-align: top;\n",
       "    }\n",
       "\n",
       "    .dataframe thead th {\n",
       "        text-align: right;\n",
       "    }\n",
       "</style>\n",
       "<table border=\"1\" class=\"dataframe\">\n",
       "  <thead>\n",
       "    <tr style=\"text-align: right;\">\n",
       "      <th></th>\n",
       "      <th>zipcode</th>\n",
       "      <th>City</th>\n",
       "      <th>CountyName</th>\n",
       "      <th>ROI</th>\n",
       "      <th>std</th>\n",
       "      <th>mean</th>\n",
       "      <th>CV</th>\n",
       "      <th>value</th>\n",
       "      <th>year</th>\n",
       "      <th>population</th>\n",
       "      <th>median_family_income</th>\n",
       "      <th>Latitude</th>\n",
       "      <th>Longitude</th>\n",
       "      <th>state</th>\n",
       "      <th>median_house_price</th>\n",
       "      <th>affordability</th>\n",
       "      <th>affordability_score</th>\n",
       "    </tr>\n",
       "    <tr>\n",
       "      <th>date</th>\n",
       "      <th></th>\n",
       "      <th></th>\n",
       "      <th></th>\n",
       "      <th></th>\n",
       "      <th></th>\n",
       "      <th></th>\n",
       "      <th></th>\n",
       "      <th></th>\n",
       "      <th></th>\n",
       "      <th></th>\n",
       "      <th></th>\n",
       "      <th></th>\n",
       "      <th></th>\n",
       "      <th></th>\n",
       "      <th></th>\n",
       "      <th></th>\n",
       "      <th></th>\n",
       "    </tr>\n",
       "  </thead>\n",
       "  <tbody>\n",
       "    <tr>\n",
       "      <th>1996-04-01</th>\n",
       "      <td>78660</td>\n",
       "      <td>Pflugerville</td>\n",
       "      <td>Travis</td>\n",
       "      <td>0.748020</td>\n",
       "      <td>24894.592870</td>\n",
       "      <td>168193.584906</td>\n",
       "      <td>0.148012</td>\n",
       "      <td>138900.0</td>\n",
       "      <td>1996</td>\n",
       "      <td>91300.0</td>\n",
       "      <td>99733.0</td>\n",
       "      <td>30.440001</td>\n",
       "      <td>-97.595001</td>\n",
       "      <td>TX</td>\n",
       "      <td>124500.0</td>\n",
       "      <td>-692208.333333</td>\n",
       "      <td>0.409033</td>\n",
       "    </tr>\n",
       "    <tr>\n",
       "      <th>1996-04-01</th>\n",
       "      <td>77573</td>\n",
       "      <td>League City</td>\n",
       "      <td>Galveston</td>\n",
       "      <td>0.848656</td>\n",
       "      <td>29647.359699</td>\n",
       "      <td>183261.509434</td>\n",
       "      <td>0.161776</td>\n",
       "      <td>141400.0</td>\n",
       "      <td>1996</td>\n",
       "      <td>88131.0</td>\n",
       "      <td>121943.0</td>\n",
       "      <td>29.504000</td>\n",
       "      <td>-95.086998</td>\n",
       "      <td>TX</td>\n",
       "      <td>124500.0</td>\n",
       "      <td>-874791.666667</td>\n",
       "      <td>0.221835</td>\n",
       "    </tr>\n",
       "    <tr>\n",
       "      <th>1996-04-01</th>\n",
       "      <td>77584</td>\n",
       "      <td>Pearland</td>\n",
       "      <td>Brazoria</td>\n",
       "      <td>0.851986</td>\n",
       "      <td>27064.756641</td>\n",
       "      <td>188628.301887</td>\n",
       "      <td>0.143482</td>\n",
       "      <td>138500.0</td>\n",
       "      <td>1996</td>\n",
       "      <td>90372.0</td>\n",
       "      <td>126143.0</td>\n",
       "      <td>29.545000</td>\n",
       "      <td>-95.350998</td>\n",
       "      <td>TX</td>\n",
       "      <td>124500.0</td>\n",
       "      <td>-912691.666667</td>\n",
       "      <td>0.182977</td>\n",
       "    </tr>\n",
       "    <tr>\n",
       "      <th>1996-04-01</th>\n",
       "      <td>79912</td>\n",
       "      <td>El Paso</td>\n",
       "      <td>El Paso</td>\n",
       "      <td>0.571429</td>\n",
       "      <td>26245.575483</td>\n",
       "      <td>154012.075472</td>\n",
       "      <td>0.170412</td>\n",
       "      <td>119700.0</td>\n",
       "      <td>1996</td>\n",
       "      <td>78267.0</td>\n",
       "      <td>77146.0</td>\n",
       "      <td>31.849001</td>\n",
       "      <td>-106.533997</td>\n",
       "      <td>TX</td>\n",
       "      <td>124500.0</td>\n",
       "      <td>-523183.333333</td>\n",
       "      <td>0.582329</td>\n",
       "    </tr>\n",
       "    <tr>\n",
       "      <th>1996-04-01</th>\n",
       "      <td>78130</td>\n",
       "      <td>New Braunfels</td>\n",
       "      <td>Comal</td>\n",
       "      <td>0.784504</td>\n",
       "      <td>23349.861603</td>\n",
       "      <td>153368.301887</td>\n",
       "      <td>0.152247</td>\n",
       "      <td>123900.0</td>\n",
       "      <td>1996</td>\n",
       "      <td>77400.0</td>\n",
       "      <td>76824.0</td>\n",
       "      <td>29.694000</td>\n",
       "      <td>-98.072998</td>\n",
       "      <td>TX</td>\n",
       "      <td>124500.0</td>\n",
       "      <td>-516300.000000</td>\n",
       "      <td>0.589387</td>\n",
       "    </tr>\n",
       "    <tr>\n",
       "      <th>...</th>\n",
       "      <td>...</td>\n",
       "      <td>...</td>\n",
       "      <td>...</td>\n",
       "      <td>...</td>\n",
       "      <td>...</td>\n",
       "      <td>...</td>\n",
       "      <td>...</td>\n",
       "      <td>...</td>\n",
       "      <td>...</td>\n",
       "      <td>...</td>\n",
       "      <td>...</td>\n",
       "      <td>...</td>\n",
       "      <td>...</td>\n",
       "      <td>...</td>\n",
       "      <td>...</td>\n",
       "      <td>...</td>\n",
       "      <td>...</td>\n",
       "    </tr>\n",
       "    <tr>\n",
       "      <th>2018-04-01</th>\n",
       "      <td>78552</td>\n",
       "      <td>Harlingen</td>\n",
       "      <td>Cameron</td>\n",
       "      <td>0.468835</td>\n",
       "      <td>9181.535729</td>\n",
       "      <td>85940.377358</td>\n",
       "      <td>0.106836</td>\n",
       "      <td>108400.0</td>\n",
       "      <td>2018</td>\n",
       "      <td>37948.0</td>\n",
       "      <td>52891.0</td>\n",
       "      <td>26.194000</td>\n",
       "      <td>-97.750999</td>\n",
       "      <td>TX</td>\n",
       "      <td>144750.0</td>\n",
       "      <td>-332358.333333</td>\n",
       "      <td>0.777977</td>\n",
       "    </tr>\n",
       "    <tr>\n",
       "      <th>2018-04-01</th>\n",
       "      <td>77014</td>\n",
       "      <td>Houston</td>\n",
       "      <td>Harris</td>\n",
       "      <td>0.619588</td>\n",
       "      <td>15782.797130</td>\n",
       "      <td>122692.452830</td>\n",
       "      <td>0.128637</td>\n",
       "      <td>157100.0</td>\n",
       "      <td>2018</td>\n",
       "      <td>37488.0</td>\n",
       "      <td>55613.0</td>\n",
       "      <td>29.981001</td>\n",
       "      <td>-95.463997</td>\n",
       "      <td>TX</td>\n",
       "      <td>144750.0</td>\n",
       "      <td>-306341.666667</td>\n",
       "      <td>0.804651</td>\n",
       "    </tr>\n",
       "    <tr>\n",
       "      <th>2018-04-01</th>\n",
       "      <td>77506</td>\n",
       "      <td>Pasadena</td>\n",
       "      <td>Harris</td>\n",
       "      <td>1.255187</td>\n",
       "      <td>12538.003841</td>\n",
       "      <td>69982.264151</td>\n",
       "      <td>0.179160</td>\n",
       "      <td>108700.0</td>\n",
       "      <td>2018</td>\n",
       "      <td>38765.0</td>\n",
       "      <td>46462.0</td>\n",
       "      <td>29.714001</td>\n",
       "      <td>-95.199997</td>\n",
       "      <td>TX</td>\n",
       "      <td>144750.0</td>\n",
       "      <td>-278483.333333</td>\n",
       "      <td>0.833214</td>\n",
       "    </tr>\n",
       "    <tr>\n",
       "      <th>2018-04-01</th>\n",
       "      <td>77087</td>\n",
       "      <td>Houston</td>\n",
       "      <td>Harris</td>\n",
       "      <td>1.345521</td>\n",
       "      <td>16003.158261</td>\n",
       "      <td>80695.094340</td>\n",
       "      <td>0.198316</td>\n",
       "      <td>128300.0</td>\n",
       "      <td>2018</td>\n",
       "      <td>37886.0</td>\n",
       "      <td>43997.0</td>\n",
       "      <td>29.687000</td>\n",
       "      <td>-95.304001</td>\n",
       "      <td>TX</td>\n",
       "      <td>144750.0</td>\n",
       "      <td>-238341.666667</td>\n",
       "      <td>0.874370</td>\n",
       "    </tr>\n",
       "    <tr>\n",
       "      <th>2018-04-01</th>\n",
       "      <td>75224</td>\n",
       "      <td>Dallas</td>\n",
       "      <td>Dallas</td>\n",
       "      <td>1.667832</td>\n",
       "      <td>18519.476196</td>\n",
       "      <td>84335.094340</td>\n",
       "      <td>0.219594</td>\n",
       "      <td>152600.0</td>\n",
       "      <td>2018</td>\n",
       "      <td>37592.0</td>\n",
       "      <td>46872.0</td>\n",
       "      <td>32.710999</td>\n",
       "      <td>-96.838997</td>\n",
       "      <td>TX</td>\n",
       "      <td>144750.0</td>\n",
       "      <td>-238000.000000</td>\n",
       "      <td>0.874720</td>\n",
       "    </tr>\n",
       "  </tbody>\n",
       "</table>\n",
       "<p>31421 rows × 17 columns</p>\n",
       "</div>"
      ],
      "text/plain": [
       "            zipcode           City CountyName       ROI           std  \\\n",
       "date                                                                    \n",
       "1996-04-01    78660   Pflugerville     Travis  0.748020  24894.592870   \n",
       "1996-04-01    77573    League City  Galveston  0.848656  29647.359699   \n",
       "1996-04-01    77584       Pearland   Brazoria  0.851986  27064.756641   \n",
       "1996-04-01    79912        El Paso    El Paso  0.571429  26245.575483   \n",
       "1996-04-01    78130  New Braunfels      Comal  0.784504  23349.861603   \n",
       "...             ...            ...        ...       ...           ...   \n",
       "2018-04-01    78552      Harlingen    Cameron  0.468835   9181.535729   \n",
       "2018-04-01    77014        Houston     Harris  0.619588  15782.797130   \n",
       "2018-04-01    77506       Pasadena     Harris  1.255187  12538.003841   \n",
       "2018-04-01    77087        Houston     Harris  1.345521  16003.158261   \n",
       "2018-04-01    75224         Dallas     Dallas  1.667832  18519.476196   \n",
       "\n",
       "                     mean        CV     value  year  population  \\\n",
       "date                                                              \n",
       "1996-04-01  168193.584906  0.148012  138900.0  1996     91300.0   \n",
       "1996-04-01  183261.509434  0.161776  141400.0  1996     88131.0   \n",
       "1996-04-01  188628.301887  0.143482  138500.0  1996     90372.0   \n",
       "1996-04-01  154012.075472  0.170412  119700.0  1996     78267.0   \n",
       "1996-04-01  153368.301887  0.152247  123900.0  1996     77400.0   \n",
       "...                   ...       ...       ...   ...         ...   \n",
       "2018-04-01   85940.377358  0.106836  108400.0  2018     37948.0   \n",
       "2018-04-01  122692.452830  0.128637  157100.0  2018     37488.0   \n",
       "2018-04-01   69982.264151  0.179160  108700.0  2018     38765.0   \n",
       "2018-04-01   80695.094340  0.198316  128300.0  2018     37886.0   \n",
       "2018-04-01   84335.094340  0.219594  152600.0  2018     37592.0   \n",
       "\n",
       "            median_family_income   Latitude   Longitude state  \\\n",
       "date                                                            \n",
       "1996-04-01               99733.0  30.440001  -97.595001    TX   \n",
       "1996-04-01              121943.0  29.504000  -95.086998    TX   \n",
       "1996-04-01              126143.0  29.545000  -95.350998    TX   \n",
       "1996-04-01               77146.0  31.849001 -106.533997    TX   \n",
       "1996-04-01               76824.0  29.694000  -98.072998    TX   \n",
       "...                          ...        ...         ...   ...   \n",
       "2018-04-01               52891.0  26.194000  -97.750999    TX   \n",
       "2018-04-01               55613.0  29.981001  -95.463997    TX   \n",
       "2018-04-01               46462.0  29.714001  -95.199997    TX   \n",
       "2018-04-01               43997.0  29.687000  -95.304001    TX   \n",
       "2018-04-01               46872.0  32.710999  -96.838997    TX   \n",
       "\n",
       "            median_house_price  affordability  affordability_score  \n",
       "date                                                                \n",
       "1996-04-01            124500.0 -692208.333333             0.409033  \n",
       "1996-04-01            124500.0 -874791.666667             0.221835  \n",
       "1996-04-01            124500.0 -912691.666667             0.182977  \n",
       "1996-04-01            124500.0 -523183.333333             0.582329  \n",
       "1996-04-01            124500.0 -516300.000000             0.589387  \n",
       "...                        ...            ...                  ...  \n",
       "2018-04-01            144750.0 -332358.333333             0.777977  \n",
       "2018-04-01            144750.0 -306341.666667             0.804651  \n",
       "2018-04-01            144750.0 -278483.333333             0.833214  \n",
       "2018-04-01            144750.0 -238341.666667             0.874370  \n",
       "2018-04-01            144750.0 -238000.000000             0.874720  \n",
       "\n",
       "[31421 rows x 17 columns]"
      ]
     },
     "execution_count": 23,
     "metadata": {},
     "output_type": "execute_result"
    }
   ],
   "source": [
    "# create function to normalize data\n",
    "def normalize_data(data):\n",
    "    return (data - np.min(data)) / (np.max(data) - np.min(data))\n",
    "df_filtered['affordability_score']  = normalize_data(df_filtered['affordability'])\n",
    "df_filtered"
   ]
  },
  {
   "cell_type": "code",
   "execution_count": 24,
   "metadata": {
    "ExecuteTime": {
     "end_time": "2021-10-06T20:05:19.595154Z",
     "start_time": "2021-10-06T20:05:19.567835Z"
    }
   },
   "outputs": [
    {
     "data": {
      "text/plain": [
       "date                    0\n",
       "zipcode                 0\n",
       "City                    0\n",
       "CountyName              0\n",
       "ROI                     0\n",
       "std                     0\n",
       "mean                    0\n",
       "CV                      0\n",
       "value                   0\n",
       "year                    0\n",
       "population              0\n",
       "median_family_income    0\n",
       "Latitude                0\n",
       "Longitude               0\n",
       "state                   0\n",
       "median_house_price      0\n",
       "affordability           0\n",
       "affordability_score     0\n",
       "dtype: int64"
      ]
     },
     "execution_count": 24,
     "metadata": {},
     "output_type": "execute_result"
    }
   ],
   "source": [
    "# filtering to the 50th percentile\n",
    "top_20 = df_filtered['affordability_score'].quantile(.5)\n",
    "df_filtered_20 = df_filtered[(df_filtered['affordability_score'] < top_20)]\n",
    "df_filtered_20.reset_index().isna().sum()"
   ]
  },
  {
   "cell_type": "code",
   "execution_count": 25,
   "metadata": {
    "ExecuteTime": {
     "end_time": "2021-10-06T20:05:19.610234Z",
     "start_time": "2021-10-06T20:05:19.596795Z"
    }
   },
   "outputs": [],
   "source": [
    "df_filtered_20 = df_filtered_20['2017-01-01':].dropna()"
   ]
  },
  {
   "cell_type": "code",
   "execution_count": 26,
   "metadata": {
    "ExecuteTime": {
     "end_time": "2021-10-06T20:05:19.640803Z",
     "start_time": "2021-10-06T20:05:19.612743Z"
    }
   },
   "outputs": [
    {
     "data": {
      "text/html": [
       "<div>\n",
       "<style scoped>\n",
       "    .dataframe tbody tr th:only-of-type {\n",
       "        vertical-align: middle;\n",
       "    }\n",
       "\n",
       "    .dataframe tbody tr th {\n",
       "        vertical-align: top;\n",
       "    }\n",
       "\n",
       "    .dataframe thead th {\n",
       "        text-align: right;\n",
       "    }\n",
       "</style>\n",
       "<table border=\"1\" class=\"dataframe\">\n",
       "  <thead>\n",
       "    <tr style=\"text-align: right;\">\n",
       "      <th></th>\n",
       "      <th>zipcode</th>\n",
       "      <th>City</th>\n",
       "      <th>CountyName</th>\n",
       "      <th>ROI</th>\n",
       "      <th>std</th>\n",
       "      <th>mean</th>\n",
       "      <th>CV</th>\n",
       "      <th>value</th>\n",
       "      <th>year</th>\n",
       "      <th>population</th>\n",
       "      <th>median_family_income</th>\n",
       "      <th>Latitude</th>\n",
       "      <th>Longitude</th>\n",
       "      <th>state</th>\n",
       "      <th>median_house_price</th>\n",
       "      <th>affordability</th>\n",
       "      <th>affordability_score</th>\n",
       "    </tr>\n",
       "    <tr>\n",
       "      <th>date</th>\n",
       "      <th></th>\n",
       "      <th></th>\n",
       "      <th></th>\n",
       "      <th></th>\n",
       "      <th></th>\n",
       "      <th></th>\n",
       "      <th></th>\n",
       "      <th></th>\n",
       "      <th></th>\n",
       "      <th></th>\n",
       "      <th></th>\n",
       "      <th></th>\n",
       "      <th></th>\n",
       "      <th></th>\n",
       "      <th></th>\n",
       "      <th></th>\n",
       "      <th></th>\n",
       "    </tr>\n",
       "  </thead>\n",
       "  <tbody>\n",
       "    <tr>\n",
       "      <th>2017-01-01</th>\n",
       "      <td>79423</td>\n",
       "      <td>Lubbock</td>\n",
       "      <td>Lubbock</td>\n",
       "      <td>1.082037</td>\n",
       "      <td>21451.329003</td>\n",
       "      <td>105156.226415</td>\n",
       "      <td>0.203995</td>\n",
       "      <td>139000.0</td>\n",
       "      <td>2017</td>\n",
       "      <td>40303.0</td>\n",
       "      <td>82989.0</td>\n",
       "      <td>33.439999</td>\n",
       "      <td>-101.855003</td>\n",
       "      <td>TX</td>\n",
       "      <td>145050.0</td>\n",
       "      <td>-552575.000000</td>\n",
       "      <td>0.552195</td>\n",
       "    </tr>\n",
       "    <tr>\n",
       "      <th>2017-01-01</th>\n",
       "      <td>77571</td>\n",
       "      <td>La Porte</td>\n",
       "      <td>Harris</td>\n",
       "      <td>1.040936</td>\n",
       "      <td>20507.800452</td>\n",
       "      <td>116197.358491</td>\n",
       "      <td>0.176491</td>\n",
       "      <td>153100.0</td>\n",
       "      <td>2017</td>\n",
       "      <td>37427.0</td>\n",
       "      <td>85150.0</td>\n",
       "      <td>29.688000</td>\n",
       "      <td>-95.056999</td>\n",
       "      <td>TX</td>\n",
       "      <td>145050.0</td>\n",
       "      <td>-556483.333333</td>\n",
       "      <td>0.548188</td>\n",
       "    </tr>\n",
       "    <tr>\n",
       "      <th>2017-01-01</th>\n",
       "      <td>76108</td>\n",
       "      <td>Fort Worth</td>\n",
       "      <td>Tarrant</td>\n",
       "      <td>1.013480</td>\n",
       "      <td>17152.126989</td>\n",
       "      <td>106005.660377</td>\n",
       "      <td>0.161804</td>\n",
       "      <td>143500.0</td>\n",
       "      <td>2017</td>\n",
       "      <td>43169.0</td>\n",
       "      <td>80040.0</td>\n",
       "      <td>32.787998</td>\n",
       "      <td>-97.524002</td>\n",
       "      <td>TX</td>\n",
       "      <td>145050.0</td>\n",
       "      <td>-523500.000000</td>\n",
       "      <td>0.582005</td>\n",
       "    </tr>\n",
       "    <tr>\n",
       "      <th>2017-01-01</th>\n",
       "      <td>75052</td>\n",
       "      <td>Grand Prairie</td>\n",
       "      <td>Dallas</td>\n",
       "      <td>0.995040</td>\n",
       "      <td>19370.586349</td>\n",
       "      <td>134230.188679</td>\n",
       "      <td>0.144309</td>\n",
       "      <td>176200.0</td>\n",
       "      <td>2017</td>\n",
       "      <td>95495.0</td>\n",
       "      <td>85220.0</td>\n",
       "      <td>32.665001</td>\n",
       "      <td>-97.025002</td>\n",
       "      <td>TX</td>\n",
       "      <td>145050.0</td>\n",
       "      <td>-533966.666667</td>\n",
       "      <td>0.571274</td>\n",
       "    </tr>\n",
       "    <tr>\n",
       "      <th>2017-01-01</th>\n",
       "      <td>75104</td>\n",
       "      <td>Cedar Hill</td>\n",
       "      <td>Dallas</td>\n",
       "      <td>0.954222</td>\n",
       "      <td>18302.905606</td>\n",
       "      <td>129367.924528</td>\n",
       "      <td>0.141479</td>\n",
       "      <td>166100.0</td>\n",
       "      <td>2017</td>\n",
       "      <td>49171.0</td>\n",
       "      <td>83143.0</td>\n",
       "      <td>32.580002</td>\n",
       "      <td>-96.964996</td>\n",
       "      <td>TX</td>\n",
       "      <td>145050.0</td>\n",
       "      <td>-526758.333333</td>\n",
       "      <td>0.578664</td>\n",
       "    </tr>\n",
       "  </tbody>\n",
       "</table>\n",
       "</div>"
      ],
      "text/plain": [
       "            zipcode           City CountyName       ROI           std  \\\n",
       "date                                                                    \n",
       "2017-01-01    79423        Lubbock    Lubbock  1.082037  21451.329003   \n",
       "2017-01-01    77571       La Porte     Harris  1.040936  20507.800452   \n",
       "2017-01-01    76108     Fort Worth    Tarrant  1.013480  17152.126989   \n",
       "2017-01-01    75052  Grand Prairie     Dallas  0.995040  19370.586349   \n",
       "2017-01-01    75104     Cedar Hill     Dallas  0.954222  18302.905606   \n",
       "\n",
       "                     mean        CV     value  year  population  \\\n",
       "date                                                              \n",
       "2017-01-01  105156.226415  0.203995  139000.0  2017     40303.0   \n",
       "2017-01-01  116197.358491  0.176491  153100.0  2017     37427.0   \n",
       "2017-01-01  106005.660377  0.161804  143500.0  2017     43169.0   \n",
       "2017-01-01  134230.188679  0.144309  176200.0  2017     95495.0   \n",
       "2017-01-01  129367.924528  0.141479  166100.0  2017     49171.0   \n",
       "\n",
       "            median_family_income   Latitude   Longitude state  \\\n",
       "date                                                            \n",
       "2017-01-01               82989.0  33.439999 -101.855003    TX   \n",
       "2017-01-01               85150.0  29.688000  -95.056999    TX   \n",
       "2017-01-01               80040.0  32.787998  -97.524002    TX   \n",
       "2017-01-01               85220.0  32.665001  -97.025002    TX   \n",
       "2017-01-01               83143.0  32.580002  -96.964996    TX   \n",
       "\n",
       "            median_house_price  affordability  affordability_score  \n",
       "date                                                                \n",
       "2017-01-01            145050.0 -552575.000000             0.552195  \n",
       "2017-01-01            145050.0 -556483.333333             0.548188  \n",
       "2017-01-01            145050.0 -523500.000000             0.582005  \n",
       "2017-01-01            145050.0 -533966.666667             0.571274  \n",
       "2017-01-01            145050.0 -526758.333333             0.578664  "
      ]
     },
     "execution_count": 26,
     "metadata": {},
     "output_type": "execute_result"
    }
   ],
   "source": [
    "df_filtered_20 = df_filtered_20.reset_index()\n",
    "df_filtered_20 = df_filtered_20.loc[df_filtered_20.groupby(\"zipcode\")[\"ROI\"].idxmax()].sort_values('ROI',axis=0,ascending=False)[:5]\n",
    "df_filtered_20.set_index('date',inplace=True)\n",
    "df_filtered_20\n"
   ]
  },
  {
   "cell_type": "markdown",
   "metadata": {},
   "source": [
    "# EDA"
   ]
  },
  {
   "cell_type": "markdown",
   "metadata": {},
   "source": [
    "Create DataFrame to perform stationarity checks and transformations"
   ]
  },
  {
   "cell_type": "code",
   "execution_count": 27,
   "metadata": {
    "ExecuteTime": {
     "end_time": "2021-10-06T20:05:19.655949Z",
     "start_time": "2021-10-06T20:05:19.642873Z"
    }
   },
   "outputs": [
    {
     "data": {
      "text/plain": [
       "79705    265\n",
       "75650    265\n",
       "78732    265\n",
       "76559    265\n",
       "78220    265\n",
       "        ... \n",
       "79329     58\n",
       "79836     58\n",
       "78593     52\n",
       "75941     52\n",
       "75210     52\n",
       "Name: zipcode, Length: 989, dtype: int64"
      ]
     },
     "execution_count": 27,
     "metadata": {},
     "output_type": "execute_result"
    }
   ],
   "source": [
    "df_merged['zipcode'].value_counts()\n"
   ]
  },
  {
   "cell_type": "code",
   "execution_count": 28,
   "metadata": {
    "ExecuteTime": {
     "end_time": "2021-10-06T20:05:19.701985Z",
     "start_time": "2021-10-06T20:05:19.657553Z"
    }
   },
   "outputs": [
    {
     "data": {
      "text/html": [
       "<div>\n",
       "<style scoped>\n",
       "    .dataframe tbody tr th:only-of-type {\n",
       "        vertical-align: middle;\n",
       "    }\n",
       "\n",
       "    .dataframe tbody tr th {\n",
       "        vertical-align: top;\n",
       "    }\n",
       "\n",
       "    .dataframe thead th {\n",
       "        text-align: right;\n",
       "    }\n",
       "</style>\n",
       "<table border=\"1\" class=\"dataframe\">\n",
       "  <thead>\n",
       "    <tr style=\"text-align: right;\">\n",
       "      <th></th>\n",
       "      <th>zipcode</th>\n",
       "      <th>City</th>\n",
       "      <th>CountyName</th>\n",
       "      <th>ROI</th>\n",
       "      <th>std</th>\n",
       "      <th>mean</th>\n",
       "      <th>CV</th>\n",
       "      <th>value</th>\n",
       "      <th>year</th>\n",
       "      <th>population</th>\n",
       "      <th>median_family_income</th>\n",
       "      <th>Latitude</th>\n",
       "      <th>Longitude</th>\n",
       "      <th>state</th>\n",
       "      <th>affordability</th>\n",
       "    </tr>\n",
       "    <tr>\n",
       "      <th>date</th>\n",
       "      <th></th>\n",
       "      <th></th>\n",
       "      <th></th>\n",
       "      <th></th>\n",
       "      <th></th>\n",
       "      <th></th>\n",
       "      <th></th>\n",
       "      <th></th>\n",
       "      <th></th>\n",
       "      <th></th>\n",
       "      <th></th>\n",
       "      <th></th>\n",
       "      <th></th>\n",
       "      <th></th>\n",
       "      <th></th>\n",
       "    </tr>\n",
       "  </thead>\n",
       "  <tbody>\n",
       "    <tr>\n",
       "      <th>1996-04-01</th>\n",
       "      <td>75062</td>\n",
       "      <td>Irving</td>\n",
       "      <td>Dallas</td>\n",
       "      <td>1.261283</td>\n",
       "      <td>20861.130887</td>\n",
       "      <td>117610.566038</td>\n",
       "      <td>0.177375</td>\n",
       "      <td>84200.0</td>\n",
       "      <td>1996</td>\n",
       "      <td>49306.0</td>\n",
       "      <td>61189.0</td>\n",
       "      <td>32.847000</td>\n",
       "      <td>-96.958000</td>\n",
       "      <td>TX</td>\n",
       "      <td>-425708.333333</td>\n",
       "    </tr>\n",
       "    <tr>\n",
       "      <th>1996-04-01</th>\n",
       "      <td>75104</td>\n",
       "      <td>Cedar Hill</td>\n",
       "      <td>Dallas</td>\n",
       "      <td>0.954222</td>\n",
       "      <td>18302.905606</td>\n",
       "      <td>129367.924528</td>\n",
       "      <td>0.141479</td>\n",
       "      <td>98300.0</td>\n",
       "      <td>1996</td>\n",
       "      <td>49171.0</td>\n",
       "      <td>83143.0</td>\n",
       "      <td>32.580002</td>\n",
       "      <td>-96.964996</td>\n",
       "      <td>TX</td>\n",
       "      <td>-594558.333333</td>\n",
       "    </tr>\n",
       "    <tr>\n",
       "      <th>1996-04-01</th>\n",
       "      <td>76108</td>\n",
       "      <td>Fort Worth</td>\n",
       "      <td>Tarrant</td>\n",
       "      <td>1.013480</td>\n",
       "      <td>17152.126989</td>\n",
       "      <td>106005.660377</td>\n",
       "      <td>0.161804</td>\n",
       "      <td>81600.0</td>\n",
       "      <td>1996</td>\n",
       "      <td>43169.0</td>\n",
       "      <td>80040.0</td>\n",
       "      <td>32.787998</td>\n",
       "      <td>-97.524002</td>\n",
       "      <td>TX</td>\n",
       "      <td>-585400.000000</td>\n",
       "    </tr>\n",
       "    <tr>\n",
       "      <th>1996-04-01</th>\n",
       "      <td>79423</td>\n",
       "      <td>Lubbock</td>\n",
       "      <td>Lubbock</td>\n",
       "      <td>1.082037</td>\n",
       "      <td>21451.329003</td>\n",
       "      <td>105156.226415</td>\n",
       "      <td>0.203995</td>\n",
       "      <td>70700.0</td>\n",
       "      <td>1996</td>\n",
       "      <td>40303.0</td>\n",
       "      <td>82989.0</td>\n",
       "      <td>33.439999</td>\n",
       "      <td>-101.855003</td>\n",
       "      <td>TX</td>\n",
       "      <td>-620875.000000</td>\n",
       "    </tr>\n",
       "    <tr>\n",
       "      <th>1996-04-01</th>\n",
       "      <td>77571</td>\n",
       "      <td>La Porte</td>\n",
       "      <td>Harris</td>\n",
       "      <td>1.040936</td>\n",
       "      <td>20507.800452</td>\n",
       "      <td>116197.358491</td>\n",
       "      <td>0.176491</td>\n",
       "      <td>85500.0</td>\n",
       "      <td>1996</td>\n",
       "      <td>37427.0</td>\n",
       "      <td>85150.0</td>\n",
       "      <td>29.688000</td>\n",
       "      <td>-95.056999</td>\n",
       "      <td>TX</td>\n",
       "      <td>-624083.333333</td>\n",
       "    </tr>\n",
       "    <tr>\n",
       "      <th>...</th>\n",
       "      <td>...</td>\n",
       "      <td>...</td>\n",
       "      <td>...</td>\n",
       "      <td>...</td>\n",
       "      <td>...</td>\n",
       "      <td>...</td>\n",
       "      <td>...</td>\n",
       "      <td>...</td>\n",
       "      <td>...</td>\n",
       "      <td>...</td>\n",
       "      <td>...</td>\n",
       "      <td>...</td>\n",
       "      <td>...</td>\n",
       "      <td>...</td>\n",
       "      <td>...</td>\n",
       "    </tr>\n",
       "    <tr>\n",
       "      <th>2018-04-01</th>\n",
       "      <td>75062</td>\n",
       "      <td>Irving</td>\n",
       "      <td>Dallas</td>\n",
       "      <td>1.261283</td>\n",
       "      <td>20861.130887</td>\n",
       "      <td>117610.566038</td>\n",
       "      <td>0.177375</td>\n",
       "      <td>190400.0</td>\n",
       "      <td>2018</td>\n",
       "      <td>49306.0</td>\n",
       "      <td>61189.0</td>\n",
       "      <td>32.847000</td>\n",
       "      <td>-96.958000</td>\n",
       "      <td>TX</td>\n",
       "      <td>-319508.333333</td>\n",
       "    </tr>\n",
       "    <tr>\n",
       "      <th>2018-04-01</th>\n",
       "      <td>75104</td>\n",
       "      <td>Cedar Hill</td>\n",
       "      <td>Dallas</td>\n",
       "      <td>0.954222</td>\n",
       "      <td>18302.905606</td>\n",
       "      <td>129367.924528</td>\n",
       "      <td>0.141479</td>\n",
       "      <td>192100.0</td>\n",
       "      <td>2018</td>\n",
       "      <td>49171.0</td>\n",
       "      <td>83143.0</td>\n",
       "      <td>32.580002</td>\n",
       "      <td>-96.964996</td>\n",
       "      <td>TX</td>\n",
       "      <td>-500758.333333</td>\n",
       "    </tr>\n",
       "    <tr>\n",
       "      <th>2018-04-01</th>\n",
       "      <td>76108</td>\n",
       "      <td>Fort Worth</td>\n",
       "      <td>Tarrant</td>\n",
       "      <td>1.013480</td>\n",
       "      <td>17152.126989</td>\n",
       "      <td>106005.660377</td>\n",
       "      <td>0.161804</td>\n",
       "      <td>164300.0</td>\n",
       "      <td>2018</td>\n",
       "      <td>43169.0</td>\n",
       "      <td>80040.0</td>\n",
       "      <td>32.787998</td>\n",
       "      <td>-97.524002</td>\n",
       "      <td>TX</td>\n",
       "      <td>-502700.000000</td>\n",
       "    </tr>\n",
       "    <tr>\n",
       "      <th>2018-04-01</th>\n",
       "      <td>79423</td>\n",
       "      <td>Lubbock</td>\n",
       "      <td>Lubbock</td>\n",
       "      <td>1.082037</td>\n",
       "      <td>21451.329003</td>\n",
       "      <td>105156.226415</td>\n",
       "      <td>0.203995</td>\n",
       "      <td>147200.0</td>\n",
       "      <td>2018</td>\n",
       "      <td>40303.0</td>\n",
       "      <td>82989.0</td>\n",
       "      <td>33.439999</td>\n",
       "      <td>-101.855003</td>\n",
       "      <td>TX</td>\n",
       "      <td>-544375.000000</td>\n",
       "    </tr>\n",
       "    <tr>\n",
       "      <th>2018-04-01</th>\n",
       "      <td>77571</td>\n",
       "      <td>La Porte</td>\n",
       "      <td>Harris</td>\n",
       "      <td>1.040936</td>\n",
       "      <td>20507.800452</td>\n",
       "      <td>116197.358491</td>\n",
       "      <td>0.176491</td>\n",
       "      <td>174500.0</td>\n",
       "      <td>2018</td>\n",
       "      <td>37427.0</td>\n",
       "      <td>85150.0</td>\n",
       "      <td>29.688000</td>\n",
       "      <td>-95.056999</td>\n",
       "      <td>TX</td>\n",
       "      <td>-535083.333333</td>\n",
       "    </tr>\n",
       "  </tbody>\n",
       "</table>\n",
       "<p>1325 rows × 15 columns</p>\n",
       "</div>"
      ],
      "text/plain": [
       "            zipcode        City CountyName       ROI           std  \\\n",
       "date                                                                 \n",
       "1996-04-01    75062      Irving     Dallas  1.261283  20861.130887   \n",
       "1996-04-01    75104  Cedar Hill     Dallas  0.954222  18302.905606   \n",
       "1996-04-01    76108  Fort Worth    Tarrant  1.013480  17152.126989   \n",
       "1996-04-01    79423     Lubbock    Lubbock  1.082037  21451.329003   \n",
       "1996-04-01    77571    La Porte     Harris  1.040936  20507.800452   \n",
       "...             ...         ...        ...       ...           ...   \n",
       "2018-04-01    75062      Irving     Dallas  1.261283  20861.130887   \n",
       "2018-04-01    75104  Cedar Hill     Dallas  0.954222  18302.905606   \n",
       "2018-04-01    76108  Fort Worth    Tarrant  1.013480  17152.126989   \n",
       "2018-04-01    79423     Lubbock    Lubbock  1.082037  21451.329003   \n",
       "2018-04-01    77571    La Porte     Harris  1.040936  20507.800452   \n",
       "\n",
       "                     mean        CV     value  year  population  \\\n",
       "date                                                              \n",
       "1996-04-01  117610.566038  0.177375   84200.0  1996     49306.0   \n",
       "1996-04-01  129367.924528  0.141479   98300.0  1996     49171.0   \n",
       "1996-04-01  106005.660377  0.161804   81600.0  1996     43169.0   \n",
       "1996-04-01  105156.226415  0.203995   70700.0  1996     40303.0   \n",
       "1996-04-01  116197.358491  0.176491   85500.0  1996     37427.0   \n",
       "...                   ...       ...       ...   ...         ...   \n",
       "2018-04-01  117610.566038  0.177375  190400.0  2018     49306.0   \n",
       "2018-04-01  129367.924528  0.141479  192100.0  2018     49171.0   \n",
       "2018-04-01  106005.660377  0.161804  164300.0  2018     43169.0   \n",
       "2018-04-01  105156.226415  0.203995  147200.0  2018     40303.0   \n",
       "2018-04-01  116197.358491  0.176491  174500.0  2018     37427.0   \n",
       "\n",
       "            median_family_income   Latitude   Longitude state  affordability  \n",
       "date                                                                          \n",
       "1996-04-01               61189.0  32.847000  -96.958000    TX -425708.333333  \n",
       "1996-04-01               83143.0  32.580002  -96.964996    TX -594558.333333  \n",
       "1996-04-01               80040.0  32.787998  -97.524002    TX -585400.000000  \n",
       "1996-04-01               82989.0  33.439999 -101.855003    TX -620875.000000  \n",
       "1996-04-01               85150.0  29.688000  -95.056999    TX -624083.333333  \n",
       "...                          ...        ...         ...   ...            ...  \n",
       "2018-04-01               61189.0  32.847000  -96.958000    TX -319508.333333  \n",
       "2018-04-01               83143.0  32.580002  -96.964996    TX -500758.333333  \n",
       "2018-04-01               80040.0  32.787998  -97.524002    TX -502700.000000  \n",
       "2018-04-01               82989.0  33.439999 -101.855003    TX -544375.000000  \n",
       "2018-04-01               85150.0  29.688000  -95.056999    TX -535083.333333  \n",
       "\n",
       "[1325 rows x 15 columns]"
      ]
     },
     "execution_count": 28,
     "metadata": {},
     "output_type": "execute_result"
    }
   ],
   "source": [
    "zipcodes =[79423, 77571, 75062, 76108, 75104]\n",
    "df_merged = df_merged[df_merged['zipcode'].isin(zipcodes)]\n",
    "df_merged"
   ]
  },
  {
   "cell_type": "code",
   "execution_count": 29,
   "metadata": {
    "ExecuteTime": {
     "end_time": "2021-10-06T20:05:19.716938Z",
     "start_time": "2021-10-06T20:05:19.704973Z"
    }
   },
   "outputs": [],
   "source": [
    "df_prices = pd.DataFrame(df_merged[['zipcode', 'value']], index = df_merged.index)\n",
    "df_prices.reset_index(inplace=True)"
   ]
  },
  {
   "cell_type": "code",
   "execution_count": 30,
   "metadata": {
    "ExecuteTime": {
     "end_time": "2021-10-06T20:05:19.747888Z",
     "start_time": "2021-10-06T20:05:19.718933Z"
    }
   },
   "outputs": [
    {
     "data": {
      "text/html": [
       "<div>\n",
       "<style scoped>\n",
       "    .dataframe tbody tr th:only-of-type {\n",
       "        vertical-align: middle;\n",
       "    }\n",
       "\n",
       "    .dataframe tbody tr th {\n",
       "        vertical-align: top;\n",
       "    }\n",
       "\n",
       "    .dataframe thead th {\n",
       "        text-align: right;\n",
       "    }\n",
       "</style>\n",
       "<table border=\"1\" class=\"dataframe\">\n",
       "  <thead>\n",
       "    <tr style=\"text-align: right;\">\n",
       "      <th>zipcode</th>\n",
       "      <th>75062</th>\n",
       "      <th>75104</th>\n",
       "      <th>76108</th>\n",
       "      <th>77571</th>\n",
       "      <th>79423</th>\n",
       "    </tr>\n",
       "    <tr>\n",
       "      <th>date</th>\n",
       "      <th></th>\n",
       "      <th></th>\n",
       "      <th></th>\n",
       "      <th></th>\n",
       "      <th></th>\n",
       "    </tr>\n",
       "  </thead>\n",
       "  <tbody>\n",
       "    <tr>\n",
       "      <th>1996-04-01</th>\n",
       "      <td>84200.0</td>\n",
       "      <td>98300.0</td>\n",
       "      <td>81600.0</td>\n",
       "      <td>85500.0</td>\n",
       "      <td>70700.0</td>\n",
       "    </tr>\n",
       "    <tr>\n",
       "      <th>1996-05-01</th>\n",
       "      <td>84500.0</td>\n",
       "      <td>98500.0</td>\n",
       "      <td>81500.0</td>\n",
       "      <td>85600.0</td>\n",
       "      <td>70900.0</td>\n",
       "    </tr>\n",
       "    <tr>\n",
       "      <th>1996-06-01</th>\n",
       "      <td>84800.0</td>\n",
       "      <td>98700.0</td>\n",
       "      <td>81400.0</td>\n",
       "      <td>85800.0</td>\n",
       "      <td>71200.0</td>\n",
       "    </tr>\n",
       "    <tr>\n",
       "      <th>1996-07-01</th>\n",
       "      <td>85100.0</td>\n",
       "      <td>99000.0</td>\n",
       "      <td>81400.0</td>\n",
       "      <td>85900.0</td>\n",
       "      <td>71500.0</td>\n",
       "    </tr>\n",
       "    <tr>\n",
       "      <th>1996-08-01</th>\n",
       "      <td>85500.0</td>\n",
       "      <td>99200.0</td>\n",
       "      <td>81400.0</td>\n",
       "      <td>86000.0</td>\n",
       "      <td>71800.0</td>\n",
       "    </tr>\n",
       "    <tr>\n",
       "      <th>...</th>\n",
       "      <td>...</td>\n",
       "      <td>...</td>\n",
       "      <td>...</td>\n",
       "      <td>...</td>\n",
       "      <td>...</td>\n",
       "    </tr>\n",
       "    <tr>\n",
       "      <th>2017-12-01</th>\n",
       "      <td>182500.0</td>\n",
       "      <td>184400.0</td>\n",
       "      <td>158300.0</td>\n",
       "      <td>170300.0</td>\n",
       "      <td>147900.0</td>\n",
       "    </tr>\n",
       "    <tr>\n",
       "      <th>2018-01-01</th>\n",
       "      <td>184700.0</td>\n",
       "      <td>187000.0</td>\n",
       "      <td>160100.0</td>\n",
       "      <td>171800.0</td>\n",
       "      <td>148200.0</td>\n",
       "    </tr>\n",
       "    <tr>\n",
       "      <th>2018-02-01</th>\n",
       "      <td>186800.0</td>\n",
       "      <td>189100.0</td>\n",
       "      <td>161900.0</td>\n",
       "      <td>173100.0</td>\n",
       "      <td>148200.0</td>\n",
       "    </tr>\n",
       "    <tr>\n",
       "      <th>2018-03-01</th>\n",
       "      <td>188800.0</td>\n",
       "      <td>190800.0</td>\n",
       "      <td>163400.0</td>\n",
       "      <td>174100.0</td>\n",
       "      <td>147800.0</td>\n",
       "    </tr>\n",
       "    <tr>\n",
       "      <th>2018-04-01</th>\n",
       "      <td>190400.0</td>\n",
       "      <td>192100.0</td>\n",
       "      <td>164300.0</td>\n",
       "      <td>174500.0</td>\n",
       "      <td>147200.0</td>\n",
       "    </tr>\n",
       "  </tbody>\n",
       "</table>\n",
       "<p>265 rows × 5 columns</p>\n",
       "</div>"
      ],
      "text/plain": [
       "zipcode        75062     75104     76108     77571     79423\n",
       "date                                                        \n",
       "1996-04-01   84200.0   98300.0   81600.0   85500.0   70700.0\n",
       "1996-05-01   84500.0   98500.0   81500.0   85600.0   70900.0\n",
       "1996-06-01   84800.0   98700.0   81400.0   85800.0   71200.0\n",
       "1996-07-01   85100.0   99000.0   81400.0   85900.0   71500.0\n",
       "1996-08-01   85500.0   99200.0   81400.0   86000.0   71800.0\n",
       "...              ...       ...       ...       ...       ...\n",
       "2017-12-01  182500.0  184400.0  158300.0  170300.0  147900.0\n",
       "2018-01-01  184700.0  187000.0  160100.0  171800.0  148200.0\n",
       "2018-02-01  186800.0  189100.0  161900.0  173100.0  148200.0\n",
       "2018-03-01  188800.0  190800.0  163400.0  174100.0  147800.0\n",
       "2018-04-01  190400.0  192100.0  164300.0  174500.0  147200.0\n",
       "\n",
       "[265 rows x 5 columns]"
      ]
     },
     "execution_count": 30,
     "metadata": {},
     "output_type": "execute_result"
    }
   ],
   "source": [
    "df_p = df_prices.pivot(\"date\", \"zipcode\", \"value\")\n",
    "df_p"
   ]
  },
  {
   "cell_type": "code",
   "execution_count": 31,
   "metadata": {
    "ExecuteTime": {
     "end_time": "2021-10-06T20:05:19.762817Z",
     "start_time": "2021-10-06T20:05:19.748855Z"
    }
   },
   "outputs": [
    {
     "data": {
      "text/plain": [
       "Int64Index([75062, 75104, 76108, 77571, 79423], dtype='int64', name='zipcode')"
      ]
     },
     "execution_count": 31,
     "metadata": {},
     "output_type": "execute_result"
    }
   ],
   "source": [
    "df_p.columns"
   ]
  },
  {
   "cell_type": "markdown",
   "metadata": {},
   "source": [
    "# Zipcode 79423"
   ]
  },
  {
   "cell_type": "code",
   "execution_count": 32,
   "metadata": {
    "ExecuteTime": {
     "end_time": "2021-10-06T20:05:19.778806Z",
     "start_time": "2021-10-06T20:05:19.763814Z"
    }
   },
   "outputs": [],
   "source": [
    "df_79423 = pd.DataFrame(df_p[79423][df_p[79423].notnull()]).astype(int) \n",
    "df_79423['value'] = df_79423[79423] \n",
    "df_79423.drop(df_79423.columns[np.r_[1]], axis=1, inplace=True)\n",
    "\n"
   ]
  },
  {
   "cell_type": "code",
   "execution_count": 33,
   "metadata": {
    "ExecuteTime": {
     "end_time": "2021-10-06T20:05:19.793944Z",
     "start_time": "2021-10-06T20:05:19.780770Z"
    }
   },
   "outputs": [
    {
     "data": {
      "text/html": [
       "<div>\n",
       "<style scoped>\n",
       "    .dataframe tbody tr th:only-of-type {\n",
       "        vertical-align: middle;\n",
       "    }\n",
       "\n",
       "    .dataframe tbody tr th {\n",
       "        vertical-align: top;\n",
       "    }\n",
       "\n",
       "    .dataframe thead th {\n",
       "        text-align: right;\n",
       "    }\n",
       "</style>\n",
       "<table border=\"1\" class=\"dataframe\">\n",
       "  <thead>\n",
       "    <tr style=\"text-align: right;\">\n",
       "      <th></th>\n",
       "      <th>79423</th>\n",
       "    </tr>\n",
       "    <tr>\n",
       "      <th>date</th>\n",
       "      <th></th>\n",
       "    </tr>\n",
       "  </thead>\n",
       "  <tbody>\n",
       "    <tr>\n",
       "      <th>1996-04-01</th>\n",
       "      <td>70700</td>\n",
       "    </tr>\n",
       "    <tr>\n",
       "      <th>1996-05-01</th>\n",
       "      <td>70900</td>\n",
       "    </tr>\n",
       "    <tr>\n",
       "      <th>1996-06-01</th>\n",
       "      <td>71200</td>\n",
       "    </tr>\n",
       "    <tr>\n",
       "      <th>1996-07-01</th>\n",
       "      <td>71500</td>\n",
       "    </tr>\n",
       "    <tr>\n",
       "      <th>1996-08-01</th>\n",
       "      <td>71800</td>\n",
       "    </tr>\n",
       "    <tr>\n",
       "      <th>...</th>\n",
       "      <td>...</td>\n",
       "    </tr>\n",
       "    <tr>\n",
       "      <th>2017-12-01</th>\n",
       "      <td>147900</td>\n",
       "    </tr>\n",
       "    <tr>\n",
       "      <th>2018-01-01</th>\n",
       "      <td>148200</td>\n",
       "    </tr>\n",
       "    <tr>\n",
       "      <th>2018-02-01</th>\n",
       "      <td>148200</td>\n",
       "    </tr>\n",
       "    <tr>\n",
       "      <th>2018-03-01</th>\n",
       "      <td>147800</td>\n",
       "    </tr>\n",
       "    <tr>\n",
       "      <th>2018-04-01</th>\n",
       "      <td>147200</td>\n",
       "    </tr>\n",
       "  </tbody>\n",
       "</table>\n",
       "<p>265 rows × 1 columns</p>\n",
       "</div>"
      ],
      "text/plain": [
       "             79423\n",
       "date              \n",
       "1996-04-01   70700\n",
       "1996-05-01   70900\n",
       "1996-06-01   71200\n",
       "1996-07-01   71500\n",
       "1996-08-01   71800\n",
       "...            ...\n",
       "2017-12-01  147900\n",
       "2018-01-01  148200\n",
       "2018-02-01  148200\n",
       "2018-03-01  147800\n",
       "2018-04-01  147200\n",
       "\n",
       "[265 rows x 1 columns]"
      ]
     },
     "execution_count": 33,
     "metadata": {},
     "output_type": "execute_result"
    }
   ],
   "source": [
    "df_79423 "
   ]
  },
  {
   "cell_type": "code",
   "execution_count": 34,
   "metadata": {
    "ExecuteTime": {
     "end_time": "2021-10-06T20:05:19.993996Z",
     "start_time": "2021-10-06T20:05:19.795517Z"
    }
   },
   "outputs": [
    {
     "data": {
      "text/plain": [
       "<AxesSubplot:xlabel='date'>"
      ]
     },
     "execution_count": 34,
     "metadata": {},
     "output_type": "execute_result"
    },
    {
     "data": {
      "image/png": "[encoded data removed]",
      "text/plain": [
       "<Figure size 432x288 with 1 Axes>"
      ]
     },
     "metadata": {
      "needs_background": "light"
     },
     "output_type": "display_data"
    }
   ],
   "source": [
    "train =  df_79423[:-24]\n",
    "test = df_79423[-241:]\n",
    "train.plot()"
   ]
  },
  {
   "cell_type": "markdown",
   "metadata": {},
   "source": [
    "Trend Analysis"
   ]
  },
  {
   "cell_type": "code",
   "execution_count": 35,
   "metadata": {
    "ExecuteTime": {
     "end_time": "2021-10-06T20:05:20.162926Z",
     "start_time": "2021-10-06T20:05:19.994958Z"
    }
   },
   "outputs": [
    {
     "data": {
      "text/plain": [
       "<AxesSubplot:xlabel='date'>"
      ]
     },
     "execution_count": 35,
     "metadata": {},
     "output_type": "execute_result"
    },
    {
     "data": {
      "image/png": "[encoded data removed]",
      "text/plain": [
       "<Figure size 432x288 with 1 Axes>"
      ]
     },
     "metadata": {
      "needs_background": "light"
     },
     "output_type": "display_data"
    }
   ],
   "source": [
    "# Plot the rolling mean with a window of a year\n",
    "\n",
    "roll_mean = train.rolling(window=52).mean()\n",
    "roll_mean.plot()"
   ]
  },
  {
   "cell_type": "code",
   "execution_count": 36,
   "metadata": {
    "ExecuteTime": {
     "end_time": "2021-10-06T20:05:20.503651Z",
     "start_time": "2021-10-06T20:05:20.164921Z"
    }
   },
   "outputs": [
    {
     "data": {
      "text/plain": [
       "<AxesSubplot:xlabel='date'>"
      ]
     },
     "execution_count": 36,
     "metadata": {},
     "output_type": "execute_result"
    },
    {
     "data": {
      "image/png": "[encoded data removed]",
      "text/plain": [
       "<Figure size 864x432 with 1 Axes>"
      ]
     },
     "metadata": {
      "needs_background": "light"
     },
     "output_type": "display_data"
    },
    {
     "data": {
      "image/png": "[encoded data removed]",
      "text/plain": [
       "<Figure size 864x432 with 1 Axes>"
      ]
     },
     "metadata": {
      "needs_background": "light"
     },
     "output_type": "display_data"
    }
   ],
   "source": [
    "# Apply a 1st order difference to the time series and plot the rolling mean\n",
    "\n",
    "rm_diff_1 = roll_mean.diff(periods=1)\n",
    "rm_diff_1.plot(figsize=(12,6))\n",
    "\n",
    "\n",
    "rm_diff_2 = roll_mean.diff(periods=1).diff(periods=1)\n",
    "rm_diff_2.plot(figsize=(12,6))\n"
   ]
  },
  {
   "cell_type": "code",
   "execution_count": 37,
   "metadata": {
    "ExecuteTime": {
     "end_time": "2021-10-06T20:05:20.518685Z",
     "start_time": "2021-10-06T20:05:20.504647Z"
    }
   },
   "outputs": [],
   "source": [
    "def stationarity_check(df):     \n",
    "    df_test = adfuller(df)\n",
    "    print('Results of Dickey-Fuller Test: \\n')\n",
    "\n",
    "    dfoutput = pd.Series(df_test[0:4], index=['Test Statistic', 'p-value', \n",
    "                                             '#Lags Used', 'Number of Observations Used'])\n",
    "    for key,value in df_test[4].items():\n",
    "        dfoutput['Critical Value (%s)'%key] = value\n",
    "    print(dfoutput)\n",
    "    return None"
   ]
  },
  {
   "cell_type": "code",
   "execution_count": 38,
   "metadata": {
    "ExecuteTime": {
     "end_time": "2021-10-06T20:05:20.550722Z",
     "start_time": "2021-10-06T20:05:20.520606Z"
    }
   },
   "outputs": [
    {
     "name": "stdout",
     "output_type": "stream",
     "text": [
      "Results of Dickey-Fuller Test: \n",
      "\n",
      "Test Statistic                  -0.347471\n",
      "p-value                          0.918507\n",
      "#Lags Used                      14.000000\n",
      "Number of Observations Used    250.000000\n",
      "Critical Value (1%)             -3.456781\n",
      "Critical Value (5%)             -2.873172\n",
      "Critical Value (10%)            -2.572969\n",
      "dtype: float64\n",
      "None\n",
      "Results of Dickey-Fuller Test: \n",
      "\n",
      "Test Statistic                  -2.413832\n",
      "p-value                          0.137871\n",
      "#Lags Used                      12.000000\n",
      "Number of Observations Used    175.000000\n",
      "Critical Value (1%)             -3.468280\n",
      "Critical Value (5%)             -2.878202\n",
      "Critical Value (10%)            -2.575653\n",
      "dtype: float64\n",
      "None\n"
     ]
    }
   ],
   "source": [
    "print(stationarity_check(df_79423))\n",
    "print(stationarity_check(rm_diff_2.dropna()))"
   ]
  },
  {
   "cell_type": "code",
   "execution_count": 39,
   "metadata": {
    "ExecuteTime": {
     "end_time": "2021-10-06T20:05:20.690157Z",
     "start_time": "2021-10-06T20:05:20.552519Z"
    },
    "scrolled": false
   },
   "outputs": [
    {
     "name": "stdout",
     "output_type": "stream",
     "text": [
      "                               SARIMAX Results                                \n",
      "==============================================================================\n",
      "Dep. Variable:                  79423   No. Observations:                  241\n",
      "Model:                 ARIMA(1, 0, 0)   Log Likelihood               -1873.844\n",
      "Date:                Wed, 06 Oct 2021   AIC                           3753.688\n",
      "Time:                        16:05:20   BIC                           3764.142\n",
      "Sample:                    04-01-1996   HQIC                          3757.900\n",
      "                         - 04-01-2016                                         \n",
      "Covariance Type:                  opg                                         \n",
      "==============================================================================\n",
      "                 coef    std err          z      P>|z|      [0.025      0.975]\n",
      "------------------------------------------------------------------------------\n",
      "const       1.015e+05   3.11e+04      3.259      0.001    4.04e+04    1.62e+05\n",
      "ar.L1          0.9998      0.002    404.347      0.000       0.995       1.005\n",
      "sigma2      3.212e+05    1.7e+04     18.887      0.000    2.88e+05    3.54e+05\n",
      "===================================================================================\n",
      "Ljung-Box (L1) (Q):                 198.33   Jarque-Bera (JB):               380.35\n",
      "Prob(Q):                              0.00   Prob(JB):                         0.00\n",
      "Heteroskedasticity (H):               1.69   Skew:                             1.40\n",
      "Prob(H) (two-sided):                  0.02   Kurtosis:                         8.48\n",
      "===================================================================================\n",
      "\n",
      "Warnings:\n",
      "[1] Covariance matrix calculated using the outer product of gradients (complex-step).\n"
     ]
    },
    {
     "name": "stderr",
     "output_type": "stream",
     "text": [
      "C:\\Users\\sethk\\anaconda3\\envs\\learn-env\\lib\\site-packages\\statsmodels\\tsa\\base\\tsa_model.py:524: ValueWarning: No frequency information was provided, so inferred frequency MS will be used.\n",
      "  warnings.warn('No frequency information was'\n",
      "C:\\Users\\sethk\\anaconda3\\envs\\learn-env\\lib\\site-packages\\statsmodels\\tsa\\base\\tsa_model.py:524: ValueWarning: No frequency information was provided, so inferred frequency MS will be used.\n",
      "  warnings.warn('No frequency information was'\n",
      "C:\\Users\\sethk\\anaconda3\\envs\\learn-env\\lib\\site-packages\\statsmodels\\tsa\\base\\tsa_model.py:524: ValueWarning: No frequency information was provided, so inferred frequency MS will be used.\n",
      "  warnings.warn('No frequency information was'\n",
      "C:\\Users\\sethk\\anaconda3\\envs\\learn-env\\lib\\site-packages\\statsmodels\\tsa\\statespace\\sarimax.py:965: UserWarning: Non-stationary starting autoregressive parameters found. Using zeros as starting parameters.\n",
      "  warn('Non-stationary starting autoregressive parameters'\n"
     ]
    }
   ],
   "source": [
    "from statsmodels.tsa.arima.model import ARIMA\n",
    "\n",
    "arima = ARIMA(train, order=(1, 0, 0))\n",
    "sm = arima.fit()\n",
    "print(sm.summary())"
   ]
  },
  {
   "cell_type": "code",
   "execution_count": 40,
   "metadata": {
    "ExecuteTime": {
     "end_time": "2021-10-06T20:05:20.705110Z",
     "start_time": "2021-10-06T20:05:20.691148Z"
    }
   },
   "outputs": [
    {
     "data": {
      "text/plain": [
       "1996-04-01    101461.004135\n",
       "1996-05-01     70705.157763\n",
       "1996-06-01     70905.124228\n",
       "1996-07-01     71205.073927\n",
       "1996-08-01     71505.023625\n",
       "                  ...      \n",
       "2015-12-01    133394.644721\n",
       "2016-01-01    133694.594419\n",
       "2016-02-01    133894.560885\n",
       "2016-03-01    134194.510583\n",
       "2016-04-01    134594.443514\n",
       "Freq: MS, Name: predicted_mean, Length: 241, dtype: float64"
      ]
     },
     "execution_count": 40,
     "metadata": {},
     "output_type": "execute_result"
    }
   ],
   "source": [
    "train_hat = sm.predict()\n",
    "train_hat"
   ]
  },
  {
   "cell_type": "code",
   "execution_count": 41,
   "metadata": {
    "ExecuteTime": {
     "end_time": "2021-10-06T20:05:21.014511Z",
     "start_time": "2021-10-06T20:05:20.706109Z"
    }
   },
   "outputs": [
    {
     "data": {
      "text/plain": [
       "2060.6030912713304"
      ]
     },
     "execution_count": 41,
     "metadata": {},
     "output_type": "execute_result"
    }
   ],
   "source": [
    "# Calculate the training root mean squared error (same syntax as a linear regression prediction)\n",
    "\n",
    "from sklearn.metrics import mean_squared_error\n",
    "rmse = mean_squared_error(train, train_hat, squared=False)\n",
    "rmse\n"
   ]
  },
  {
   "cell_type": "code",
   "execution_count": 42,
   "metadata": {
    "ExecuteTime": {
     "end_time": "2021-10-06T20:05:21.106349Z",
     "start_time": "2021-10-06T20:05:21.016508Z"
    },
    "scrolled": true
   },
   "outputs": [
    {
     "name": "stderr",
     "output_type": "stream",
     "text": [
      "C:\\Users\\sethk\\anaconda3\\envs\\learn-env\\lib\\site-packages\\statsmodels\\tsa\\base\\tsa_model.py:524: ValueWarning: No frequency information was provided, so inferred frequency MS will be used.\n",
      "  warnings.warn('No frequency information was'\n",
      "C:\\Users\\sethk\\anaconda3\\envs\\learn-env\\lib\\site-packages\\statsmodels\\tsa\\base\\tsa_model.py:524: ValueWarning: No frequency information was provided, so inferred frequency MS will be used.\n",
      "  warnings.warn('No frequency information was'\n",
      "C:\\Users\\sethk\\anaconda3\\envs\\learn-env\\lib\\site-packages\\statsmodels\\tsa\\statespace\\sarimax.py:965: UserWarning: Non-stationary starting autoregressive parameters found. Using zeros as starting parameters.\n",
      "  warn('Non-stationary starting autoregressive parameters'\n"
     ]
    },
    {
     "data": {
      "text/html": [
       "<table class=\"simpletable\">\n",
       "<caption>SARIMAX Results</caption>\n",
       "<tr>\n",
       "  <th>Dep. Variable:</th>         <td>79423</td>      <th>  No. Observations:  </th>    <td>241</td>   \n",
       "</tr>\n",
       "<tr>\n",
       "  <th>Model:</th>           <td>SARIMAX(1, 0, 0)</td> <th>  Log Likelihood     </th> <td>-1875.096</td>\n",
       "</tr>\n",
       "<tr>\n",
       "  <th>Date:</th>            <td>Wed, 06 Oct 2021</td> <th>  AIC                </th> <td>3754.193</td> \n",
       "</tr>\n",
       "<tr>\n",
       "  <th>Time:</th>                <td>16:05:21</td>     <th>  BIC                </th> <td>3761.162</td> \n",
       "</tr>\n",
       "<tr>\n",
       "  <th>Sample:</th>             <td>04-01-1996</td>    <th>  HQIC               </th> <td>3757.000</td> \n",
       "</tr>\n",
       "<tr>\n",
       "  <th></th>                   <td>- 04-01-2016</td>   <th>                     </th>     <td> </td>    \n",
       "</tr>\n",
       "<tr>\n",
       "  <th>Covariance Type:</th>        <td>opg</td>       <th>                     </th>     <td> </td>    \n",
       "</tr>\n",
       "</table>\n",
       "<table class=\"simpletable\">\n",
       "<tr>\n",
       "     <td></td>       <th>coef</th>     <th>std err</th>      <th>z</th>      <th>P>|z|</th>  <th>[0.025</th>    <th>0.975]</th>  \n",
       "</tr>\n",
       "<tr>\n",
       "  <th>ar.L1</th>  <td>    1.0000</td> <td>  8.9e-05</td> <td> 1.12e+04</td> <td> 0.000</td> <td>    1.000</td> <td>    1.000</td>\n",
       "</tr>\n",
       "<tr>\n",
       "  <th>sigma2</th> <td> 3.207e+05</td> <td>  9.4e-14</td> <td> 3.41e+18</td> <td> 0.000</td> <td> 3.21e+05</td> <td> 3.21e+05</td>\n",
       "</tr>\n",
       "</table>\n",
       "<table class=\"simpletable\">\n",
       "<tr>\n",
       "  <th>Ljung-Box (L1) (Q):</th>     <td>202.16</td> <th>  Jarque-Bera (JB):  </th> <td>392.46</td>\n",
       "</tr>\n",
       "<tr>\n",
       "  <th>Prob(Q):</th>                 <td>0.00</td>  <th>  Prob(JB):          </th>  <td>0.00</td> \n",
       "</tr>\n",
       "<tr>\n",
       "  <th>Heteroskedasticity (H):</th>  <td>1.67</td>  <th>  Skew:              </th>  <td>1.41</td> \n",
       "</tr>\n",
       "<tr>\n",
       "  <th>Prob(H) (two-sided):</th>     <td>0.02</td>  <th>  Kurtosis:          </th>  <td>8.58</td> \n",
       "</tr>\n",
       "</table><br/><br/>Warnings:<br/>[1] Covariance matrix calculated using the outer product of gradients (complex-step).<br/>[2] Covariance matrix is singular or near-singular, with condition number    inf. Standard errors may be unstable."
      ],
      "text/plain": [
       "<class 'statsmodels.iolib.summary.Summary'>\n",
       "\"\"\"\n",
       "                               SARIMAX Results                                \n",
       "==============================================================================\n",
       "Dep. Variable:                  79423   No. Observations:                  241\n",
       "Model:               SARIMAX(1, 0, 0)   Log Likelihood               -1875.096\n",
       "Date:                Wed, 06 Oct 2021   AIC                           3754.193\n",
       "Time:                        16:05:21   BIC                           3761.162\n",
       "Sample:                    04-01-1996   HQIC                          3757.000\n",
       "                         - 04-01-2016                                         \n",
       "Covariance Type:                  opg                                         \n",
       "==============================================================================\n",
       "                 coef    std err          z      P>|z|      [0.025      0.975]\n",
       "------------------------------------------------------------------------------\n",
       "ar.L1          1.0000    8.9e-05   1.12e+04      0.000       1.000       1.000\n",
       "sigma2      3.207e+05    9.4e-14   3.41e+18      0.000    3.21e+05    3.21e+05\n",
       "===================================================================================\n",
       "Ljung-Box (L1) (Q):                 202.16   Jarque-Bera (JB):               392.46\n",
       "Prob(Q):                              0.00   Prob(JB):                         0.00\n",
       "Heteroskedasticity (H):               1.67   Skew:                             1.41\n",
       "Prob(H) (two-sided):                  0.02   Kurtosis:                         8.58\n",
       "===================================================================================\n",
       "\n",
       "Warnings:\n",
       "[1] Covariance matrix calculated using the outer product of gradients (complex-step).\n",
       "[2] Covariance matrix is singular or near-singular, with condition number    inf. Standard errors may be unstable.\n",
       "\"\"\""
      ]
     },
     "execution_count": 42,
     "metadata": {},
     "output_type": "execute_result"
    }
   ],
   "source": [
    "from statsmodels.tsa.statespace.sarimax import SARIMAX\n",
    "\n",
    "sarimax = SARIMAX(train, order=[1,0,0]).fit()\n",
    "sarimax.summary()"
   ]
  },
  {
   "cell_type": "code",
   "execution_count": 43,
   "metadata": {
    "ExecuteTime": {
     "end_time": "2021-10-06T20:05:21.121981Z",
     "start_time": "2021-10-06T20:05:21.107369Z"
    }
   },
   "outputs": [
    {
     "data": {
      "text/plain": [
       "2060.6030912713304"
      ]
     },
     "execution_count": 43,
     "metadata": {},
     "output_type": "execute_result"
    }
   ],
   "source": [
    "# Calculate the training root mean squared error (same syntax as a linear regression prediction)\n",
    "\n",
    "from sklearn.metrics import mean_squared_error\n",
    "rmse = mean_squared_error(train, train_hat, squared=False)\n",
    "rmse\n"
   ]
  },
  {
   "cell_type": "code",
   "execution_count": 44,
   "metadata": {
    "ExecuteTime": {
     "end_time": "2021-10-06T20:05:21.137258Z",
     "start_time": "2021-10-06T20:05:21.123659Z"
    }
   },
   "outputs": [],
   "source": [
    "def print_ts_metrics(endog=train, test=test, order=[0,0,0], seasonal_order=[0,0,0,0]):\n",
    "    \n",
    "    '''\n",
    "    Print out RMSE for a given set of orders (seasonal and non-seasonal)\n",
    "    Return the model fit on the training set.\n",
    "    '''\n",
    "    \n",
    "    sm = SARIMAX(endog, order=order, seasonal_order=seasonal_order).fit()\n",
    "    rmse_endog = mean_squared_error(endog, \n",
    "                             sm.predict(endog.index[0], endog.index[-1], \n",
    "                                        typ='levels'), \n",
    "                                        squared=False)\n",
    "    rmse_test = mean_squared_error(test, \n",
    "                             sm.predict(test.index[0], test.index[-1], \n",
    "                                        typ='levels'), \n",
    "                                        squared=False)\n",
    "    print(rmse_endog)\n",
    "    \n",
    "    print(rmse_test)\n",
    "    return sm"
   ]
  },
  {
   "cell_type": "code",
   "execution_count": 45,
   "metadata": {
    "ExecuteTime": {
     "end_time": "2021-10-06T20:05:21.153258Z",
     "start_time": "2021-10-06T20:05:21.139254Z"
    }
   },
   "outputs": [],
   "source": [
    "def plot_predictions(test=test, sarimax=sarimax):\n",
    "    sarimax.predict(test.index[0], test.index[-1], typ='levels').plot()\n",
    "    test.plot()"
   ]
  },
  {
   "cell_type": "code",
   "execution_count": 46,
   "metadata": {
    "ExecuteTime": {
     "end_time": "2021-10-06T20:05:24.395649Z",
     "start_time": "2021-10-06T20:05:21.156271Z"
    }
   },
   "outputs": [
    {
     "name": "stderr",
     "output_type": "stream",
     "text": [
      "C:\\Users\\sethk\\anaconda3\\envs\\learn-env\\lib\\site-packages\\statsmodels\\tsa\\base\\tsa_model.py:524: ValueWarning: No frequency information was provided, so inferred frequency MS will be used.\n",
      "  warnings.warn('No frequency information was'\n",
      "C:\\Users\\sethk\\anaconda3\\envs\\learn-env\\lib\\site-packages\\statsmodels\\tsa\\base\\tsa_model.py:524: ValueWarning: No frequency information was provided, so inferred frequency MS will be used.\n",
      "  warnings.warn('No frequency information was'\n"
     ]
    },
    {
     "name": "stdout",
     "output_type": "stream",
     "text": [
      "5154.787317873282\n",
      "2633.0579528693515\n"
     ]
    },
    {
     "data": {
      "image/png": "[encoded data removed]",
      "text/plain": [
       "<Figure size 432x288 with 1 Axes>"
      ]
     },
     "metadata": {
      "needs_background": "light"
     },
     "output_type": "display_data"
    },
    {
     "data": {
      "image/png": "[encoded data removed]",
      "text/plain": [
       "<Figure size 432x288 with 1 Axes>"
      ]
     },
     "metadata": {
      "needs_background": "light"
     },
     "output_type": "display_data"
    }
   ],
   "source": [
    "# set print_ts_metrics equal to model, then feed that model to plot_predictions\n",
    "model = print_ts_metrics(endog=train, test=test, order=[1,1,0], seasonal_order=[1,1,0,52])\n",
    "plot_predictions(test, model)"
   ]
  },
  {
   "cell_type": "markdown",
   "metadata": {},
   "source": [
    "# Zipcode 75104"
   ]
  },
  {
   "cell_type": "code",
   "execution_count": 47,
   "metadata": {
    "ExecuteTime": {
     "end_time": "2021-10-06T20:05:24.411537Z",
     "start_time": "2021-10-06T20:05:24.396576Z"
    }
   },
   "outputs": [
    {
     "data": {
      "text/html": [
       "<div>\n",
       "<style scoped>\n",
       "    .dataframe tbody tr th:only-of-type {\n",
       "        vertical-align: middle;\n",
       "    }\n",
       "\n",
       "    .dataframe tbody tr th {\n",
       "        vertical-align: top;\n",
       "    }\n",
       "\n",
       "    .dataframe thead th {\n",
       "        text-align: right;\n",
       "    }\n",
       "</style>\n",
       "<table border=\"1\" class=\"dataframe\">\n",
       "  <thead>\n",
       "    <tr style=\"text-align: right;\">\n",
       "      <th></th>\n",
       "      <th>75104</th>\n",
       "    </tr>\n",
       "    <tr>\n",
       "      <th>date</th>\n",
       "      <th></th>\n",
       "    </tr>\n",
       "  </thead>\n",
       "  <tbody>\n",
       "    <tr>\n",
       "      <th>1996-04-01</th>\n",
       "      <td>98300</td>\n",
       "    </tr>\n",
       "    <tr>\n",
       "      <th>1996-05-01</th>\n",
       "      <td>98500</td>\n",
       "    </tr>\n",
       "    <tr>\n",
       "      <th>1996-06-01</th>\n",
       "      <td>98700</td>\n",
       "    </tr>\n",
       "    <tr>\n",
       "      <th>1996-07-01</th>\n",
       "      <td>99000</td>\n",
       "    </tr>\n",
       "    <tr>\n",
       "      <th>1996-08-01</th>\n",
       "      <td>99200</td>\n",
       "    </tr>\n",
       "    <tr>\n",
       "      <th>...</th>\n",
       "      <td>...</td>\n",
       "    </tr>\n",
       "    <tr>\n",
       "      <th>2017-12-01</th>\n",
       "      <td>184400</td>\n",
       "    </tr>\n",
       "    <tr>\n",
       "      <th>2018-01-01</th>\n",
       "      <td>187000</td>\n",
       "    </tr>\n",
       "    <tr>\n",
       "      <th>2018-02-01</th>\n",
       "      <td>189100</td>\n",
       "    </tr>\n",
       "    <tr>\n",
       "      <th>2018-03-01</th>\n",
       "      <td>190800</td>\n",
       "    </tr>\n",
       "    <tr>\n",
       "      <th>2018-04-01</th>\n",
       "      <td>192100</td>\n",
       "    </tr>\n",
       "  </tbody>\n",
       "</table>\n",
       "<p>265 rows × 1 columns</p>\n",
       "</div>"
      ],
      "text/plain": [
       "             75104\n",
       "date              \n",
       "1996-04-01   98300\n",
       "1996-05-01   98500\n",
       "1996-06-01   98700\n",
       "1996-07-01   99000\n",
       "1996-08-01   99200\n",
       "...            ...\n",
       "2017-12-01  184400\n",
       "2018-01-01  187000\n",
       "2018-02-01  189100\n",
       "2018-03-01  190800\n",
       "2018-04-01  192100\n",
       "\n",
       "[265 rows x 1 columns]"
      ]
     },
     "execution_count": 47,
     "metadata": {},
     "output_type": "execute_result"
    }
   ],
   "source": [
    "df_75104 = pd.DataFrame(df_p[75104][df_p[75104].notnull()]).astype(int) \n",
    "df_75104['value'] = df_75104[75104] \n",
    "df_75104.drop(df_75104.columns[np.r_[1]], axis=1, inplace=True)\n",
    "df_75104 "
   ]
  },
  {
   "cell_type": "code",
   "execution_count": 48,
   "metadata": {
    "ExecuteTime": {
     "end_time": "2021-10-06T20:05:24.643389Z",
     "start_time": "2021-10-06T20:05:24.413531Z"
    }
   },
   "outputs": [
    {
     "data": {
      "text/plain": [
       "<AxesSubplot:xlabel='date'>"
      ]
     },
     "execution_count": 48,
     "metadata": {},
     "output_type": "execute_result"
    },
    {
     "data": {
      "image/png": "[encoded data removed]",
      "text/plain": [
       "<Figure size 432x288 with 1 Axes>"
      ]
     },
     "metadata": {
      "needs_background": "light"
     },
     "output_type": "display_data"
    }
   ],
   "source": [
    "train =  df_75104[:-24]\n",
    "test = df_75104[-241:]\n",
    "train.plot()"
   ]
  },
  {
   "cell_type": "code",
   "execution_count": 49,
   "metadata": {
    "ExecuteTime": {
     "end_time": "2021-10-06T20:05:24.813214Z",
     "start_time": "2021-10-06T20:05:24.644357Z"
    }
   },
   "outputs": [
    {
     "data": {
      "text/plain": [
       "<AxesSubplot:xlabel='date'>"
      ]
     },
     "execution_count": 49,
     "metadata": {},
     "output_type": "execute_result"
    },
    {
     "data": {
      "image/png": "[encoded data removed]",
      "text/plain": [
       "<Figure size 432x288 with 1 Axes>"
      ]
     },
     "metadata": {
      "needs_background": "light"
     },
     "output_type": "display_data"
    }
   ],
   "source": [
    "# Plot the rolling mean with a window of a year\n",
    "\n",
    "roll_mean = train.rolling(window=52).mean()\n",
    "roll_mean.plot()"
   ]
  },
  {
   "cell_type": "code",
   "execution_count": 50,
   "metadata": {
    "ExecuteTime": {
     "end_time": "2021-10-06T20:05:25.139050Z",
     "start_time": "2021-10-06T20:05:24.814215Z"
    }
   },
   "outputs": [
    {
     "data": {
      "text/plain": [
       "<AxesSubplot:xlabel='date'>"
      ]
     },
     "execution_count": 50,
     "metadata": {},
     "output_type": "execute_result"
    },
    {
     "data": {
      "image/png": "[encoded data removed]",
      "text/plain": [
       "<Figure size 864x432 with 1 Axes>"
      ]
     },
     "metadata": {
      "needs_background": "light"
     },
     "output_type": "display_data"
    },
    {
     "data": {
      "image/png": "[encoded data removed]",
      "text/plain": [
       "<Figure size 864x432 with 1 Axes>"
      ]
     },
     "metadata": {
      "needs_background": "light"
     },
     "output_type": "display_data"
    }
   ],
   "source": [
    "# Apply a 1st order difference to the time series and plot the rolling mean\n",
    "\n",
    "rm_diff_1 = roll_mean.diff(periods=1)\n",
    "rm_diff_1.plot(figsize=(12,6))\n",
    "\n",
    "\n",
    "rm_diff_2 = roll_mean.diff(periods=1).diff(periods=1)\n",
    "rm_diff_2.plot(figsize=(12,6))\n"
   ]
  },
  {
   "cell_type": "code",
   "execution_count": 51,
   "metadata": {
    "ExecuteTime": {
     "end_time": "2021-10-06T20:05:25.155003Z",
     "start_time": "2021-10-06T20:05:25.142000Z"
    }
   },
   "outputs": [],
   "source": [
    "def stationarity_check(df):     \n",
    "    df_test = adfuller(df)\n",
    "    print('Results of Dickey-Fuller Test: \\n')\n",
    "\n",
    "    dfoutput = pd.Series(df_test[0:4], index=['Test Statistic', 'p-value', \n",
    "                                             '#Lags Used', 'Number of Observations Used'])\n",
    "    for key,value in df_test[4].items():\n",
    "        dfoutput['Critical Value (%s)'%key] = value\n",
    "    print(dfoutput)\n",
    "    return None"
   ]
  },
  {
   "cell_type": "code",
   "execution_count": 52,
   "metadata": {
    "ExecuteTime": {
     "end_time": "2021-10-06T20:05:25.185686Z",
     "start_time": "2021-10-06T20:05:25.156960Z"
    }
   },
   "outputs": [
    {
     "name": "stdout",
     "output_type": "stream",
     "text": [
      "Results of Dickey-Fuller Test: \n",
      "\n",
      "Test Statistic                  -0.347471\n",
      "p-value                          0.918507\n",
      "#Lags Used                      14.000000\n",
      "Number of Observations Used    250.000000\n",
      "Critical Value (1%)             -3.456781\n",
      "Critical Value (5%)             -2.873172\n",
      "Critical Value (10%)            -2.572969\n",
      "dtype: float64\n",
      "None\n",
      "Results of Dickey-Fuller Test: \n",
      "\n",
      "Test Statistic                  -1.724024\n",
      "p-value                          0.418779\n",
      "#Lags Used                      15.000000\n",
      "Number of Observations Used    172.000000\n",
      "Critical Value (1%)             -3.468952\n",
      "Critical Value (5%)             -2.878495\n",
      "Critical Value (10%)            -2.575809\n",
      "dtype: float64\n",
      "None\n"
     ]
    }
   ],
   "source": [
    "print(stationarity_check(df_79423))\n",
    "print(stationarity_check(rm_diff_2.dropna()))"
   ]
  },
  {
   "cell_type": "code",
   "execution_count": 53,
   "metadata": {
    "ExecuteTime": {
     "end_time": "2021-10-06T20:05:25.262343Z",
     "start_time": "2021-10-06T20:05:25.188584Z"
    }
   },
   "outputs": [
    {
     "name": "stdout",
     "output_type": "stream",
     "text": [
      "                               SARIMAX Results                                \n",
      "==============================================================================\n",
      "Dep. Variable:                  75104   No. Observations:                  241\n",
      "Model:                 ARIMA(1, 0, 0)   Log Likelihood               -1896.228\n",
      "Date:                Wed, 06 Oct 2021   AIC                           3798.456\n",
      "Time:                        16:05:25   BIC                           3808.910\n",
      "Sample:                    04-01-1996   HQIC                          3802.668\n",
      "                         - 04-01-2016                                         \n",
      "Covariance Type:                  opg                                         \n",
      "==============================================================================\n",
      "                 coef    std err          z      P>|z|      [0.025      0.975]\n",
      "------------------------------------------------------------------------------\n",
      "const       1.251e+05   3.21e+04      3.901      0.000    6.23e+04    1.88e+05\n",
      "ar.L1          0.9997      0.003    311.713      0.000       0.993       1.006\n",
      "sigma2       3.88e+05   3.13e+04     12.412      0.000    3.27e+05    4.49e+05\n",
      "===================================================================================\n",
      "Ljung-Box (L1) (Q):                 196.64   Jarque-Bera (JB):                13.15\n",
      "Prob(Q):                              0.00   Prob(JB):                         0.00\n",
      "Heteroskedasticity (H):               1.80   Skew:                            -0.16\n",
      "Prob(H) (two-sided):                  0.01   Kurtosis:                         4.10\n",
      "===================================================================================\n",
      "\n",
      "Warnings:\n",
      "[1] Covariance matrix calculated using the outer product of gradients (complex-step).\n"
     ]
    },
    {
     "name": "stderr",
     "output_type": "stream",
     "text": [
      "C:\\Users\\sethk\\anaconda3\\envs\\learn-env\\lib\\site-packages\\statsmodels\\tsa\\base\\tsa_model.py:524: ValueWarning: No frequency information was provided, so inferred frequency MS will be used.\n",
      "  warnings.warn('No frequency information was'\n",
      "C:\\Users\\sethk\\anaconda3\\envs\\learn-env\\lib\\site-packages\\statsmodels\\tsa\\base\\tsa_model.py:524: ValueWarning: No frequency information was provided, so inferred frequency MS will be used.\n",
      "  warnings.warn('No frequency information was'\n",
      "C:\\Users\\sethk\\anaconda3\\envs\\learn-env\\lib\\site-packages\\statsmodels\\tsa\\base\\tsa_model.py:524: ValueWarning: No frequency information was provided, so inferred frequency MS will be used.\n",
      "  warnings.warn('No frequency information was'\n"
     ]
    }
   ],
   "source": [
    "from statsmodels.tsa.arima.model import ARIMA\n",
    "\n",
    "arima = ARIMA(train, order=(1, 0, 0))\n",
    "sm = arima.fit()\n",
    "print(sm.summary())"
   ]
  },
  {
   "cell_type": "code",
   "execution_count": 54,
   "metadata": {
    "ExecuteTime": {
     "end_time": "2021-10-06T20:05:25.278301Z",
     "start_time": "2021-10-06T20:05:25.264339Z"
    }
   },
   "outputs": [
    {
     "data": {
      "text/plain": [
       "1996-04-01    125149.784743\n",
       "1996-05-01     98309.110361\n",
       "1996-06-01     98509.042499\n",
       "1996-07-01     98708.974637\n",
       "1996-08-01     99008.872845\n",
       "                  ...      \n",
       "2015-12-01    142794.011132\n",
       "2016-01-01    143593.739685\n",
       "2016-02-01    144193.536100\n",
       "2016-03-01    144893.298584\n",
       "2016-04-01    146492.755690\n",
       "Freq: MS, Name: predicted_mean, Length: 241, dtype: float64"
      ]
     },
     "execution_count": 54,
     "metadata": {},
     "output_type": "execute_result"
    }
   ],
   "source": [
    "train_hat = sm.predict()\n",
    "train_hat"
   ]
  },
  {
   "cell_type": "code",
   "execution_count": 55,
   "metadata": {
    "ExecuteTime": {
     "end_time": "2021-10-06T20:05:25.294257Z",
     "start_time": "2021-10-06T20:05:25.280295Z"
    }
   },
   "outputs": [
    {
     "data": {
      "text/plain": [
       "1837.6825884535651"
      ]
     },
     "execution_count": 55,
     "metadata": {},
     "output_type": "execute_result"
    }
   ],
   "source": [
    "# Calculate the training root mean squared error (same syntax as a linear regression prediction)\n",
    "\n",
    "from sklearn.metrics import mean_squared_error\n",
    "rmse = mean_squared_error(train, train_hat, squared=False)\n",
    "rmse"
   ]
  },
  {
   "cell_type": "code",
   "execution_count": 56,
   "metadata": {
    "ExecuteTime": {
     "end_time": "2021-10-06T20:05:25.309522Z",
     "start_time": "2021-10-06T20:05:25.297250Z"
    }
   },
   "outputs": [],
   "source": [
    "def print_ts_metrics(endog=train, test=test, order=[0,0,0], seasonal_order=[0,0,0,0]):\n",
    "    \n",
    "    '''\n",
    "    Print out RMSE for a given set of orders (seasonal and non-seasonal)\n",
    "    \n",
    "    Return the model fit on the training set.\n",
    "    '''\n",
    "    \n",
    "    sm = SARIMAX(endog, order=order, seasonal_order=seasonal_order).fit()\n",
    "    rmse_endog = mean_squared_error(endog, \n",
    "                             sm.predict(endog.index[0], endog.index[-1], \n",
    "                                        typ='levels'), \n",
    "                                        squared=False)\n",
    "    rmse_test = mean_squared_error(test, \n",
    "                             sm.predict(test.index[0], test.index[-1], \n",
    "                                        typ='levels'), \n",
    "                                        squared=False)\n",
    "    print(rmse_endog)\n",
    "    \n",
    "    print(rmse_test)\n",
    "    return sm"
   ]
  },
  {
   "cell_type": "code",
   "execution_count": 57,
   "metadata": {
    "ExecuteTime": {
     "end_time": "2021-10-06T20:05:25.324500Z",
     "start_time": "2021-10-06T20:05:25.310519Z"
    }
   },
   "outputs": [],
   "source": [
    "def plot_predictions(test=test, sarimax=sarimax):\n",
    "    sarimax.predict(test.index[0], test.index[-1], typ='levels').plot()\n",
    "    test.plot()"
   ]
  },
  {
   "cell_type": "code",
   "execution_count": 58,
   "metadata": {
    "ExecuteTime": {
     "end_time": "2021-10-06T20:05:29.057938Z",
     "start_time": "2021-10-06T20:05:25.326494Z"
    }
   },
   "outputs": [
    {
     "name": "stderr",
     "output_type": "stream",
     "text": [
      "C:\\Users\\sethk\\anaconda3\\envs\\learn-env\\lib\\site-packages\\statsmodels\\tsa\\base\\tsa_model.py:524: ValueWarning: No frequency information was provided, so inferred frequency MS will be used.\n",
      "  warnings.warn('No frequency information was'\n",
      "C:\\Users\\sethk\\anaconda3\\envs\\learn-env\\lib\\site-packages\\statsmodels\\tsa\\base\\tsa_model.py:524: ValueWarning: No frequency information was provided, so inferred frequency MS will be used.\n",
      "  warnings.warn('No frequency information was'\n"
     ]
    },
    {
     "name": "stdout",
     "output_type": "stream",
     "text": [
      "7445.643773670999\n",
      "8944.656038297517\n"
     ]
    },
    {
     "data": {
      "image/png": "[encoded data removed]",
      "text/plain": [
       "<Figure size 432x288 with 1 Axes>"
      ]
     },
     "metadata": {
      "needs_background": "light"
     },
     "output_type": "display_data"
    },
    {
     "data": {
      "image/png": "[encoded data removed]",
      "text/plain": [
       "<Figure size 432x288 with 1 Axes>"
      ]
     },
     "metadata": {
      "needs_background": "light"
     },
     "output_type": "display_data"
    }
   ],
   "source": [
    "# set print_ts_metrics equal to model, then feed that model to plot_predictions\n",
    "model = print_ts_metrics(endog=train, test=test, order=[1,1,0], seasonal_order=[1,1,0,52])\n",
    "plot_predictions(test, model)"
   ]
  },
  {
   "cell_type": "code",
   "execution_count": 61,
   "metadata": {
    "ExecuteTime": {
     "end_time": "2021-10-06T20:05:29.320320Z",
     "start_time": "2021-10-06T20:05:29.090662Z"
    }
   },
   "outputs": [
    {
     "data": {
      "image/png": "[encoded data removed]",
      "text/plain": [
       "<Figure size 1080x720 with 1 Axes>"
      ]
     },
     "metadata": {
      "needs_background": "light"
     },
     "output_type": "display_data"
    }
   ],
   "source": [
    "fig, ax = plt.subplots()\n",
    "\n",
    "cmap = sns.cubehelix_palette(as_cmap=True)\n",
    "points = ax.scatter(df_income['Longitude'], df_income['Latitude'], s=20, c='orange')\n",
    "                     \n",
    "zips = ax.scatter(df_filtered_20['Longitude'], df_filtered_20['Latitude'], s=200, c='black')\n",
    "                  \n",
    "ax.set_xlim(((int(df_income['Longitude'].min())+.5), (int(df_income['Longitude'].max())+.5)))\n",
    "ax.set_ylim((int(df_income['Latitude'].min()+.5), (int(df_income['Latitude'].max())+.5)))\n",
    "fig.set_size_inches(15,10)\n",
    "ax.set_facecolor('gray')\n",
    "plt.xlabel(\"Longitude\")\n",
    "plt.ylabel(\"Latitude\")\n",
    "plt.legend(['Texas', 'Our Zips']);"
   ]
  }
 ],
 "metadata": {
  "kernelspec": {
   "display_name": "Python 3",
   "language": "python",
   "name": "python3"
  },
  "language_info": {
   "codemirror_mode": {
    "name": "ipython",
    "version": 3
   },
   "file_extension": ".py",
   "mimetype": "text/x-python",
   "name": "python",
   "nbconvert_exporter": "python",
   "pygments_lexer": "ipython3",
   "version": "3.8.5"
  },
  "toc": {
   "base_numbering": 1,
   "nav_menu": {},
   "number_sections": true,
   "sideBar": true,
   "skip_h1_title": false,
   "title_cell": "Table of Contents",
   "title_sidebar": "Contents",
   "toc_cell": false,
   "toc_position": {},
   "toc_section_display": true,
   "toc_window_display": false
  }
 },
 "nbformat": 4,
 "nbformat_minor": 5
}
