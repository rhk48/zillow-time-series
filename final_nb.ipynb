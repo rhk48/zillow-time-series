{
 "cells": [
  {
   "cell_type": "markdown",
   "metadata": {},
   "source": [
    "<h1>Table of Contents<span class=\"tocSkip\"></span></h1>\n"
   ]
  },
  {
   "cell_type": "markdown",
   "metadata": {},
   "source": [
    "# Introduction"
   ]
  },
  {
   "cell_type": "markdown",
   "metadata": {},
   "source": [
    "Our client is a real estate investment firm that would like  to break into the Texas housing market. The firm has asked us to identify the top 5 zip codes thye should invest in to ensure investment success."
   ]
  },
  {
   "cell_type": "markdown",
   "metadata": {},
   "source": [
    "# Data importation & cleaning"
   ]
  },
  {
   "cell_type": "code",
   "execution_count": 1,
   "metadata": {
    "ExecuteTime": {
     "end_time": "2021-10-08T00:27:17.103471Z",
     "start_time": "2021-10-08T00:27:15.887477Z"
    }
   },
   "outputs": [],
   "source": [
    "# import libraries\n",
    "import numpy as np\n",
    "import pandas as pd\n",
    "import matplotlib.pyplot as plt\n",
    "%matplotlib inline\n",
    "import seaborn as sns\n",
    "from statsmodels.tsa.stattools import adfuller\n",
    "from sklearn.metrics import mean_squared_error\n",
    "from pandas import Grouper\n",
    "from pandas import Series\n",
    "from pandas import concat\n",
    "import statsmodels.api as sm\n",
    "from statsmodels.tsa.arima.model import  ARIMA\n",
    "from statsmodels.tsa.statespace import sarimax\n",
    "from statsmodels.tsa.statespace.sarimax import SARIMAX\n",
    "from statsmodels.tsa.arima_model import ARIMAResults\n",
    "from statsmodels.tsa.seasonal import seasonal_decompose\n",
    "from statsmodels.graphics.tsaplots import plot_acf\n",
    "from statsmodels.graphics.tsaplots import plot_pacf\n",
    "import statsmodels.api as sm\n",
    "import warnings\n",
    "import pmdarima as pm\n"
   ]
  },
  {
   "cell_type": "code",
   "execution_count": 2,
   "metadata": {
    "ExecuteTime": {
     "end_time": "2021-10-08T00:27:17.398549Z",
     "start_time": "2021-10-08T00:27:17.104463Z"
    }
   },
   "outputs": [],
   "source": [
    "# import data\n",
    "raw_df = pd.read_csv('data/zillow_data.csv')\n",
    "df_income = pd.read_csv('data/zip_codes_2019_median_inc.csv')"
   ]
  },
  {
   "cell_type": "markdown",
   "metadata": {},
   "source": [
    "## Cleaning column names"
   ]
  },
  {
   "cell_type": "code",
   "execution_count": 3,
   "metadata": {
    "ExecuteTime": {
     "end_time": "2021-10-08T00:27:17.413942Z",
     "start_time": "2021-10-08T00:27:17.400549Z"
    }
   },
   "outputs": [],
   "source": [
    "raw_df.columns = raw_df.columns.str.strip().str.lower()\n",
    "df_income.columns = df_income.columns.str.strip().str.lower()"
   ]
  },
  {
   "cell_type": "code",
   "execution_count": 4,
   "metadata": {
    "ExecuteTime": {
     "end_time": "2021-10-08T00:27:17.428885Z",
     "start_time": "2021-10-08T00:27:17.414883Z"
    }
   },
   "outputs": [],
   "source": [
    "raw_df.rename(columns={'regionname': 'zipcode', 'countyname':'county'},inplace=True)\n",
    "df_income.rename(columns={\n",
    "    'zip code':'zipcode', 'population (2019)': 'population',\n",
    "    'median family income (2019)': 'median_family_income'},\n",
    "                 inplace=True)"
   ]
  },
  {
   "cell_type": "markdown",
   "metadata": {},
   "source": [
    "## Stratifying to Texas"
   ]
  },
  {
   "cell_type": "markdown",
   "metadata": {},
   "source": [
    "We begin to narrow down our dataset, first by filtering to only data from the state of Texas"
   ]
  },
  {
   "cell_type": "code",
   "execution_count": 5,
   "metadata": {
    "ExecuteTime": {
     "end_time": "2021-10-08T00:27:17.459873Z",
     "start_time": "2021-10-08T00:27:17.429885Z"
    }
   },
   "outputs": [],
   "source": [
    "raw_df = raw_df[raw_df['state']=='TX']\n",
    "df_income['state'] = df_income['preferred name'].str.slice(-2)\n",
    "df_income = df_income[df_income['state']=='TX']\n",
    "df_income = (df_income[df_income['type'] != 'PO box'])"
   ]
  },
  {
   "cell_type": "markdown",
   "metadata": {},
   "source": [
    "## Creating statistical columns\n",
    "\n",
    "create ROI, Standard Deviation, Mean, and Coefficient of Variance statistical columns"
   ]
  },
  {
   "cell_type": "code",
   "execution_count": 6,
   "metadata": {
    "ExecuteTime": {
     "end_time": "2021-10-08T00:27:17.491484Z",
     "start_time": "2021-10-08T00:27:17.460873Z"
    }
   },
   "outputs": [],
   "source": [
    "#Calculate historical return on investment\n",
    "raw_df['ROI']= (raw_df['2018-04']/raw_df['1996-04'])-1\n",
    "raw_df['ROI']\n",
    "\n",
    "\n",
    "#Calculate standard deviation of monthly values\n",
    "raw_df['std']=raw_df.loc[:,'1996-04':'2018-04'].std(skipna=True, axis=1)\n",
    "\n",
    "#Calculate historical mean value\n",
    "raw_df['mean']=raw_df.loc[:,'1996-04':'2018-04'].mean(skipna=True, axis=1)\n",
    "\n",
    " \n",
    "#Show calculated values\n",
    "raw_df[['zipcode','std','mean','ROI']].head()\n",
    "\n",
    "warnings.filterwarnings('ignore')"
   ]
  },
  {
   "cell_type": "code",
   "execution_count": 7,
   "metadata": {
    "ExecuteTime": {
     "end_time": "2021-10-08T00:27:17.507489Z",
     "start_time": "2021-10-08T00:27:17.492485Z"
    }
   },
   "outputs": [],
   "source": [
    "# RegionID is something from Zillow, don't need it and we don't need state any more.\n",
    "raw_df.drop(['regionid', 'sizerank', 'metro'], axis=1,inplace=True)"
   ]
  },
  {
   "cell_type": "code",
   "execution_count": 8,
   "metadata": {
    "ExecuteTime": {
     "end_time": "2021-10-08T00:27:17.522795Z",
     "start_time": "2021-10-08T00:27:17.508490Z"
    }
   },
   "outputs": [
    {
     "data": {
      "text/html": [
       "<div>\n",
       "<style scoped>\n",
       "    .dataframe tbody tr th:only-of-type {\n",
       "        vertical-align: middle;\n",
       "    }\n",
       "\n",
       "    .dataframe tbody tr th {\n",
       "        vertical-align: top;\n",
       "    }\n",
       "\n",
       "    .dataframe thead th {\n",
       "        text-align: right;\n",
       "    }\n",
       "</style>\n",
       "<table border=\"1\" class=\"dataframe\">\n",
       "  <thead>\n",
       "    <tr style=\"text-align: right;\">\n",
       "      <th></th>\n",
       "      <th>zipcode</th>\n",
       "      <th>population</th>\n",
       "      <th>median_family_income</th>\n",
       "      <th>latitude</th>\n",
       "      <th>longitude</th>\n",
       "    </tr>\n",
       "  </thead>\n",
       "  <tbody>\n",
       "    <tr>\n",
       "      <th>31142</th>\n",
       "      <td>73301</td>\n",
       "      <td>NaN</td>\n",
       "      <td>NaN</td>\n",
       "      <td>NaN</td>\n",
       "      <td>NaN</td>\n",
       "    </tr>\n",
       "    <tr>\n",
       "      <th>31143</th>\n",
       "      <td>73344</td>\n",
       "      <td>NaN</td>\n",
       "      <td>NaN</td>\n",
       "      <td>NaN</td>\n",
       "      <td>NaN</td>\n",
       "    </tr>\n",
       "    <tr>\n",
       "      <th>31744</th>\n",
       "      <td>75001</td>\n",
       "      <td>14,992</td>\n",
       "      <td>$79,551</td>\n",
       "      <td>32.959999</td>\n",
       "      <td>-96.838997</td>\n",
       "    </tr>\n",
       "    <tr>\n",
       "      <th>31745</th>\n",
       "      <td>75002</td>\n",
       "      <td>71,253</td>\n",
       "      <td>$105,656</td>\n",
       "      <td>33.090000</td>\n",
       "      <td>-96.609001</td>\n",
       "    </tr>\n",
       "    <tr>\n",
       "      <th>31746</th>\n",
       "      <td>75006</td>\n",
       "      <td>51,642</td>\n",
       "      <td>$72,325</td>\n",
       "      <td>32.962002</td>\n",
       "      <td>-96.899002</td>\n",
       "    </tr>\n",
       "    <tr>\n",
       "      <th>...</th>\n",
       "      <td>...</td>\n",
       "      <td>...</td>\n",
       "      <td>...</td>\n",
       "      <td>...</td>\n",
       "      <td>...</td>\n",
       "    </tr>\n",
       "    <tr>\n",
       "      <th>34257</th>\n",
       "      <td>79961</td>\n",
       "      <td>NaN</td>\n",
       "      <td>NaN</td>\n",
       "      <td>NaN</td>\n",
       "      <td>NaN</td>\n",
       "    </tr>\n",
       "    <tr>\n",
       "      <th>34258</th>\n",
       "      <td>79968</td>\n",
       "      <td>NaN</td>\n",
       "      <td>NaN</td>\n",
       "      <td>NaN</td>\n",
       "      <td>NaN</td>\n",
       "    </tr>\n",
       "    <tr>\n",
       "      <th>34259</th>\n",
       "      <td>79976</td>\n",
       "      <td>NaN</td>\n",
       "      <td>NaN</td>\n",
       "      <td>NaN</td>\n",
       "      <td>NaN</td>\n",
       "    </tr>\n",
       "    <tr>\n",
       "      <th>34260</th>\n",
       "      <td>79978</td>\n",
       "      <td>NaN</td>\n",
       "      <td>NaN</td>\n",
       "      <td>NaN</td>\n",
       "      <td>NaN</td>\n",
       "    </tr>\n",
       "    <tr>\n",
       "      <th>34261</th>\n",
       "      <td>79980</td>\n",
       "      <td>NaN</td>\n",
       "      <td>NaN</td>\n",
       "      <td>NaN</td>\n",
       "      <td>NaN</td>\n",
       "    </tr>\n",
       "  </tbody>\n",
       "</table>\n",
       "<p>1839 rows × 5 columns</p>\n",
       "</div>"
      ],
      "text/plain": [
       "       zipcode population median_family_income   latitude  longitude\n",
       "31142    73301        NaN                  NaN        NaN        NaN\n",
       "31143    73344        NaN                  NaN        NaN        NaN\n",
       "31744    75001     14,992              $79,551  32.959999 -96.838997\n",
       "31745    75002     71,253             $105,656  33.090000 -96.609001\n",
       "31746    75006     51,642              $72,325  32.962002 -96.899002\n",
       "...        ...        ...                  ...        ...        ...\n",
       "34257    79961        NaN                  NaN        NaN        NaN\n",
       "34258    79968        NaN                  NaN        NaN        NaN\n",
       "34259    79976        NaN                  NaN        NaN        NaN\n",
       "34260    79978        NaN                  NaN        NaN        NaN\n",
       "34261    79980        NaN                  NaN        NaN        NaN\n",
       "\n",
       "[1839 rows x 5 columns]"
      ]
     },
     "execution_count": 8,
     "metadata": {},
     "output_type": "execute_result"
    }
   ],
   "source": [
    "# we only want zipcode, pop, mfi, lat and long from 2019 income data\n",
    "df_income = df_income[df_income.columns[np.r_[0,5,7,9:11]]]\n",
    "df_income"
   ]
  },
  {
   "cell_type": "code",
   "execution_count": 9,
   "metadata": {
    "ExecuteTime": {
     "end_time": "2021-10-08T00:27:17.538310Z",
     "start_time": "2021-10-08T00:27:17.523796Z"
    }
   },
   "outputs": [],
   "source": [
    "# fixing mfi and pop columns\n",
    "df_income['median_family_income'] = df_income['median_family_income'].str.strip('$\\n\\t')\n",
    "df_income['median_family_income'] = df_income['median_family_income'].str.replace(',','')\n",
    "df_income = df_income[df_income['median_family_income'].notna()]\n",
    "df_income['median_family_income'] = df_income['median_family_income'].astype(int)\n",
    "df_income['population'] = df_income['population'].str.replace(',','')\n",
    "df_income['population'] = df_income['population'].astype(int)"
   ]
  },
  {
   "cell_type": "markdown",
   "metadata": {},
   "source": [
    "## Melting our df"
   ]
  },
  {
   "cell_type": "code",
   "execution_count": 10,
   "metadata": {
    "ExecuteTime": {
     "end_time": "2021-10-08T00:27:17.554314Z",
     "start_time": "2021-10-08T00:27:17.539312Z"
    }
   },
   "outputs": [],
   "source": [
    "def melt_data(df):\n",
    "    melted = pd.melt(df, id_vars=['zipcode', 'city', 'state', 'county','ROI','std','mean'], var_name='date')\n",
    "    melted['date'] = pd.to_datetime(melted['date'], infer_datetime_format=True)\n",
    "    melted['year'] = [d.year for d in melted.date]\n",
    "    melted = melted.dropna(subset=['value'])\n",
    "    return melted"
   ]
  },
  {
   "cell_type": "code",
   "execution_count": 11,
   "metadata": {
    "ExecuteTime": {
     "end_time": "2021-10-08T00:27:17.974496Z",
     "start_time": "2021-10-08T00:27:17.555315Z"
    }
   },
   "outputs": [
    {
     "name": "stdout",
     "output_type": "stream",
     "text": [
      "<class 'pandas.core.frame.DataFrame'>\n",
      "Int64Index: 255096 entries, 0 to 262084\n",
      "Data columns (total 10 columns):\n",
      " #   Column   Non-Null Count   Dtype         \n",
      "---  ------   --------------   -----         \n",
      " 0   zipcode  255096 non-null  int64         \n",
      " 1   city     255096 non-null  object        \n",
      " 2   state    255096 non-null  object        \n",
      " 3   county   255096 non-null  object        \n",
      " 4   ROI      250160 non-null  float64       \n",
      " 5   std      255096 non-null  float64       \n",
      " 6   mean     255096 non-null  float64       \n",
      " 7   date     255096 non-null  datetime64[ns]\n",
      " 8   value    255096 non-null  float64       \n",
      " 9   year     255096 non-null  int64         \n",
      "dtypes: datetime64[ns](1), float64(4), int64(2), object(3)\n",
      "memory usage: 21.4+ MB\n"
     ]
    }
   ],
   "source": [
    "df = melt_data(raw_df)\n",
    "df.info()"
   ]
  },
  {
   "cell_type": "code",
   "execution_count": 12,
   "metadata": {
    "ExecuteTime": {
     "end_time": "2021-10-08T00:27:18.004887Z",
     "start_time": "2021-10-08T00:27:17.975497Z"
    }
   },
   "outputs": [
    {
     "data": {
      "text/html": [
       "<div>\n",
       "<style scoped>\n",
       "    .dataframe tbody tr th:only-of-type {\n",
       "        vertical-align: middle;\n",
       "    }\n",
       "\n",
       "    .dataframe tbody tr th {\n",
       "        vertical-align: top;\n",
       "    }\n",
       "\n",
       "    .dataframe thead th {\n",
       "        text-align: right;\n",
       "    }\n",
       "</style>\n",
       "<table border=\"1\" class=\"dataframe\">\n",
       "  <thead>\n",
       "    <tr style=\"text-align: right;\">\n",
       "      <th></th>\n",
       "      <th>zipcode</th>\n",
       "      <th>city</th>\n",
       "      <th>state</th>\n",
       "      <th>county</th>\n",
       "      <th>ROI</th>\n",
       "      <th>std</th>\n",
       "      <th>mean</th>\n",
       "      <th>value</th>\n",
       "      <th>year</th>\n",
       "    </tr>\n",
       "    <tr>\n",
       "      <th>date</th>\n",
       "      <th></th>\n",
       "      <th></th>\n",
       "      <th></th>\n",
       "      <th></th>\n",
       "      <th></th>\n",
       "      <th></th>\n",
       "      <th></th>\n",
       "      <th></th>\n",
       "      <th></th>\n",
       "    </tr>\n",
       "  </thead>\n",
       "  <tbody>\n",
       "    <tr>\n",
       "      <th>1996-04-01</th>\n",
       "      <td>75070</td>\n",
       "      <td>McKinney</td>\n",
       "      <td>TX</td>\n",
       "      <td>Collin</td>\n",
       "      <td>0.365295</td>\n",
       "      <td>33537.101427</td>\n",
       "      <td>219655.849057</td>\n",
       "      <td>235700.0</td>\n",
       "      <td>1996</td>\n",
       "    </tr>\n",
       "    <tr>\n",
       "      <th>1996-04-01</th>\n",
       "      <td>77494</td>\n",
       "      <td>Katy</td>\n",
       "      <td>TX</td>\n",
       "      <td>Harris</td>\n",
       "      <td>0.567966</td>\n",
       "      <td>37730.794353</td>\n",
       "      <td>262110.566038</td>\n",
       "      <td>210400.0</td>\n",
       "      <td>1996</td>\n",
       "    </tr>\n",
       "    <tr>\n",
       "      <th>1996-04-01</th>\n",
       "      <td>79936</td>\n",
       "      <td>El Paso</td>\n",
       "      <td>TX</td>\n",
       "      <td>El Paso</td>\n",
       "      <td>0.571798</td>\n",
       "      <td>18167.079218</td>\n",
       "      <td>101875.471698</td>\n",
       "      <td>77300.0</td>\n",
       "      <td>1996</td>\n",
       "    </tr>\n",
       "    <tr>\n",
       "      <th>1996-04-01</th>\n",
       "      <td>77084</td>\n",
       "      <td>Houston</td>\n",
       "      <td>TX</td>\n",
       "      <td>Harris</td>\n",
       "      <td>0.729474</td>\n",
       "      <td>17242.109812</td>\n",
       "      <td>121185.283019</td>\n",
       "      <td>95000.0</td>\n",
       "      <td>1996</td>\n",
       "    </tr>\n",
       "    <tr>\n",
       "      <th>1996-04-01</th>\n",
       "      <td>77449</td>\n",
       "      <td>Katy</td>\n",
       "      <td>TX</td>\n",
       "      <td>Harris</td>\n",
       "      <td>0.846960</td>\n",
       "      <td>18603.288493</td>\n",
       "      <td>126530.188679</td>\n",
       "      <td>95400.0</td>\n",
       "      <td>1996</td>\n",
       "    </tr>\n",
       "    <tr>\n",
       "      <th>...</th>\n",
       "      <td>...</td>\n",
       "      <td>...</td>\n",
       "      <td>...</td>\n",
       "      <td>...</td>\n",
       "      <td>...</td>\n",
       "      <td>...</td>\n",
       "      <td>...</td>\n",
       "      <td>...</td>\n",
       "      <td>...</td>\n",
       "    </tr>\n",
       "    <tr>\n",
       "      <th>2018-04-01</th>\n",
       "      <td>76941</td>\n",
       "      <td>Mertzon</td>\n",
       "      <td>TX</td>\n",
       "      <td>Irion</td>\n",
       "      <td>NaN</td>\n",
       "      <td>13734.029878</td>\n",
       "      <td>99318.367347</td>\n",
       "      <td>121600.0</td>\n",
       "      <td>2018</td>\n",
       "    </tr>\n",
       "    <tr>\n",
       "      <th>2018-04-01</th>\n",
       "      <td>79313</td>\n",
       "      <td>Anton</td>\n",
       "      <td>TX</td>\n",
       "      <td>Hockley</td>\n",
       "      <td>NaN</td>\n",
       "      <td>5286.674724</td>\n",
       "      <td>54424.675325</td>\n",
       "      <td>63300.0</td>\n",
       "      <td>2018</td>\n",
       "    </tr>\n",
       "    <tr>\n",
       "      <th>2018-04-01</th>\n",
       "      <td>79355</td>\n",
       "      <td>Plains</td>\n",
       "      <td>TX</td>\n",
       "      <td>Yoakum</td>\n",
       "      <td>NaN</td>\n",
       "      <td>12929.465872</td>\n",
       "      <td>78967.346939</td>\n",
       "      <td>93500.0</td>\n",
       "      <td>2018</td>\n",
       "    </tr>\n",
       "    <tr>\n",
       "      <th>2018-04-01</th>\n",
       "      <td>79366</td>\n",
       "      <td>Ransom Canyon</td>\n",
       "      <td>TX</td>\n",
       "      <td>Lubbock</td>\n",
       "      <td>0.914498</td>\n",
       "      <td>31276.315584</td>\n",
       "      <td>172420.377358</td>\n",
       "      <td>257500.0</td>\n",
       "      <td>2018</td>\n",
       "    </tr>\n",
       "    <tr>\n",
       "      <th>2018-04-01</th>\n",
       "      <td>77457</td>\n",
       "      <td>Matagorda</td>\n",
       "      <td>TX</td>\n",
       "      <td>Matagorda</td>\n",
       "      <td>1.506064</td>\n",
       "      <td>40483.593081</td>\n",
       "      <td>153585.660377</td>\n",
       "      <td>227300.0</td>\n",
       "      <td>2018</td>\n",
       "    </tr>\n",
       "  </tbody>\n",
       "</table>\n",
       "<p>255096 rows × 9 columns</p>\n",
       "</div>"
      ],
      "text/plain": [
       "            zipcode           city state     county       ROI           std  \\\n",
       "date                                                                          \n",
       "1996-04-01    75070       McKinney    TX     Collin  0.365295  33537.101427   \n",
       "1996-04-01    77494           Katy    TX     Harris  0.567966  37730.794353   \n",
       "1996-04-01    79936        El Paso    TX    El Paso  0.571798  18167.079218   \n",
       "1996-04-01    77084        Houston    TX     Harris  0.729474  17242.109812   \n",
       "1996-04-01    77449           Katy    TX     Harris  0.846960  18603.288493   \n",
       "...             ...            ...   ...        ...       ...           ...   \n",
       "2018-04-01    76941        Mertzon    TX      Irion       NaN  13734.029878   \n",
       "2018-04-01    79313          Anton    TX    Hockley       NaN   5286.674724   \n",
       "2018-04-01    79355         Plains    TX     Yoakum       NaN  12929.465872   \n",
       "2018-04-01    79366  Ransom Canyon    TX    Lubbock  0.914498  31276.315584   \n",
       "2018-04-01    77457      Matagorda    TX  Matagorda  1.506064  40483.593081   \n",
       "\n",
       "                     mean     value  year  \n",
       "date                                       \n",
       "1996-04-01  219655.849057  235700.0  1996  \n",
       "1996-04-01  262110.566038  210400.0  1996  \n",
       "1996-04-01  101875.471698   77300.0  1996  \n",
       "1996-04-01  121185.283019   95000.0  1996  \n",
       "1996-04-01  126530.188679   95400.0  1996  \n",
       "...                   ...       ...   ...  \n",
       "2018-04-01   99318.367347  121600.0  2018  \n",
       "2018-04-01   54424.675325   63300.0  2018  \n",
       "2018-04-01   78967.346939   93500.0  2018  \n",
       "2018-04-01  172420.377358  257500.0  2018  \n",
       "2018-04-01  153585.660377  227300.0  2018  \n",
       "\n",
       "[255096 rows x 9 columns]"
      ]
     },
     "execution_count": 12,
     "metadata": {},
     "output_type": "execute_result"
    }
   ],
   "source": [
    "df.set_index(df['date'], inplace = True)\n",
    "df.drop('date',axis=1, inplace=True)\n",
    "df"
   ]
  },
  {
   "cell_type": "markdown",
   "metadata": {},
   "source": [
    "# Merging our data"
   ]
  },
  {
   "cell_type": "code",
   "execution_count": 13,
   "metadata": {
    "ExecuteTime": {
     "end_time": "2021-10-08T00:27:18.187959Z",
     "start_time": "2021-10-08T00:27:18.005868Z"
    }
   },
   "outputs": [
    {
     "name": "stdout",
     "output_type": "stream",
     "text": [
      "<class 'pandas.core.frame.DataFrame'>\n",
      "DatetimeIndex: 255096 entries, 1996-04-01 to 2018-04-01\n",
      "Data columns (total 13 columns):\n",
      " #   Column                Non-Null Count   Dtype  \n",
      "---  ------                --------------   -----  \n",
      " 0   zipcode               255096 non-null  int64  \n",
      " 1   city                  255096 non-null  object \n",
      " 2   state                 255096 non-null  object \n",
      " 3   county                255096 non-null  object \n",
      " 4   ROI                   250160 non-null  float64\n",
      " 5   std                   255096 non-null  float64\n",
      " 6   mean                  255096 non-null  float64\n",
      " 7   value                 255096 non-null  float64\n",
      " 8   year                  255096 non-null  int64  \n",
      " 9   population            252181 non-null  float64\n",
      " 10  median_family_income  252181 non-null  float64\n",
      " 11  latitude              252181 non-null  float64\n",
      " 12  longitude             252181 non-null  float64\n",
      "dtypes: float64(8), int64(2), object(3)\n",
      "memory usage: 27.2+ MB\n"
     ]
    }
   ],
   "source": [
    "df_merged = df.reset_index().merge(df_income, how='left').set_index('date')\n",
    "df_merged.info()"
   ]
  },
  {
   "cell_type": "code",
   "execution_count": 14,
   "metadata": {
    "ExecuteTime": {
     "end_time": "2021-10-08T00:27:18.203331Z",
     "start_time": "2021-10-08T00:27:18.188978Z"
    }
   },
   "outputs": [],
   "source": [
    "# creating a separate df_merged to save this data for later\n",
    "df_merged_for_later = df_merged"
   ]
  },
  {
   "cell_type": "markdown",
   "metadata": {},
   "source": [
    "## Filtering on population"
   ]
  },
  {
   "cell_type": "code",
   "execution_count": 15,
   "metadata": {
    "ExecuteTime": {
     "end_time": "2021-10-08T00:27:18.218918Z",
     "start_time": "2021-10-08T00:27:18.204333Z"
    }
   },
   "outputs": [],
   "source": [
    "df_upper = df_merged['population'].quantile(.75)\n",
    "df_filtered_pop = df_merged[(df_merged['population'] > df_upper)]"
   ]
  },
  {
   "cell_type": "markdown",
   "metadata": {},
   "source": [
    "## Filtering on house value percentile"
   ]
  },
  {
   "cell_type": "code",
   "execution_count": 16,
   "metadata": {
    "ExecuteTime": {
     "end_time": "2021-10-08T00:27:18.233744Z",
     "start_time": "2021-10-08T00:27:18.219938Z"
    }
   },
   "outputs": [
    {
     "name": "stdout",
     "output_type": "stream",
     "text": [
      "<class 'pandas.core.frame.DataFrame'>\n",
      "DatetimeIndex: 31421 entries, 1996-04-01 to 2018-04-01\n",
      "Data columns (total 13 columns):\n",
      " #   Column                Non-Null Count  Dtype  \n",
      "---  ------                --------------  -----  \n",
      " 0   zipcode               31421 non-null  int64  \n",
      " 1   city                  31421 non-null  object \n",
      " 2   state                 31421 non-null  object \n",
      " 3   county                31421 non-null  object \n",
      " 4   ROI                   31421 non-null  float64\n",
      " 5   std                   31421 non-null  float64\n",
      " 6   mean                  31421 non-null  float64\n",
      " 7   value                 31421 non-null  float64\n",
      " 8   year                  31421 non-null  int64  \n",
      " 9   population            31421 non-null  float64\n",
      " 10  median_family_income  31421 non-null  float64\n",
      " 11  latitude              31421 non-null  float64\n",
      " 12  longitude             31421 non-null  float64\n",
      "dtypes: float64(8), int64(2), object(3)\n",
      "memory usage: 3.4+ MB\n"
     ]
    }
   ],
   "source": [
    "# Select the first quantile\n",
    "q1 = df_filtered_pop['value'].quantile(.25)\n",
    "\n",
    "# Select the third quantile\n",
    "q3 = df_filtered_pop['value'].quantile(.75)\n",
    "\n",
    "\n",
    "# Create a filtered in between q1 & q3\n",
    "filtered = df_filtered_pop[(df_filtered_pop['value']>=q1) \n",
    "             & (df_filtered_pop['value']<=q3)]\n",
    "df_filtered_iqr = pd.DataFrame(filtered)\n",
    "df_filtered_iqr.info()"
   ]
  },
  {
   "cell_type": "code",
   "execution_count": 17,
   "metadata": {
    "ExecuteTime": {
     "end_time": "2021-10-08T00:27:18.249082Z",
     "start_time": "2021-10-08T00:27:18.234767Z"
    }
   },
   "outputs": [],
   "source": [
    "# group by date and aggregate on median value\n",
    "df_filtered_iqr['median_house_price'] = df_filtered_iqr.groupby('date').aggregate({'value':'median'})\n",
    "df_filtered_iqr['affordability'] = df_filtered_iqr['value'] - df_filtered_iqr['median_family_income']/.12"
   ]
  },
  {
   "cell_type": "markdown",
   "metadata": {},
   "source": [
    "## Filtering on affordability score\n",
    "\n",
    "Affordability Score is a metric to represent the ability for a resident to pay their mortgage.\n",
    "\n",
    "It is based off two assumptions:\n",
    "\n",
    "    1.Your yearly mortgage should be ~30% of your annual salary\n",
    "    2.It's a 30 year mortgage"
   ]
  },
  {
   "cell_type": "code",
   "execution_count": 18,
   "metadata": {
    "ExecuteTime": {
     "end_time": "2021-10-08T00:27:18.264512Z",
     "start_time": "2021-10-08T00:27:18.250102Z"
    }
   },
   "outputs": [],
   "source": [
    "# create function to normalize data\n",
    "def normalize_data(data):\n",
    "    return (data - np.min(data)) / (np.max(data) - np.min(data))\n",
    "df_filtered_iqr['affordability_score']  = normalize_data(df_filtered_iqr['affordability'])"
   ]
  },
  {
   "cell_type": "code",
   "execution_count": 19,
   "metadata": {
    "ExecuteTime": {
     "end_time": "2021-10-08T00:27:18.279555Z",
     "start_time": "2021-10-08T00:27:18.265535Z"
    }
   },
   "outputs": [
    {
     "data": {
      "text/plain": [
       "date                    0\n",
       "zipcode                 0\n",
       "city                    0\n",
       "state                   0\n",
       "county                  0\n",
       "ROI                     0\n",
       "std                     0\n",
       "mean                    0\n",
       "value                   0\n",
       "year                    0\n",
       "population              0\n",
       "median_family_income    0\n",
       "latitude                0\n",
       "longitude               0\n",
       "median_house_price      0\n",
       "affordability           0\n",
       "affordability_score     0\n",
       "dtype: int64"
      ]
     },
     "execution_count": 19,
     "metadata": {},
     "output_type": "execute_result"
    }
   ],
   "source": [
    "# filtering to the 20th percentile\n",
    "top_20 = df_filtered_iqr['affordability_score'].quantile(.5)\n",
    "df_filtered_afs = df_filtered_iqr[(df_filtered_iqr['affordability_score'] < top_20)]\n",
    "df_filtered_afs.reset_index().isna().sum()"
   ]
  },
  {
   "cell_type": "markdown",
   "metadata": {},
   "source": [
    "## Filtering for 2017-2018"
   ]
  },
  {
   "cell_type": "code",
   "execution_count": 20,
   "metadata": {
    "ExecuteTime": {
     "end_time": "2021-10-08T00:27:18.295449Z",
     "start_time": "2021-10-08T00:27:18.280578Z"
    }
   },
   "outputs": [],
   "source": [
    "df_filtered_2017 = df_filtered_afs['2017-01-01':].dropna()"
   ]
  },
  {
   "cell_type": "code",
   "execution_count": 21,
   "metadata": {},
   "outputs": [
    {
     "ename": "NameError",
     "evalue": "name 'df_filtered_top_roi' is not defined",
     "output_type": "error",
     "traceback": [
      "\u001b[0;31m---------------------------------------------------------------------------\u001b[0m",
      "\u001b[0;31mNameError\u001b[0m                                 Traceback (most recent call last)",
      "\u001b[0;32m<ipython-input-21-3212ac8f26ed>\u001b[0m in \u001b[0;36m<module>\u001b[0;34m\u001b[0m\n\u001b[0;32m----> 1\u001b[0;31m \u001b[0mprint\u001b[0m\u001b[0;34m(\u001b[0m\u001b[0mdf_filtered_top_roi\u001b[0m\u001b[0;34m[\u001b[0m\u001b[0;34m'population'\u001b[0m\u001b[0;34m]\u001b[0m\u001b[0;34m.\u001b[0m\u001b[0mmedian\u001b[0m\u001b[0;34m(\u001b[0m\u001b[0;34m)\u001b[0m\u001b[0;34m)\u001b[0m\u001b[0;34m\u001b[0m\u001b[0;34m\u001b[0m\u001b[0m\n\u001b[0m\u001b[1;32m      2\u001b[0m \u001b[0mprint\u001b[0m\u001b[0;34m(\u001b[0m\u001b[0mdf_filtered_top_roi\u001b[0m\u001b[0;34m[\u001b[0m\u001b[0;34m'value'\u001b[0m\u001b[0;34m]\u001b[0m\u001b[0;34m.\u001b[0m\u001b[0mmedian\u001b[0m\u001b[0;34m(\u001b[0m\u001b[0;34m)\u001b[0m\u001b[0;34m)\u001b[0m\u001b[0;34m\u001b[0m\u001b[0;34m\u001b[0m\u001b[0m\n",
      "\u001b[0;31mNameError\u001b[0m: name 'df_filtered_top_roi' is not defined"
     ]
    }
   ],
   "source": [
    "print(df_filtered_top_roi['population'].median())\n",
    "print(df_filtered_top_roi['value'].median())"
   ]
  },
  {
   "cell_type": "markdown",
   "metadata": {},
   "source": [
    "### Sort by highest ROI"
   ]
  },
  {
   "cell_type": "code",
   "execution_count": null,
   "metadata": {
    "ExecuteTime": {
     "end_time": "2021-10-08T00:27:18.326995Z",
     "start_time": "2021-10-08T00:27:18.296450Z"
    }
   },
   "outputs": [],
   "source": [
    "df_filtered_2017 = df_filtered_2017.reset_index()\n",
    "df_filtered_top_roi = df_filtered_2017.loc[df_filtered_2017.groupby(\"zipcode\")[\"ROI\"].idxmax()].sort_values('ROI',axis=0,ascending=False)[:5]\n",
    "df_filtered_top_roi.set_index('date',inplace=True)\n",
    "df_filtered_top_roi"
   ]
  },
  {
   "cell_type": "markdown",
   "metadata": {},
   "source": [
    "# EDA on Best Zipcodes"
   ]
  },
  {
   "cell_type": "markdown",
   "metadata": {},
   "source": [
    "## Pulling out best zips"
   ]
  },
  {
   "cell_type": "code",
   "execution_count": null,
   "metadata": {
    "ExecuteTime": {
     "end_time": "2021-10-08T00:27:18.342682Z",
     "start_time": "2021-10-08T00:27:18.328957Z"
    }
   },
   "outputs": [],
   "source": [
    "zipcodes = list(df_filtered_top_roi['zipcode'].values)\n",
    "zipcodes"
   ]
  },
  {
   "cell_type": "code",
   "execution_count": null,
   "metadata": {
    "ExecuteTime": {
     "end_time": "2021-10-08T00:27:18.358482Z",
     "start_time": "2021-10-08T00:27:18.344451Z"
    }
   },
   "outputs": [],
   "source": [
    "df_filtered_top_roi = df_filtered_top_roi[df_filtered_top_roi['zipcode'].isin(zipcodes)]"
   ]
  },
  {
   "cell_type": "markdown",
   "metadata": {},
   "source": [
    "`df_zip_5` is filtered for the top 5 zip codes.\n",
    "\n",
    "Each unique row represents a combination of unique month and zip code."
   ]
  },
  {
   "cell_type": "code",
   "execution_count": null,
   "metadata": {
    "ExecuteTime": {
     "end_time": "2021-10-08T00:27:18.373669Z",
     "start_time": "2021-10-08T00:27:18.359452Z"
    }
   },
   "outputs": [],
   "source": [
    "df_zip_5 = df_merged[df_merged['zipcode'].isin(zipcodes)]"
   ]
  },
  {
   "cell_type": "code",
   "execution_count": null,
   "metadata": {
    "ExecuteTime": {
     "end_time": "2021-10-08T00:27:18.389446Z",
     "start_time": "2021-10-08T00:27:18.374451Z"
    }
   },
   "outputs": [],
   "source": [
    "df_zip_5['zipcode'].value_counts()"
   ]
  },
  {
   "cell_type": "markdown",
   "metadata": {},
   "source": [
    "## Unstack zips"
   ]
  },
  {
   "cell_type": "markdown",
   "metadata": {},
   "source": [
    "`df_prices` will unstack zips through a pivot function.\n",
    "\n",
    "Its values represent the home prices per month."
   ]
  },
  {
   "cell_type": "code",
   "execution_count": null,
   "metadata": {
    "ExecuteTime": {
     "end_time": "2021-10-08T00:27:18.405445Z",
     "start_time": "2021-10-08T00:27:18.390447Z"
    },
    "scrolled": false
   },
   "outputs": [],
   "source": [
    "df_prices = pd.DataFrame(df_zip_5[['zipcode','value']], index = df_zip_5.index)\n",
    "df_prices.reset_index(inplace=True)\n",
    "\n",
    "df_prices = df_prices.pivot('date', 'zipcode', 'value')\n",
    "df_prices"
   ]
  },
  {
   "cell_type": "markdown",
   "metadata": {},
   "source": [
    "# Modeling on Each Zipcode"
   ]
  },
  {
   "cell_type": "markdown",
   "metadata": {},
   "source": [
    "In each model, we split the zipcode data so we train on prices from April 1996 - April 2016 and test on prices from May 2016 - April 2018"
   ]
  },
  {
   "cell_type": "markdown",
   "metadata": {},
   "source": [
    "## Defining Stationarity, TS Metrics, and Plot Functions"
   ]
  },
  {
   "cell_type": "code",
   "execution_count": null,
   "metadata": {
    "ExecuteTime": {
     "end_time": "2021-10-08T00:27:18.420444Z",
     "start_time": "2021-10-08T00:27:18.406445Z"
    }
   },
   "outputs": [],
   "source": [
    "def stationarity_check(df):     \n",
    "    df_test = adfuller(df)\n",
    "    print('Results of Dickey-Fuller Test: \\n')\n",
    "\n",
    "    dfoutput = pd.Series(df_test[0:4], index=['Test Statistic', 'p-value', \n",
    "                                             '#Lags Used', 'Number of Observations Used'])\n",
    "    for key,value in df_test[4].items():\n",
    "        dfoutput['Critical Value (%s)'%key] = value\n",
    "    print(dfoutput)\n",
    "    return None"
   ]
  },
  {
   "cell_type": "code",
   "execution_count": null,
   "metadata": {},
   "outputs": [],
   "source": [
    "def arimamodel(timeseries):\n",
    "    automodel = pm.auto_arima(timeseries, \n",
    "                              start_p=1, \n",
    "                              start_q=1,\n",
    "                              test=\"adf\",\n",
    "                              seasonal=False,\n",
    "                              trace=True)\n",
    "    return automodel"
   ]
  },
  {
   "cell_type": "code",
   "execution_count": null,
   "metadata": {},
   "outputs": [],
   "source": [
    "def plotarima(n_periods, timeseries, automodel):\n",
    "    # Forecast\n",
    "    fc, confint = automodel.predict(n_periods=n_periods, \n",
    "                                    return_conf_int=True)\n",
    "    # Weekly index\n",
    "    fc_ind = pd.date_range(timeseries.index[timeseries.shape[0]-1], \n",
    "                           periods=n_periods, \n",
    "                           freq=\"W\")\n",
    "    # Forecast series\n",
    "    fc_series = pd.Series(fc, index=fc_ind)\n",
    "    # Upper and lower confidence bounds\n",
    "#     lower_series = pd.Series(confint[:, 0], index=fc_ind)\n",
    "#     upper_series = pd.Series(confint[:, 1], index=fc_ind)\n",
    "    # Create plot\n",
    "    plt.figure(figsize=(10, 6))\n",
    "    plt.plot(timeseries)\n",
    "    plt.plot(fc_series, color=\"red\")\n",
    "    plt.xlabel(\"date\")\n",
    "    plt.ylabel(timeseries.name)\n",
    "#     plt.fill_between(lower_series.index, \n",
    "#                      lower_series, \n",
    "#                      upper_series, \n",
    "#                      color=\"k\", \n",
    "#                      alpha=0.25)\n",
    "    plt.legend((\"past\", \"forecast\"))\n",
    "    plt.show()\n",
    "\n"
   ]
  },
  {
   "cell_type": "code",
   "execution_count": null,
   "metadata": {},
   "outputs": [],
   "source": [
    "def arima_results(endog, test, order=[0,0,0]):\n",
    "    endog= train.astype('float32')  \n",
    "    test = test.astype('float32')  \n",
    "    arima = ARIMA(endog, order=order).fit()\n",
    "    \n",
    "    train_hat = arima.predict()\n",
    "    \n",
    "    rmse_train = mean_squared_error(endog,\n",
    "                                    train_hat,\n",
    "                                    squared=False)\n",
    "    \n",
    "    \n",
    "    rmse_test = mean_squared_error(test,\n",
    "                                   arima.predict(test.index[0], test.index[-1]), \n",
    "                                   squared=False)\n",
    "    \n",
    " \n",
    "    print(f\"\"\"Train RMSE: {rmse_train}\"\"\")     \n",
    "    print(f\"\"\"Test RMSE: {rmse_test}\"\"\")    \n",
    "    print(f\"\"\"Summary: {arima.summary()}\"\"\")\n",
    "    \n",
    "    return sm"
   ]
  },
  {
   "cell_type": "code",
   "execution_count": null,
   "metadata": {},
   "outputs": [],
   "source": [
    "def sarimax_results(endog, test, order=[0,0,0], seasonal_order=[0,0,0,0]):\n",
    "      \n",
    "    sm = SARIMAX(endog, order=order, seasonal_order=seasonal_order).fit()\n",
    "    \n",
    "    rmse_train = mean_squared_error(endog,\n",
    "                                    sm.predict(train.index[0], train.index[-1], typ='levels'),\n",
    "                                    squared=False)\n",
    "    \n",
    "    \n",
    "    rmse_test = mean_squared_error(test,\n",
    "                                   sm.predict(test.index[0], test.index[-1], typ='levels'), \n",
    "                                   squared=False)\n",
    "    \n",
    "    \n",
    "    print(f\"\"\" Train RMSE: {rmse_train}\"\"\")     \n",
    "    print(f\"\"\" Test RMSE: {rmse_test}\"\"\") \n",
    "    print(f\"\"\" Summary: {sm.summary()}\"\"\")\n",
    "    return sm\n",
    "\n"
   ]
  },
  {
   "cell_type": "code",
   "execution_count": null,
   "metadata": {},
   "outputs": [],
   "source": [
    "def plot_preds_sarimax(test, sarimax=sarimax):\n",
    "    sarimax.predict(test.index[0], test.index[-1], typ='levels').plot()\n",
    "    test.plot()"
   ]
  },
  {
   "cell_type": "markdown",
   "metadata": {},
   "source": [
    "## 75052"
   ]
  },
  {
   "cell_type": "code",
   "execution_count": null,
   "metadata": {
    "ExecuteTime": {
     "end_time": "2021-10-08T00:27:18.481491Z",
     "start_time": "2021-10-08T00:27:18.467457Z"
    }
   },
   "outputs": [],
   "source": [
    "df_75052 = pd.DataFrame(df_prices[75052][df_prices[75052].notnull()]).astype(int) \n",
    "df_75052['value'] = df_75052[75052] \n",
    "df_75052.drop(df_75052.columns[np.r_[1]], axis=1, inplace=True)"
   ]
  },
  {
   "cell_type": "code",
   "execution_count": null,
   "metadata": {
    "ExecuteTime": {
     "end_time": "2021-10-08T00:27:18.497510Z",
     "start_time": "2021-10-08T00:27:18.482464Z"
    }
   },
   "outputs": [],
   "source": [
    "df_75052"
   ]
  },
  {
   "cell_type": "code",
   "execution_count": null,
   "metadata": {
    "ExecuteTime": {
     "end_time": "2021-10-08T00:27:18.634130Z",
     "start_time": "2021-10-08T00:27:18.498471Z"
    }
   },
   "outputs": [],
   "source": [
    "train = df_75052[:-24]\n",
    "test = df_75052[241:]\n",
    "train.plot();"
   ]
  },
  {
   "cell_type": "code",
   "execution_count": null,
   "metadata": {},
   "outputs": [],
   "source": [
    "from statsmodels.tsa.seasonal import seasonal_decompose\n",
    "decomposition = sm.tsa.seasonal_decompose(train, model='additive')\n",
    "trend = decomposition.trend\n",
    "seasonal = decomposition.seasonal\n",
    "residual = decomposition.resid\n",
    "# Plot gathered statistics\n",
    "plt.figure(figsize=(14,15))\n",
    "plt.subplot(411)\n",
    "plt.plot(train, label='Original', color='blue')\n",
    "plt.legend(loc='best')\n",
    "plt.subplot(412)\n",
    "plt.plot(trend, label='Trend', color='blue')\n",
    "plt.legend(loc='best')\n",
    "plt.subplot(413)\n",
    "plt.plot(seasonal,label='Seasonality', color='blue')\n",
    "plt.legend(loc='best')\n",
    "plt.subplot(414)\n",
    "plt.plot(residual, label='Residuals', color='blue')\n",
    "plt.legend(loc='best')\n",
    "plt.tight_layout()\n",
    "\n"
   ]
  },
  {
   "cell_type": "code",
   "execution_count": null,
   "metadata": {},
   "outputs": [],
   "source": [
    "fig, ax = plt.subplots()\n",
    "ax.set_title('Yearly Home Prices', fontsize=15)\n",
    "ax.set_xlabel('Year', fontsize=14)\n",
    "ax.set_ylabel('Home Prices', fontsize=14)\n",
    "sns.lineplot(data=train, linewidth=4)\n",
    "fig.set_size_inches(15, 8);\n",
    "plt.savefig('images/avg_aff_score')\n"
   ]
  },
  {
   "cell_type": "code",
   "execution_count": null,
   "metadata": {
    "ExecuteTime": {
     "end_time": "2021-10-08T00:27:18.649445Z",
     "start_time": "2021-10-08T00:27:18.635156Z"
    }
   },
   "outputs": [],
   "source": [
    "print(f\"\"\"Train date range: {train.idxmin()} to {train.idxmax()}\\n\\n\n",
    "Test date range: {test.idxmin()} to {test.idxmax()}\n",
    "\"\"\")"
   ]
  },
  {
   "cell_type": "code",
   "execution_count": null,
   "metadata": {
    "ExecuteTime": {
     "end_time": "2021-10-08T00:27:18.773002Z",
     "start_time": "2021-10-08T00:27:18.650467Z"
    }
   },
   "outputs": [],
   "source": [
    "roll_mean = train.rolling(window=12).mean()\n",
    "roll_mean.plot();"
   ]
  },
  {
   "cell_type": "code",
   "execution_count": null,
   "metadata": {
    "ExecuteTime": {
     "end_time": "2021-10-08T00:27:19.019193Z",
     "start_time": "2021-10-08T00:27:18.773978Z"
    }
   },
   "outputs": [],
   "source": [
    "# Apply a 1st order difference to the time series and plot the rolling mean\n",
    "\n",
    "rm_diff_1 = roll_mean.diff(periods=1)\n",
    "rm_diff_1.plot(figsize=(12,6))\n",
    "\n",
    "\n",
    "rm_diff_2 = roll_mean.diff(periods=1).diff(periods=1)\n",
    "rm_diff_2.plot(figsize=(12,6));"
   ]
  },
  {
   "cell_type": "markdown",
   "metadata": {},
   "source": [
    "**Stationarity Check** \n",
    "> We can see that after adding rolling_mean and differencing twice, the Dickey Fuller test improved. We will test out an ARIMA model and SARIMAX to see which performs better.  "
   ]
  },
  {
   "cell_type": "code",
   "execution_count": null,
   "metadata": {
    "ExecuteTime": {
     "end_time": "2021-10-08T00:27:19.050170Z",
     "start_time": "2021-10-08T00:27:19.020193Z"
    }
   },
   "outputs": [],
   "source": [
    "print(stationarity_check(df_75052))\n",
    "print(stationarity_check(rm_diff_2.dropna()))"
   ]
  },
  {
   "cell_type": "markdown",
   "metadata": {},
   "source": [
    "**Determine best ARIMA hyper paraters**"
   ]
  },
  {
   "cell_type": "code",
   "execution_count": null,
   "metadata": {},
   "outputs": [],
   "source": [
    "timeseries = df_75052[75052]\n",
    "automodel = arimamodel(df_prices[75052])\n",
    "plotarima(70, timeseries, automodel)"
   ]
  },
  {
   "cell_type": "markdown",
   "metadata": {
    "ExecuteTime": {
     "end_time": "2021-10-07T21:05:45.503090Z",
     "start_time": "2021-10-07T21:05:45.490710Z"
    }
   },
   "source": [
    "**ARIMA Model Results**"
   ]
  },
  {
   "cell_type": "code",
   "execution_count": null,
   "metadata": {
    "ExecuteTime": {
     "end_time": "2021-10-08T00:27:19.595879Z",
     "start_time": "2021-10-08T00:27:19.315303Z"
    },
    "scrolled": false
   },
   "outputs": [],
   "source": [
    "model = arima_results(endog = train, test = test, order=[4,2,2])"
   ]
  },
  {
   "cell_type": "markdown",
   "metadata": {},
   "source": [
    "**SARIMAX Model Train and Test Results**"
   ]
  },
  {
   "cell_type": "code",
   "execution_count": null,
   "metadata": {
    "ExecuteTime": {
     "end_time": "2021-10-08T00:27:26.447351Z",
     "start_time": "2021-10-08T00:27:19.874870Z"
    },
    "scrolled": false
   },
   "outputs": [],
   "source": [
    "# set print_ts_metrics equal to model, then feed that model to plot_predictions\n",
    "model = sarimax_results(endog=train, test=test, order=[1,1,0], seasonal_order=[1,1,0,12])\n",
    "plot_preds_sarimax(test, model);"
   ]
  },
  {
   "cell_type": "markdown",
   "metadata": {},
   "source": [
    "## 75104"
   ]
  },
  {
   "cell_type": "code",
   "execution_count": null,
   "metadata": {
    "ExecuteTime": {
     "end_time": "2021-10-08T00:27:26.462692Z",
     "start_time": "2021-10-08T00:27:26.448374Z"
    }
   },
   "outputs": [],
   "source": [
    "df_75104 = pd.DataFrame(df_prices[75104][df_prices[75104].notnull()]).astype(int) \n",
    "df_75104['value'] = df_75104[75104] \n",
    "df_75104.drop(df_75104.columns[np.r_[1]], axis=1, inplace=True)"
   ]
  },
  {
   "cell_type": "code",
   "execution_count": null,
   "metadata": {
    "ExecuteTime": {
     "end_time": "2021-10-08T00:27:26.677549Z",
     "start_time": "2021-10-08T00:27:26.463715Z"
    }
   },
   "outputs": [],
   "source": [
    "train = df_75104[:-24]\n",
    "test = df_75104[241:]\n",
    "train.plot();"
   ]
  },
  {
   "cell_type": "code",
   "execution_count": null,
   "metadata": {
    "ExecuteTime": {
     "end_time": "2021-10-08T00:27:26.815767Z",
     "start_time": "2021-10-08T00:27:26.678569Z"
    }
   },
   "outputs": [],
   "source": [
    "roll_mean = train.rolling(window=12).mean()\n",
    "roll_mean.plot();"
   ]
  },
  {
   "cell_type": "code",
   "execution_count": null,
   "metadata": {
    "ExecuteTime": {
     "end_time": "2021-10-08T00:27:27.061633Z",
     "start_time": "2021-10-08T00:27:26.816768Z"
    }
   },
   "outputs": [],
   "source": [
    "rm_diff_1 = roll_mean.diff(periods=1)\n",
    "rm_diff_1.plot(figsize=(12,6))\n",
    "\n",
    "\n",
    "rm_diff_2 = roll_mean.diff(periods=1).diff(periods=1)\n",
    "rm_diff_2.plot(figsize=(12,6));"
   ]
  },
  {
   "cell_type": "markdown",
   "metadata": {},
   "source": [
    "**Stationarity Check** \n",
    "> We can see that after adding rolling_mean and differencing twice, the Dickey Fuller test improved. We will test out an ARIMA model and SARIMAX to see which performs better. "
   ]
  },
  {
   "cell_type": "code",
   "execution_count": null,
   "metadata": {
    "ExecuteTime": {
     "end_time": "2021-10-08T00:27:27.092541Z",
     "start_time": "2021-10-08T00:27:27.062633Z"
    }
   },
   "outputs": [],
   "source": [
    "print(stationarity_check(df_75104))\n",
    "print(stationarity_check(rm_diff_2.dropna()))"
   ]
  },
  {
   "cell_type": "markdown",
   "metadata": {},
   "source": [
    "**Determine best ARIMA hyper paraters**"
   ]
  },
  {
   "cell_type": "code",
   "execution_count": null,
   "metadata": {},
   "outputs": [],
   "source": [
    "timeseries = df_75104[75104]\n",
    "automodel = arimamodel(df_prices[75104])\n",
    "plotarima(70, timeseries, automodel)"
   ]
  },
  {
   "cell_type": "markdown",
   "metadata": {},
   "source": [
    "**ARIMA Model Results**"
   ]
  },
  {
   "cell_type": "code",
   "execution_count": null,
   "metadata": {
    "ExecuteTime": {
     "end_time": "2021-10-08T00:27:27.495010Z",
     "start_time": "2021-10-08T00:27:27.093512Z"
    }
   },
   "outputs": [],
   "source": [
    "model_train = arima_results(train,test,  order=[1,2,2])\n"
   ]
  },
  {
   "cell_type": "markdown",
   "metadata": {},
   "source": [
    "**SARIMAX Model Results**"
   ]
  },
  {
   "cell_type": "code",
   "execution_count": null,
   "metadata": {
    "ExecuteTime": {
     "end_time": "2021-10-08T00:27:37.175466Z",
     "start_time": "2021-10-08T00:27:27.770233Z"
    }
   },
   "outputs": [],
   "source": [
    "model = sarimax_results(endog=train, test=test, order=[4,2,2], seasonal_order=[1,1,0,12])\n",
    "plot_preds_sarimax(test, model);"
   ]
  },
  {
   "cell_type": "markdown",
   "metadata": {},
   "source": [
    "## 76108"
   ]
  },
  {
   "cell_type": "code",
   "execution_count": null,
   "metadata": {
    "ExecuteTime": {
     "end_time": "2021-10-08T00:27:37.190631Z",
     "start_time": "2021-10-08T00:27:37.176466Z"
    }
   },
   "outputs": [],
   "source": [
    "df_76108 = pd.DataFrame(df_prices[76108][df_prices[76108].notnull()]).astype(int) \n",
    "df_76108['value'] = df_76108[76108] \n",
    "df_76108.drop(df_76108.columns[np.r_[1]], axis=1, inplace=True)"
   ]
  },
  {
   "cell_type": "code",
   "execution_count": null,
   "metadata": {
    "ExecuteTime": {
     "end_time": "2021-10-08T00:27:37.407375Z",
     "start_time": "2021-10-08T00:27:37.191712Z"
    }
   },
   "outputs": [],
   "source": [
    "train = df_76108[:-24]\n",
    "test = df_76108[241:]\n",
    "train.plot();"
   ]
  },
  {
   "cell_type": "code",
   "execution_count": null,
   "metadata": {
    "ExecuteTime": {
     "end_time": "2021-10-08T00:27:37.531453Z",
     "start_time": "2021-10-08T00:27:37.408456Z"
    },
    "scrolled": true
   },
   "outputs": [],
   "source": [
    "roll_mean = train.rolling(window=12).mean()\n",
    "roll_mean.plot();"
   ]
  },
  {
   "cell_type": "code",
   "execution_count": null,
   "metadata": {
    "ExecuteTime": {
     "end_time": "2021-10-08T00:27:37.778498Z",
     "start_time": "2021-10-08T00:27:37.532454Z"
    }
   },
   "outputs": [],
   "source": [
    "rm_diff_1 = roll_mean.diff(periods=1)\n",
    "rm_diff_1.plot(figsize=(12,6))\n",
    "\n",
    "\n",
    "rm_diff_2 = roll_mean.diff(periods=1).diff(periods=1)\n",
    "rm_diff_2.plot(figsize=(12,6));"
   ]
  },
  {
   "cell_type": "markdown",
   "metadata": {},
   "source": [
    "**Stationarity Check** \n",
    "> We can see that after adding rolling_mean and differencing twice, the Dickey Fuller test improved. We will test out an ARIMA model and SARIMAX to see which performs better. "
   ]
  },
  {
   "cell_type": "code",
   "execution_count": null,
   "metadata": {
    "ExecuteTime": {
     "end_time": "2021-10-08T00:27:37.808786Z",
     "start_time": "2021-10-08T00:27:37.779499Z"
    }
   },
   "outputs": [],
   "source": [
    "print(stationarity_check(df_76108))\n",
    "print(stationarity_check(rm_diff_2.dropna()))"
   ]
  },
  {
   "cell_type": "markdown",
   "metadata": {},
   "source": [
    "**Determine ARIMA best hyper parameters**"
   ]
  },
  {
   "cell_type": "code",
   "execution_count": null,
   "metadata": {},
   "outputs": [],
   "source": [
    "timeseries = df_76108[76108] \n",
    "automodel = arimamodel(df_prices[76108])\n",
    "plotarima(70, timeseries, automodel)"
   ]
  },
  {
   "cell_type": "markdown",
   "metadata": {},
   "source": [
    "**ARIMA Model Results**"
   ]
  },
  {
   "cell_type": "code",
   "execution_count": null,
   "metadata": {
    "ExecuteTime": {
     "end_time": "2021-10-08T00:27:38.149222Z",
     "start_time": "2021-10-08T00:27:37.809808Z"
    }
   },
   "outputs": [],
   "source": [
    "model_train = arima_results(train, test,  order=[2,2,0])"
   ]
  },
  {
   "cell_type": "markdown",
   "metadata": {},
   "source": [
    "**SARIMAX Model Train and Test Results**"
   ]
  },
  {
   "cell_type": "code",
   "execution_count": null,
   "metadata": {
    "ExecuteTime": {
     "end_time": "2021-10-08T00:27:44.729305Z",
     "start_time": "2021-10-08T00:27:38.492218Z"
    }
   },
   "outputs": [],
   "source": [
    "model = sarimax_results(endog=train, test=test, order=[1,1,1], seasonal_order=[1,1,0,12])\n",
    "plot_preds_sarimax(test, model);"
   ]
  },
  {
   "cell_type": "markdown",
   "metadata": {},
   "source": [
    "## 77571"
   ]
  },
  {
   "cell_type": "code",
   "execution_count": null,
   "metadata": {
    "ExecuteTime": {
     "end_time": "2021-10-08T00:27:44.744660Z",
     "start_time": "2021-10-08T00:27:44.730327Z"
    }
   },
   "outputs": [],
   "source": [
    "df_77571 = pd.DataFrame(df_prices[77571][df_prices[77571].notnull()]).astype(int) \n",
    "df_77571['value'] = df_77571[77571] \n",
    "df_77571.drop(df_77571.columns[np.r_[1]], axis=1, inplace=True)"
   ]
  },
  {
   "cell_type": "code",
   "execution_count": null,
   "metadata": {
    "ExecuteTime": {
     "end_time": "2021-10-08T00:27:44.900334Z",
     "start_time": "2021-10-08T00:27:44.746164Z"
    }
   },
   "outputs": [],
   "source": [
    "train = df_77571[:-24]\n",
    "test = df_77571[241:]\n",
    "train.plot();"
   ]
  },
  {
   "cell_type": "code",
   "execution_count": null,
   "metadata": {
    "ExecuteTime": {
     "end_time": "2021-10-08T00:27:45.040560Z",
     "start_time": "2021-10-08T00:27:44.901334Z"
    }
   },
   "outputs": [],
   "source": [
    "roll_mean = train.ewm(halflife=4).mean()\n",
    "roll_mean.plot();"
   ]
  },
  {
   "cell_type": "code",
   "execution_count": null,
   "metadata": {
    "ExecuteTime": {
     "end_time": "2021-10-08T00:27:45.179135Z",
     "start_time": "2021-10-08T00:27:45.041140Z"
    }
   },
   "outputs": [],
   "source": [
    "rm_diff_1 = roll_mean.diff(periods=1)\n",
    "rm_diff_1.plot(figsize=(12,6))"
   ]
  },
  {
   "cell_type": "code",
   "execution_count": null,
   "metadata": {
    "ExecuteTime": {
     "end_time": "2021-10-08T00:27:45.316231Z",
     "start_time": "2021-10-08T00:27:45.180136Z"
    }
   },
   "outputs": [],
   "source": [
    "rm_diff_2 = roll_mean.diff(periods=1).diff(periods=1)\n",
    "rm_diff_2.plot(figsize=(12,6));"
   ]
  },
  {
   "cell_type": "markdown",
   "metadata": {},
   "source": [
    "**Stationarity Check** \n",
    "> We can see that after adding rolling_mean and differencing twice, the Dickey Fuller test improved. We will test out an ARIMA model and SARIMAX to see which performs better. "
   ]
  },
  {
   "cell_type": "code",
   "execution_count": null,
   "metadata": {
    "ExecuteTime": {
     "end_time": "2021-10-08T00:27:45.347551Z",
     "start_time": "2021-10-08T00:27:45.317232Z"
    }
   },
   "outputs": [],
   "source": [
    "print(stationarity_check(df_77571))\n",
    "print(stationarity_check(rm_diff_2.dropna()))"
   ]
  },
  {
   "cell_type": "markdown",
   "metadata": {},
   "source": [
    "**Determine ARIMA best hyper parameters**"
   ]
  },
  {
   "cell_type": "code",
   "execution_count": null,
   "metadata": {},
   "outputs": [],
   "source": [
    "timeseries = df_77571[77571]\n",
    "automodel = arimamodel(df_prices[77571])\n",
    "plotarima(70, timeseries, automodel)"
   ]
  },
  {
   "cell_type": "markdown",
   "metadata": {},
   "source": [
    "**ARIMA Model Results**"
   ]
  },
  {
   "cell_type": "code",
   "execution_count": null,
   "metadata": {
    "ExecuteTime": {
     "end_time": "2021-10-08T00:27:45.626134Z",
     "start_time": "2021-10-08T00:27:45.348551Z"
    }
   },
   "outputs": [],
   "source": [
    "model_train = arima_results(train, test, order=[2,1,1])"
   ]
  },
  {
   "cell_type": "markdown",
   "metadata": {},
   "source": [
    "**SARIMAX Model Train and Test Results**"
   ]
  },
  {
   "cell_type": "code",
   "execution_count": null,
   "metadata": {
    "ExecuteTime": {
     "end_time": "2021-10-08T00:27:48.315177Z",
     "start_time": "2021-10-08T00:27:45.906126Z"
    }
   },
   "outputs": [],
   "source": [
    "model = sarimax_results(endog=train, test=test, order=[1,1,0], seasonal_order=[1,1,0,12])\n",
    "plot_preds_sarimax(test, model);"
   ]
  },
  {
   "cell_type": "markdown",
   "metadata": {},
   "source": [
    "## 79423"
   ]
  },
  {
   "cell_type": "code",
   "execution_count": null,
   "metadata": {
    "ExecuteTime": {
     "end_time": "2021-10-08T00:27:48.330407Z",
     "start_time": "2021-10-08T00:27:48.316708Z"
    }
   },
   "outputs": [],
   "source": [
    "df_79423 = pd.DataFrame(df_prices[79423][df_prices[79423].notnull()]).astype(int) \n",
    "df_79423['value'] = df_79423[79423] \n",
    "df_79423.drop(df_79423.columns[np.r_[1]], axis=1, inplace=True)\n"
   ]
  },
  {
   "cell_type": "code",
   "execution_count": null,
   "metadata": {
    "ExecuteTime": {
     "end_time": "2021-10-08T00:27:48.559351Z",
     "start_time": "2021-10-08T00:27:48.331936Z"
    }
   },
   "outputs": [],
   "source": [
    "train = df_79423[:-24]\n",
    "test = df_79423[241:]\n",
    "train.plot();"
   ]
  },
  {
   "cell_type": "code",
   "execution_count": null,
   "metadata": {
    "ExecuteTime": {
     "end_time": "2021-10-08T00:27:48.682025Z",
     "start_time": "2021-10-08T00:27:48.560372Z"
    }
   },
   "outputs": [],
   "source": [
    "roll_mean = train.rolling(window=12).mean()\n",
    "roll_mean.plot();"
   ]
  },
  {
   "cell_type": "code",
   "execution_count": null,
   "metadata": {
    "ExecuteTime": {
     "end_time": "2021-10-08T00:27:48.821090Z",
     "start_time": "2021-10-08T00:27:48.683025Z"
    }
   },
   "outputs": [],
   "source": [
    "rm_diff_1 = roll_mean.diff(periods=1)\n",
    "rm_diff_1.plot(figsize=(12,6))"
   ]
  },
  {
   "cell_type": "code",
   "execution_count": null,
   "metadata": {
    "ExecuteTime": {
     "end_time": "2021-10-08T00:27:48.945103Z",
     "start_time": "2021-10-08T00:27:48.822090Z"
    }
   },
   "outputs": [],
   "source": [
    "rm_diff_2 = roll_mean.diff(periods=1).diff(periods=1)\n",
    "rm_diff_2.plot(figsize=(12,6));"
   ]
  },
  {
   "cell_type": "markdown",
   "metadata": {},
   "source": [
    "**Stationarity Check** \n",
    "> We can see that after adding rolling_mean and differencing twice, the Dickey Fuller test improved. We will test out an ARIMA model and SARIMAX to see which performs better. "
   ]
  },
  {
   "cell_type": "code",
   "execution_count": null,
   "metadata": {
    "ExecuteTime": {
     "end_time": "2021-10-08T00:27:48.976237Z",
     "start_time": "2021-10-08T00:27:48.946103Z"
    }
   },
   "outputs": [],
   "source": [
    "print(stationarity_check(df_79423))\n",
    "print(stationarity_check(rm_diff_2.dropna()))"
   ]
  },
  {
   "cell_type": "markdown",
   "metadata": {},
   "source": [
    "**Determine ARIMA best hyper parameters**"
   ]
  },
  {
   "cell_type": "code",
   "execution_count": null,
   "metadata": {},
   "outputs": [],
   "source": [
    "timeseries = df_79423[79423]\n",
    "automodel = arimamodel(df_prices[79423])\n",
    "plotarima(70, timeseries, automodel)"
   ]
  },
  {
   "cell_type": "markdown",
   "metadata": {},
   "source": [
    "**ARIMA Model Results**"
   ]
  },
  {
   "cell_type": "code",
   "execution_count": null,
   "metadata": {
    "ExecuteTime": {
     "end_time": "2021-10-08T00:27:49.255145Z",
     "start_time": "2021-10-08T00:27:48.977238Z"
    }
   },
   "outputs": [],
   "source": [
    "model_train = arima_results(train,test,  order=[1,1,0])"
   ]
  },
  {
   "cell_type": "markdown",
   "metadata": {},
   "source": [
    "**SARIMAX Model Results**"
   ]
  },
  {
   "cell_type": "code",
   "execution_count": null,
   "metadata": {
    "ExecuteTime": {
     "end_time": "2021-10-08T00:27:53.097105Z",
     "start_time": "2021-10-08T00:27:49.537507Z"
    }
   },
   "outputs": [],
   "source": [
    "model = sarimax_results(endog=train, test=test, order=[1,1,0], seasonal_order=[1,1,0,12])\n",
    "plot_preds_sarimax(test, model);"
   ]
  },
  {
   "cell_type": "markdown",
   "metadata": {},
   "source": [
    "# Visualizations"
   ]
  },
  {
   "cell_type": "code",
   "execution_count": null,
   "metadata": {
    "ExecuteTime": {
     "end_time": "2021-10-08T00:27:53.157707Z",
     "start_time": "2021-10-08T00:27:53.098641Z"
    }
   },
   "outputs": [],
   "source": [
    "df_viz = pd.DataFrame(df_merged.copy())\n",
    "df_viz['affordability'] = df_viz['value'] - df_viz['median_family_income']/.12\n",
    "df_viz['affordability_score']  = normalize_data(df_viz['affordability'])\n",
    "df_viz_5 = df_viz[df_viz['zipcode'].isin(zipcodes)]\n",
    "df_viz_5"
   ]
  },
  {
   "cell_type": "markdown",
   "metadata": {},
   "source": [
    "**Average Affordability Score**"
   ]
  },
  {
   "cell_type": "code",
   "execution_count": null,
   "metadata": {
    "ExecuteTime": {
     "end_time": "2021-10-08T00:27:53.233869Z",
     "start_time": "2021-10-08T00:27:53.159240Z"
    },
    "scrolled": true
   },
   "outputs": [],
   "source": [
    "df_afs_tx = df_viz.groupby('date').aggregate({'affordability_score':'median'})\n",
    "df_afs_tx"
   ]
  },
  {
   "cell_type": "code",
   "execution_count": null,
   "metadata": {
    "ExecuteTime": {
     "end_time": "2021-10-08T00:27:53.264674Z",
     "start_time": "2021-10-08T00:27:53.235400Z"
    }
   },
   "outputs": [],
   "source": [
    "df_afs_5 = pd.DataFrame(df_viz_5[['zipcode','affordability_score']], index=df_viz_5.index)\n",
    "df_afs_5.reset_index(inplace=True)\n",
    "df_afs_5 = df_afs_5.pivot('date', 'zipcode', 'affordability_score')\n",
    "df_afs_5"
   ]
  },
  {
   "cell_type": "code",
   "execution_count": null,
   "metadata": {
    "ExecuteTime": {
     "end_time": "2021-10-08T00:27:53.279621Z",
     "start_time": "2021-10-08T00:27:53.266213Z"
    }
   },
   "outputs": [],
   "source": [
    "df_afs = df_afs_5.merge(df_afs_tx, left_index=True, right_index=True)\n",
    "df_afs.rename(columns={'affordability_score': 'Texas'}, inplace=True)"
   ]
  },
  {
   "cell_type": "code",
   "execution_count": null,
   "metadata": {
    "ExecuteTime": {
     "end_time": "2021-10-08T00:27:53.295016Z",
     "start_time": "2021-10-08T00:27:53.281151Z"
    }
   },
   "outputs": [],
   "source": [
    "df_afs = df_afs[['Texas', 75052, 75104, 76108, 77571, 79423]]\n",
    "df_afs"
   ]
  },
  {
   "cell_type": "code",
   "execution_count": null,
   "metadata": {
    "ExecuteTime": {
     "end_time": "2021-10-08T00:27:53.741706Z",
     "start_time": "2021-10-08T00:27:53.296041Z"
    }
   },
   "outputs": [],
   "source": [
    "fig, ax = plt.subplots()\n",
    "ax.set_title('Average Affordability Score', fontsize=15)\n",
    "ax.set_xlabel('Year', fontsize=14)\n",
    "ax.set_ylabel('Score', fontsize=14)\n",
    "sns.lineplot(data=df_afs, linewidth=4)\n",
    "fig.set_size_inches(15, 8);\n",
    "plt.savefig('images/avg_aff_score')\n"
   ]
  },
  {
   "cell_type": "markdown",
   "metadata": {},
   "source": [
    "**Average ROI by Zipcode**"
   ]
  },
  {
   "cell_type": "code",
   "execution_count": null,
   "metadata": {
    "ExecuteTime": {
     "end_time": "2021-10-08T00:27:53.756497Z",
     "start_time": "2021-10-08T00:27:53.742732Z"
    }
   },
   "outputs": [],
   "source": [
    "df_roi_5 = pd.DataFrame(df_viz_5[['zipcode','ROI']], index=df_viz_5.index)\n",
    "df_roi_5.reset_index(inplace=True)\n",
    "df_roi_5 = df_roi_5.pivot('date', 'zipcode', 'ROI')\n"
   ]
  },
  {
   "cell_type": "code",
   "execution_count": null,
   "metadata": {
    "ExecuteTime": {
     "end_time": "2021-10-08T00:27:54.067497Z",
     "start_time": "2021-10-08T00:27:53.758034Z"
    }
   },
   "outputs": [],
   "source": [
    "fig, ax = plt.subplots()\n",
    "ax.set_title('Average ROI', fontsize=15)\n",
    "ax.set_xlabel('Zip', fontsize=14)\n",
    "ax.set_ylabel('ROI', fontsize=14)\n",
    "sns.barplot(data=df_roi_5, palette= \"hls\", \n",
    "            linewidth=4,order=[75104, 75052,76108,77571,79423]).axhline(df_filtered_iqr['ROI'].mean(),linewidth=5,color='black')\n",
    "fig.set_size_inches(15, 8)\n",
    "plt.savefig('images/average_roi')"
   ]
  },
  {
   "cell_type": "markdown",
   "metadata": {},
   "source": [
    "**Median Home Price**"
   ]
  },
  {
   "cell_type": "code",
   "execution_count": null,
   "metadata": {},
   "outputs": [],
   "source": [
    "df_iqr = df_zip_5.groupby('date').aggregate({'value':'median'})"
   ]
  },
  {
   "cell_type": "code",
   "execution_count": null,
   "metadata": {},
   "outputs": [],
   "source": [
    "fig, ax = plt.subplots()\n",
    "ax.set_title('Yearly Home Prices', fontsize=15)\n",
    "ax.set_xlabel('Year', fontsize=14)\n",
    "ax.set_ylabel('Median $', fontsize=14)\n",
    "sns.lineplot(data=df_iqr, linewidth=4)\n",
    "fig.set_size_inches(15, 8);\n",
    "plt.savefig('images/avg_aff_score')"
   ]
  },
  {
   "cell_type": "code",
   "execution_count": null,
   "metadata": {
    "ExecuteTime": {
     "end_time": "2021-10-08T00:27:54.731835Z",
     "start_time": "2021-10-08T00:27:54.068527Z"
    }
   },
   "outputs": [],
   "source": [
    "# # import folium\n",
    "# import folium\n",
    "\n",
    "# # this is about the center of Texas per google search\n",
    "# lat = 31.5\n",
    "# long = -99.9\n",
    "\n",
    "# # create base texas map\n",
    "# tx_map = folium.Map(location=[lat, long],min_lat=df_income['latitude'].min(),max_lat=df_income['latitude'].max(),\n",
    "#                       min_lon=df_income['longitude'].min(),max_lon=df_income['longitude'].max(),\n",
    "#                       max_bounds=True,zoom_start=6)\n",
    "\n",
    "# # plotting our points\n",
    "# x = df_income['latitude']\n",
    "# y = df_income['longitude']\n",
    "# points = list(zip(x, y))\n",
    "# for p in points:\n",
    "#     lat = p[0]\n",
    "#     long = p[1]\n",
    "#     marker = folium.Circle(radius=5,location=[lat, long],color='green')\n",
    "#     marker.add_to(tx_map)\n",
    "    \n",
    "# # plotting our main zips\n",
    "# x5 = df_filtered_top_roi['latitude']\n",
    "# y5 = df_filtered_top_roi['longitude']\n",
    "# c5 = df_filtered_top_roi['city']\n",
    "# z5 = df_filtered_top_roi['zipcode']\n",
    "# main_points = list(zip(x5,y5,c5,z5))\n",
    "# for p in main_points:\n",
    "#     lat = p[0]\n",
    "#     long = p[1]\n",
    "#     city = p[2]\n",
    "#     zips = p[3]\n",
    "#     popup_text = \"Zip: {} \\n\\n City: {}\".format(zips, city)\n",
    "#     popup = folium.Popup(popup_text,parse_html=True)\n",
    "#     marker = folium.Marker(location=[lat,long], popup=popup)\n",
    "#     marker.add_to(tx_map)\n",
    "    \n",
    "# tx_map"
   ]
  }
 ],
 "metadata": {
  "kernelspec": {
   "display_name": "Python 3",
   "language": "python",
   "name": "python3"
  },
  "language_info": {
   "codemirror_mode": {
    "name": "ipython",
    "version": 3
   },
   "file_extension": ".py",
   "mimetype": "text/x-python",
   "name": "python",
   "nbconvert_exporter": "python",
   "pygments_lexer": "ipython3",
   "version": "3.8.8"
  },
  "toc": {
   "base_numbering": 1,
   "nav_menu": {},
   "number_sections": true,
   "sideBar": true,
   "skip_h1_title": false,
   "title_cell": "Table of Contents",
   "title_sidebar": "Contents",
   "toc_cell": false,
   "toc_position": {},
   "toc_section_display": true,
   "toc_window_display": false
  }
 },
 "nbformat": 4,
 "nbformat_minor": 4
}
