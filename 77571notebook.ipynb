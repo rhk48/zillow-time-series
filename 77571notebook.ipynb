{
 "cells": [
  {
   "cell_type": "code",
   "execution_count": 41,
   "metadata": {},
   "outputs": [],
   "source": [
    "import numpy as np\n",
    "import pandas as pd\n",
    "import matplotlib.pyplot as plt\n",
    "%matplotlib inline\n",
    "import seaborn as sns\n",
    "from statsmodels.tsa.stattools import adfuller\n",
    "from sklearn.metrics import mean_squared_error\n",
    "from math import sqrt\n",
    "from math import log\n",
    "from math import exp\n",
    "from scipy.stats import boxcox \n",
    "from pandas import DataFrame\n",
    "from pandas import Grouper\n",
    "from pandas import Series\n",
    "from pandas import concat\n",
    "from pandas.plotting import lag_plot\n",
    "from matplotlib import pyplot\n",
    "from statsmodels.tsa.arima_model import ARIMA\n",
    "from statsmodels.tsa.arima_model import ARIMAResults\n",
    "from statsmodels.tsa.seasonal import seasonal_decompose\n",
    "from statsmodels.graphics.tsaplots import plot_acf\n",
    "from statsmodels.graphics.tsaplots import plot_pacf\n",
    "from statsmodels.graphics.gofplots import qqplot\n",
    "import warnings"
   ]
  },
  {
   "cell_type": "code",
   "execution_count": 42,
   "metadata": {},
   "outputs": [],
   "source": [
    "df = pd.read_csv('zillow_data.csv')\n",
    "df_income = pd.read_csv('zip_codes_2019_median_inc.csv')"
   ]
  },
  {
   "cell_type": "code",
   "execution_count": 43,
   "metadata": {},
   "outputs": [],
   "source": [
    "df.columns = df.columns.str.strip().str.lower()\n",
    "df_income.columns = df_income.columns.str.strip().str.lower()"
   ]
  },
  {
   "cell_type": "code",
   "execution_count": 44,
   "metadata": {},
   "outputs": [],
   "source": [
    "df.rename(columns={'regionname': 'zipcode', 'countyname':'county'},inplace=True)\n",
    "df_income.rename(columns={\n",
    "    'zip code':'zipcode', 'population (2019)': 'population',\n",
    "    'median family income (2019)': 'median_family_income'},\n",
    "                 inplace=True)\n"
   ]
  },
  {
   "cell_type": "code",
   "execution_count": 45,
   "metadata": {},
   "outputs": [],
   "source": [
    "df = df[df['state']=='TX']\n",
    "df_income['state'] = df_income['preferred name'].str.slice(-2)\n",
    "df_income = df_income[df_income['state']=='TX']\n",
    "df_income = (df_income[df_income['type'] != 'PO box'])"
   ]
  },
  {
   "cell_type": "code",
   "execution_count": 46,
   "metadata": {},
   "outputs": [
    {
     "data": {
      "text/html": [
       "<div>\n",
       "<style scoped>\n",
       "    .dataframe tbody tr th:only-of-type {\n",
       "        vertical-align: middle;\n",
       "    }\n",
       "\n",
       "    .dataframe tbody tr th {\n",
       "        vertical-align: top;\n",
       "    }\n",
       "\n",
       "    .dataframe thead th {\n",
       "        text-align: right;\n",
       "    }\n",
       "</style>\n",
       "<table border=\"1\" class=\"dataframe\">\n",
       "  <thead>\n",
       "    <tr style=\"text-align: right;\">\n",
       "      <th></th>\n",
       "      <th>zipcode</th>\n",
       "      <th>type</th>\n",
       "      <th>state fips</th>\n",
       "      <th>preferred name</th>\n",
       "      <th>alternate names</th>\n",
       "      <th>population</th>\n",
       "      <th>housing units (2019)</th>\n",
       "      <th>median_family_income</th>\n",
       "      <th>mfi percentile (2019)</th>\n",
       "      <th>latitude</th>\n",
       "      <th>longitude</th>\n",
       "      <th>land area</th>\n",
       "      <th>water area</th>\n",
       "      <th>state</th>\n",
       "    </tr>\n",
       "  </thead>\n",
       "  <tbody>\n",
       "    <tr>\n",
       "      <th>31142</th>\n",
       "      <td>73301</td>\n",
       "      <td>unique</td>\n",
       "      <td>48</td>\n",
       "      <td>Austin, TX</td>\n",
       "      <td>Irs Service Center</td>\n",
       "      <td>NaN</td>\n",
       "      <td>NaN</td>\n",
       "      <td>NaN</td>\n",
       "      <td>NaN</td>\n",
       "      <td>NaN</td>\n",
       "      <td>NaN</td>\n",
       "      <td>NaN</td>\n",
       "      <td>NaN</td>\n",
       "      <td>TX</td>\n",
       "    </tr>\n",
       "    <tr>\n",
       "      <th>31143</th>\n",
       "      <td>73344</td>\n",
       "      <td>unique</td>\n",
       "      <td>48</td>\n",
       "      <td>Austin, TX</td>\n",
       "      <td>Irs Service Center</td>\n",
       "      <td>NaN</td>\n",
       "      <td>NaN</td>\n",
       "      <td>NaN</td>\n",
       "      <td>NaN</td>\n",
       "      <td>NaN</td>\n",
       "      <td>NaN</td>\n",
       "      <td>NaN</td>\n",
       "      <td>NaN</td>\n",
       "      <td>TX</td>\n",
       "    </tr>\n",
       "    <tr>\n",
       "      <th>31744</th>\n",
       "      <td>75001</td>\n",
       "      <td>standard</td>\n",
       "      <td>48</td>\n",
       "      <td>Addison, TX</td>\n",
       "      <td>NaN</td>\n",
       "      <td>14,992</td>\n",
       "      <td>9,298</td>\n",
       "      <td>$79,551</td>\n",
       "      <td>68.0</td>\n",
       "      <td>32.959999</td>\n",
       "      <td>-96.838997</td>\n",
       "      <td>3.834</td>\n",
       "      <td>0.003</td>\n",
       "      <td>TX</td>\n",
       "    </tr>\n",
       "    <tr>\n",
       "      <th>31745</th>\n",
       "      <td>75002</td>\n",
       "      <td>standard</td>\n",
       "      <td>48</td>\n",
       "      <td>Allen, TX</td>\n",
       "      <td>Lucas, Parker</td>\n",
       "      <td>71,253</td>\n",
       "      <td>23,314</td>\n",
       "      <td>$105,656</td>\n",
       "      <td>88.0</td>\n",
       "      <td>33.090000</td>\n",
       "      <td>-96.609001</td>\n",
       "      <td>37.179</td>\n",
       "      <td>2.056</td>\n",
       "      <td>TX</td>\n",
       "    </tr>\n",
       "    <tr>\n",
       "      <th>31746</th>\n",
       "      <td>75006</td>\n",
       "      <td>standard</td>\n",
       "      <td>48</td>\n",
       "      <td>Carrollton, TX</td>\n",
       "      <td>NaN</td>\n",
       "      <td>51,642</td>\n",
       "      <td>19,178</td>\n",
       "      <td>$72,325</td>\n",
       "      <td>57.0</td>\n",
       "      <td>32.962002</td>\n",
       "      <td>-96.899002</td>\n",
       "      <td>16.875</td>\n",
       "      <td>0.254</td>\n",
       "      <td>TX</td>\n",
       "    </tr>\n",
       "  </tbody>\n",
       "</table>\n",
       "</div>"
      ],
      "text/plain": [
       "       zipcode      type  state fips  preferred name     alternate names  \\\n",
       "31142    73301    unique          48      Austin, TX  Irs Service Center   \n",
       "31143    73344    unique          48      Austin, TX  Irs Service Center   \n",
       "31744    75001  standard          48     Addison, TX                 NaN   \n",
       "31745    75002  standard          48       Allen, TX       Lucas, Parker   \n",
       "31746    75006  standard          48  Carrollton, TX                 NaN   \n",
       "\n",
       "      population housing units (2019) median_family_income  \\\n",
       "31142        NaN                  NaN                  NaN   \n",
       "31143        NaN                  NaN                  NaN   \n",
       "31744     14,992                9,298              $79,551   \n",
       "31745     71,253               23,314             $105,656   \n",
       "31746     51,642               19,178              $72,325   \n",
       "\n",
       "       mfi percentile (2019)   latitude  longitude  land area  water area  \\\n",
       "31142                    NaN        NaN        NaN        NaN         NaN   \n",
       "31143                    NaN        NaN        NaN        NaN         NaN   \n",
       "31744                   68.0  32.959999 -96.838997      3.834       0.003   \n",
       "31745                   88.0  33.090000 -96.609001     37.179       2.056   \n",
       "31746                   57.0  32.962002 -96.899002     16.875       0.254   \n",
       "\n",
       "      state  \n",
       "31142    TX  \n",
       "31143    TX  \n",
       "31744    TX  \n",
       "31745    TX  \n",
       "31746    TX  "
      ]
     },
     "execution_count": 46,
     "metadata": {},
     "output_type": "execute_result"
    }
   ],
   "source": [
    "df_income.head()\n"
   ]
  },
  {
   "cell_type": "code",
   "execution_count": 47,
   "metadata": {},
   "outputs": [
    {
     "name": "stdout",
     "output_type": "stream",
     "text": [
      "count    989.000000\n",
      "mean       0.167433\n",
      "std        0.041415\n",
      "min        0.045182\n",
      "25%        0.142279\n",
      "50%        0.165783\n",
      "75%        0.189448\n",
      "max        0.361446\n",
      "Name: CV, dtype: float64\n",
      "\n",
      "CV upper limit: 0.17479440936725246\n",
      "\n",
      " Best 5 Zipcodes:\n"
     ]
    },
    {
     "data": {
      "text/plain": [
       "<function warnings.filterwarnings(action, message='', category=<class 'Warning'>, module='', lineno=0, append=False)>"
      ]
     },
     "execution_count": 47,
     "metadata": {},
     "output_type": "execute_result"
    }
   ],
   "source": [
    "#Calculate historical return on investment\n",
    "df['ROI']= (df['2018-04']/df['1996-04'])-1\n",
    "df['ROI']\n",
    "\n",
    "\n",
    "#Calculate standard deviation of monthly values\n",
    "df['std']=df.loc[:,'1996-04':'2018-04'].std(skipna=True, axis=1)\n",
    "\n",
    "#Calculate historical mean value\n",
    "df['mean']=df.loc[:,'1996-04':'2018-04'].mean(skipna=True, axis=1)\n",
    "\n",
    "#Calculate coefficient of variance\n",
    "df['CV']=df['std']/df['mean']\n",
    "\n",
    "#Show calculated values\n",
    "df[['zipcode','std','mean','ROI','CV']].head()\n",
    "\n",
    "#Descriptive statistics of coefficients of variance.\n",
    "print(df.CV.describe())\n",
    "\n",
    "#Define upper limit of CV according to risk profile.\n",
    "upper_cv = df.CV.quantile(.6)\n",
    "print(f'\\nCV upper limit: {upper_cv}')\n",
    "\n",
    "#Get the 5 zipcodes with highest ROIs within the firms risk profile.\n",
    "zc_best5 = df[df['CV']<upper_cv].sort_values('ROI',axis=0,ascending=False)[:5]\n",
    "print('\\n Best 5 Zipcodes:')\n",
    "zc_best5[['zipcode','ROI','CV']]\n",
    "\n",
    "warnings.filterwarnings"
   ]
  },
  {
   "cell_type": "code",
   "execution_count": 48,
   "metadata": {},
   "outputs": [],
   "source": [
    "df.drop(['regionid', 'sizerank', 'metro'], axis=1,inplace=True)"
   ]
  },
  {
   "cell_type": "code",
   "execution_count": 49,
   "metadata": {
    "scrolled": true
   },
   "outputs": [
    {
     "data": {
      "text/html": [
       "<div>\n",
       "<style scoped>\n",
       "    .dataframe tbody tr th:only-of-type {\n",
       "        vertical-align: middle;\n",
       "    }\n",
       "\n",
       "    .dataframe tbody tr th {\n",
       "        vertical-align: top;\n",
       "    }\n",
       "\n",
       "    .dataframe thead th {\n",
       "        text-align: right;\n",
       "    }\n",
       "</style>\n",
       "<table border=\"1\" class=\"dataframe\">\n",
       "  <thead>\n",
       "    <tr style=\"text-align: right;\">\n",
       "      <th></th>\n",
       "      <th>zipcode</th>\n",
       "      <th>population</th>\n",
       "      <th>median_family_income</th>\n",
       "      <th>latitude</th>\n",
       "      <th>longitude</th>\n",
       "    </tr>\n",
       "  </thead>\n",
       "  <tbody>\n",
       "    <tr>\n",
       "      <th>31142</th>\n",
       "      <td>73301</td>\n",
       "      <td>NaN</td>\n",
       "      <td>NaN</td>\n",
       "      <td>NaN</td>\n",
       "      <td>NaN</td>\n",
       "    </tr>\n",
       "    <tr>\n",
       "      <th>31143</th>\n",
       "      <td>73344</td>\n",
       "      <td>NaN</td>\n",
       "      <td>NaN</td>\n",
       "      <td>NaN</td>\n",
       "      <td>NaN</td>\n",
       "    </tr>\n",
       "    <tr>\n",
       "      <th>31744</th>\n",
       "      <td>75001</td>\n",
       "      <td>14,992</td>\n",
       "      <td>$79,551</td>\n",
       "      <td>32.959999</td>\n",
       "      <td>-96.838997</td>\n",
       "    </tr>\n",
       "    <tr>\n",
       "      <th>31745</th>\n",
       "      <td>75002</td>\n",
       "      <td>71,253</td>\n",
       "      <td>$105,656</td>\n",
       "      <td>33.090000</td>\n",
       "      <td>-96.609001</td>\n",
       "    </tr>\n",
       "    <tr>\n",
       "      <th>31746</th>\n",
       "      <td>75006</td>\n",
       "      <td>51,642</td>\n",
       "      <td>$72,325</td>\n",
       "      <td>32.962002</td>\n",
       "      <td>-96.899002</td>\n",
       "    </tr>\n",
       "    <tr>\n",
       "      <th>...</th>\n",
       "      <td>...</td>\n",
       "      <td>...</td>\n",
       "      <td>...</td>\n",
       "      <td>...</td>\n",
       "      <td>...</td>\n",
       "    </tr>\n",
       "    <tr>\n",
       "      <th>34257</th>\n",
       "      <td>79961</td>\n",
       "      <td>NaN</td>\n",
       "      <td>NaN</td>\n",
       "      <td>NaN</td>\n",
       "      <td>NaN</td>\n",
       "    </tr>\n",
       "    <tr>\n",
       "      <th>34258</th>\n",
       "      <td>79968</td>\n",
       "      <td>NaN</td>\n",
       "      <td>NaN</td>\n",
       "      <td>NaN</td>\n",
       "      <td>NaN</td>\n",
       "    </tr>\n",
       "    <tr>\n",
       "      <th>34259</th>\n",
       "      <td>79976</td>\n",
       "      <td>NaN</td>\n",
       "      <td>NaN</td>\n",
       "      <td>NaN</td>\n",
       "      <td>NaN</td>\n",
       "    </tr>\n",
       "    <tr>\n",
       "      <th>34260</th>\n",
       "      <td>79978</td>\n",
       "      <td>NaN</td>\n",
       "      <td>NaN</td>\n",
       "      <td>NaN</td>\n",
       "      <td>NaN</td>\n",
       "    </tr>\n",
       "    <tr>\n",
       "      <th>34261</th>\n",
       "      <td>79980</td>\n",
       "      <td>NaN</td>\n",
       "      <td>NaN</td>\n",
       "      <td>NaN</td>\n",
       "      <td>NaN</td>\n",
       "    </tr>\n",
       "  </tbody>\n",
       "</table>\n",
       "<p>1839 rows × 5 columns</p>\n",
       "</div>"
      ],
      "text/plain": [
       "       zipcode population median_family_income   latitude  longitude\n",
       "31142    73301        NaN                  NaN        NaN        NaN\n",
       "31143    73344        NaN                  NaN        NaN        NaN\n",
       "31744    75001     14,992              $79,551  32.959999 -96.838997\n",
       "31745    75002     71,253             $105,656  33.090000 -96.609001\n",
       "31746    75006     51,642              $72,325  32.962002 -96.899002\n",
       "...        ...        ...                  ...        ...        ...\n",
       "34257    79961        NaN                  NaN        NaN        NaN\n",
       "34258    79968        NaN                  NaN        NaN        NaN\n",
       "34259    79976        NaN                  NaN        NaN        NaN\n",
       "34260    79978        NaN                  NaN        NaN        NaN\n",
       "34261    79980        NaN                  NaN        NaN        NaN\n",
       "\n",
       "[1839 rows x 5 columns]"
      ]
     },
     "execution_count": 49,
     "metadata": {},
     "output_type": "execute_result"
    }
   ],
   "source": [
    "df_income = df_income[df_income.columns[np.r_[0,5,7,9:11]]]\n",
    "df_income\n"
   ]
  },
  {
   "cell_type": "code",
   "execution_count": 50,
   "metadata": {},
   "outputs": [
    {
     "name": "stderr",
     "output_type": "stream",
     "text": [
      "<ipython-input-50-07f5f36c8a35>:5: SettingWithCopyWarning: \n",
      "A value is trying to be set on a copy of a slice from a DataFrame.\n",
      "Try using .loc[row_indexer,col_indexer] = value instead\n",
      "\n",
      "See the caveats in the documentation: https://pandas.pydata.org/pandas-docs/stable/user_guide/indexing.html#returning-a-view-versus-a-copy\n",
      "  df_income['median_family_income'] = df_income['median_family_income'].astype(int)\n",
      "<ipython-input-50-07f5f36c8a35>:6: SettingWithCopyWarning: \n",
      "A value is trying to be set on a copy of a slice from a DataFrame.\n",
      "Try using .loc[row_indexer,col_indexer] = value instead\n",
      "\n",
      "See the caveats in the documentation: https://pandas.pydata.org/pandas-docs/stable/user_guide/indexing.html#returning-a-view-versus-a-copy\n",
      "  df_income['population'] = df_income['population'].str.replace(',','')\n",
      "<ipython-input-50-07f5f36c8a35>:7: SettingWithCopyWarning: \n",
      "A value is trying to be set on a copy of a slice from a DataFrame.\n",
      "Try using .loc[row_indexer,col_indexer] = value instead\n",
      "\n",
      "See the caveats in the documentation: https://pandas.pydata.org/pandas-docs/stable/user_guide/indexing.html#returning-a-view-versus-a-copy\n",
      "  df_income['population'] = df_income['population'].astype(int)\n"
     ]
    }
   ],
   "source": [
    "# fixing mfi and pop columns\n",
    "df_income['median_family_income'] = df_income['median_family_income'].str.strip('$\\n\\t')\n",
    "df_income['median_family_income'] = df_income['median_family_income'].str.replace(',','')\n",
    "df_income = df_income[df_income['median_family_income'].notna()]\n",
    "df_income['median_family_income'] = df_income['median_family_income'].astype(int)\n",
    "df_income['population'] = df_income['population'].str.replace(',','')\n",
    "df_income['population'] = df_income['population'].astype(int)"
   ]
  },
  {
   "cell_type": "code",
   "execution_count": 51,
   "metadata": {},
   "outputs": [],
   "source": [
    "def melt_data(raw_df):\n",
    "    melted = pd.melt(raw_df, id_vars=['zipcode', 'City', 'CountyName','ROI','std','mean','CV'], var_name='date')\n",
    "    melted['date'] = pd.to_datetime(melted['date'], infer_datetime_format=True)\n",
    "    melted['year'] = [d.year for d in melted.date]\n",
    "    melted = melted.dropna(subset=['value'])\n",
    "    return melted"
   ]
  },
  {
   "cell_type": "code",
   "execution_count": 52,
   "metadata": {},
   "outputs": [
    {
     "name": "stdout",
     "output_type": "stream",
     "text": [
      "<class 'pandas.core.frame.DataFrame'>\n",
      "Int64Index: 255096 entries, 0 to 262084\n",
      "Data columns (total 10 columns):\n",
      " #   Column      Non-Null Count   Dtype         \n",
      "---  ------      --------------   -----         \n",
      " 0   zipcode     255096 non-null  int64         \n",
      " 1   City        255096 non-null  object        \n",
      " 2   CountyName  255096 non-null  object        \n",
      " 3   ROI         250160 non-null  float64       \n",
      " 4   std         255096 non-null  float64       \n",
      " 5   mean        255096 non-null  float64       \n",
      " 6   CV          255096 non-null  float64       \n",
      " 7   date        255096 non-null  datetime64[ns]\n",
      " 8   value       255096 non-null  float64       \n",
      " 9   year        255096 non-null  int64         \n",
      "dtypes: datetime64[ns](1), float64(5), int64(2), object(2)\n",
      "memory usage: 21.4+ MB\n"
     ]
    }
   ],
   "source": [
    "df = melt_data(raw_df)\n",
    "df.info()"
   ]
  },
  {
   "cell_type": "code",
   "execution_count": 53,
   "metadata": {},
   "outputs": [
    {
     "data": {
      "text/html": [
       "<div>\n",
       "<style scoped>\n",
       "    .dataframe tbody tr th:only-of-type {\n",
       "        vertical-align: middle;\n",
       "    }\n",
       "\n",
       "    .dataframe tbody tr th {\n",
       "        vertical-align: top;\n",
       "    }\n",
       "\n",
       "    .dataframe thead th {\n",
       "        text-align: right;\n",
       "    }\n",
       "</style>\n",
       "<table border=\"1\" class=\"dataframe\">\n",
       "  <thead>\n",
       "    <tr style=\"text-align: right;\">\n",
       "      <th></th>\n",
       "      <th>zipcode</th>\n",
       "      <th>City</th>\n",
       "      <th>CountyName</th>\n",
       "      <th>ROI</th>\n",
       "      <th>std</th>\n",
       "      <th>mean</th>\n",
       "      <th>CV</th>\n",
       "      <th>value</th>\n",
       "      <th>year</th>\n",
       "    </tr>\n",
       "    <tr>\n",
       "      <th>date</th>\n",
       "      <th></th>\n",
       "      <th></th>\n",
       "      <th></th>\n",
       "      <th></th>\n",
       "      <th></th>\n",
       "      <th></th>\n",
       "      <th></th>\n",
       "      <th></th>\n",
       "      <th></th>\n",
       "    </tr>\n",
       "  </thead>\n",
       "  <tbody>\n",
       "    <tr>\n",
       "      <th>1996-04-01</th>\n",
       "      <td>75070</td>\n",
       "      <td>McKinney</td>\n",
       "      <td>Collin</td>\n",
       "      <td>0.365295</td>\n",
       "      <td>33537.101427</td>\n",
       "      <td>219655.849057</td>\n",
       "      <td>0.152680</td>\n",
       "      <td>235700.0</td>\n",
       "      <td>1996</td>\n",
       "    </tr>\n",
       "    <tr>\n",
       "      <th>1996-04-01</th>\n",
       "      <td>77494</td>\n",
       "      <td>Katy</td>\n",
       "      <td>Harris</td>\n",
       "      <td>0.567966</td>\n",
       "      <td>37730.794353</td>\n",
       "      <td>262110.566038</td>\n",
       "      <td>0.143950</td>\n",
       "      <td>210400.0</td>\n",
       "      <td>1996</td>\n",
       "    </tr>\n",
       "    <tr>\n",
       "      <th>1996-04-01</th>\n",
       "      <td>79936</td>\n",
       "      <td>El Paso</td>\n",
       "      <td>El Paso</td>\n",
       "      <td>0.571798</td>\n",
       "      <td>18167.079218</td>\n",
       "      <td>101875.471698</td>\n",
       "      <td>0.178326</td>\n",
       "      <td>77300.0</td>\n",
       "      <td>1996</td>\n",
       "    </tr>\n",
       "    <tr>\n",
       "      <th>1996-04-01</th>\n",
       "      <td>77084</td>\n",
       "      <td>Houston</td>\n",
       "      <td>Harris</td>\n",
       "      <td>0.729474</td>\n",
       "      <td>17242.109812</td>\n",
       "      <td>121185.283019</td>\n",
       "      <td>0.142279</td>\n",
       "      <td>95000.0</td>\n",
       "      <td>1996</td>\n",
       "    </tr>\n",
       "    <tr>\n",
       "      <th>1996-04-01</th>\n",
       "      <td>77449</td>\n",
       "      <td>Katy</td>\n",
       "      <td>Harris</td>\n",
       "      <td>0.846960</td>\n",
       "      <td>18603.288493</td>\n",
       "      <td>126530.188679</td>\n",
       "      <td>0.147026</td>\n",
       "      <td>95400.0</td>\n",
       "      <td>1996</td>\n",
       "    </tr>\n",
       "    <tr>\n",
       "      <th>...</th>\n",
       "      <td>...</td>\n",
       "      <td>...</td>\n",
       "      <td>...</td>\n",
       "      <td>...</td>\n",
       "      <td>...</td>\n",
       "      <td>...</td>\n",
       "      <td>...</td>\n",
       "      <td>...</td>\n",
       "      <td>...</td>\n",
       "    </tr>\n",
       "    <tr>\n",
       "      <th>2018-04-01</th>\n",
       "      <td>76941</td>\n",
       "      <td>Mertzon</td>\n",
       "      <td>Irion</td>\n",
       "      <td>NaN</td>\n",
       "      <td>13734.029878</td>\n",
       "      <td>99318.367347</td>\n",
       "      <td>0.138283</td>\n",
       "      <td>121600.0</td>\n",
       "      <td>2018</td>\n",
       "    </tr>\n",
       "    <tr>\n",
       "      <th>2018-04-01</th>\n",
       "      <td>79313</td>\n",
       "      <td>Anton</td>\n",
       "      <td>Hockley</td>\n",
       "      <td>NaN</td>\n",
       "      <td>5286.674724</td>\n",
       "      <td>54424.675325</td>\n",
       "      <td>0.097137</td>\n",
       "      <td>63300.0</td>\n",
       "      <td>2018</td>\n",
       "    </tr>\n",
       "    <tr>\n",
       "      <th>2018-04-01</th>\n",
       "      <td>79355</td>\n",
       "      <td>Plains</td>\n",
       "      <td>Yoakum</td>\n",
       "      <td>NaN</td>\n",
       "      <td>12929.465872</td>\n",
       "      <td>78967.346939</td>\n",
       "      <td>0.163732</td>\n",
       "      <td>93500.0</td>\n",
       "      <td>2018</td>\n",
       "    </tr>\n",
       "    <tr>\n",
       "      <th>2018-04-01</th>\n",
       "      <td>79366</td>\n",
       "      <td>Ransom Canyon</td>\n",
       "      <td>Lubbock</td>\n",
       "      <td>0.914498</td>\n",
       "      <td>31276.315584</td>\n",
       "      <td>172420.377358</td>\n",
       "      <td>0.181396</td>\n",
       "      <td>257500.0</td>\n",
       "      <td>2018</td>\n",
       "    </tr>\n",
       "    <tr>\n",
       "      <th>2018-04-01</th>\n",
       "      <td>77457</td>\n",
       "      <td>Matagorda</td>\n",
       "      <td>Matagorda</td>\n",
       "      <td>1.506064</td>\n",
       "      <td>40483.593081</td>\n",
       "      <td>153585.660377</td>\n",
       "      <td>0.263590</td>\n",
       "      <td>227300.0</td>\n",
       "      <td>2018</td>\n",
       "    </tr>\n",
       "  </tbody>\n",
       "</table>\n",
       "<p>255096 rows × 9 columns</p>\n",
       "</div>"
      ],
      "text/plain": [
       "            zipcode           City CountyName       ROI           std  \\\n",
       "date                                                                    \n",
       "1996-04-01    75070       McKinney     Collin  0.365295  33537.101427   \n",
       "1996-04-01    77494           Katy     Harris  0.567966  37730.794353   \n",
       "1996-04-01    79936        El Paso    El Paso  0.571798  18167.079218   \n",
       "1996-04-01    77084        Houston     Harris  0.729474  17242.109812   \n",
       "1996-04-01    77449           Katy     Harris  0.846960  18603.288493   \n",
       "...             ...            ...        ...       ...           ...   \n",
       "2018-04-01    76941        Mertzon      Irion       NaN  13734.029878   \n",
       "2018-04-01    79313          Anton    Hockley       NaN   5286.674724   \n",
       "2018-04-01    79355         Plains     Yoakum       NaN  12929.465872   \n",
       "2018-04-01    79366  Ransom Canyon    Lubbock  0.914498  31276.315584   \n",
       "2018-04-01    77457      Matagorda  Matagorda  1.506064  40483.593081   \n",
       "\n",
       "                     mean        CV     value  year  \n",
       "date                                                 \n",
       "1996-04-01  219655.849057  0.152680  235700.0  1996  \n",
       "1996-04-01  262110.566038  0.143950  210400.0  1996  \n",
       "1996-04-01  101875.471698  0.178326   77300.0  1996  \n",
       "1996-04-01  121185.283019  0.142279   95000.0  1996  \n",
       "1996-04-01  126530.188679  0.147026   95400.0  1996  \n",
       "...                   ...       ...       ...   ...  \n",
       "2018-04-01   99318.367347  0.138283  121600.0  2018  \n",
       "2018-04-01   54424.675325  0.097137   63300.0  2018  \n",
       "2018-04-01   78967.346939  0.163732   93500.0  2018  \n",
       "2018-04-01  172420.377358  0.181396  257500.0  2018  \n",
       "2018-04-01  153585.660377  0.263590  227300.0  2018  \n",
       "\n",
       "[255096 rows x 9 columns]"
      ]
     },
     "execution_count": 53,
     "metadata": {},
     "output_type": "execute_result"
    }
   ],
   "source": [
    "df.set_index(df['date'], inplace = True)\n",
    "df.drop('date',axis=1, inplace=True)\n",
    "df"
   ]
  },
  {
   "cell_type": "code",
   "execution_count": 54,
   "metadata": {},
   "outputs": [
    {
     "name": "stdout",
     "output_type": "stream",
     "text": [
      "<class 'pandas.core.frame.DataFrame'>\n",
      "DatetimeIndex: 255096 entries, 1996-04-01 to 2018-04-01\n",
      "Data columns (total 13 columns):\n",
      " #   Column                Non-Null Count   Dtype  \n",
      "---  ------                --------------   -----  \n",
      " 0   zipcode               255096 non-null  int64  \n",
      " 1   City                  255096 non-null  object \n",
      " 2   CountyName            255096 non-null  object \n",
      " 3   ROI                   250160 non-null  float64\n",
      " 4   std                   255096 non-null  float64\n",
      " 5   mean                  255096 non-null  float64\n",
      " 6   CV                    255096 non-null  float64\n",
      " 7   value                 255096 non-null  float64\n",
      " 8   year                  255096 non-null  int64  \n",
      " 9   population            252181 non-null  float64\n",
      " 10  median_family_income  252181 non-null  float64\n",
      " 11  latitude              252181 non-null  float64\n",
      " 12  longitude             252181 non-null  float64\n",
      "dtypes: float64(9), int64(2), object(2)\n",
      "memory usage: 27.2+ MB\n"
     ]
    }
   ],
   "source": [
    "df_merged = df.reset_index().merge(df_income, how='left').set_index('date')\n",
    "df_merged.info()"
   ]
  },
  {
   "cell_type": "code",
   "execution_count": 55,
   "metadata": {},
   "outputs": [
    {
     "data": {
      "text/html": [
       "<div>\n",
       "<style scoped>\n",
       "    .dataframe tbody tr th:only-of-type {\n",
       "        vertical-align: middle;\n",
       "    }\n",
       "\n",
       "    .dataframe tbody tr th {\n",
       "        vertical-align: top;\n",
       "    }\n",
       "\n",
       "    .dataframe thead th {\n",
       "        text-align: right;\n",
       "    }\n",
       "</style>\n",
       "<table border=\"1\" class=\"dataframe\">\n",
       "  <thead>\n",
       "    <tr style=\"text-align: right;\">\n",
       "      <th></th>\n",
       "      <th>count</th>\n",
       "      <th>mean</th>\n",
       "      <th>std</th>\n",
       "      <th>min</th>\n",
       "      <th>25%</th>\n",
       "      <th>50%</th>\n",
       "      <th>75%</th>\n",
       "      <th>max</th>\n",
       "    </tr>\n",
       "  </thead>\n",
       "  <tbody>\n",
       "    <tr>\n",
       "      <th>zipcode</th>\n",
       "      <td>255096.0</td>\n",
       "      <td>77163.777546</td>\n",
       "      <td>1361.342308</td>\n",
       "      <td>75001.000000</td>\n",
       "      <td>76017.000000</td>\n",
       "      <td>77098.000000</td>\n",
       "      <td>78251.000000</td>\n",
       "      <td>7.993800e+04</td>\n",
       "    </tr>\n",
       "    <tr>\n",
       "      <th>ROI</th>\n",
       "      <td>250160.0</td>\n",
       "      <td>0.940549</td>\n",
       "      <td>0.418125</td>\n",
       "      <td>-0.375469</td>\n",
       "      <td>0.721048</td>\n",
       "      <td>0.903395</td>\n",
       "      <td>1.101759</td>\n",
       "      <td>6.550360e+00</td>\n",
       "    </tr>\n",
       "    <tr>\n",
       "      <th>std</th>\n",
       "      <td>255096.0</td>\n",
       "      <td>23762.532113</td>\n",
       "      <td>16134.709292</td>\n",
       "      <td>2684.773009</td>\n",
       "      <td>13998.832825</td>\n",
       "      <td>19663.932774</td>\n",
       "      <td>29134.083926</td>\n",
       "      <td>1.437548e+05</td>\n",
       "    </tr>\n",
       "    <tr>\n",
       "      <th>mean</th>\n",
       "      <td>255096.0</td>\n",
       "      <td>140540.600793</td>\n",
       "      <td>94822.092356</td>\n",
       "      <td>32718.292683</td>\n",
       "      <td>81482.641509</td>\n",
       "      <td>115224.150943</td>\n",
       "      <td>165333.207547</td>\n",
       "      <td>8.802596e+05</td>\n",
       "    </tr>\n",
       "    <tr>\n",
       "      <th>CV</th>\n",
       "      <td>255096.0</td>\n",
       "      <td>0.168955</td>\n",
       "      <td>0.040480</td>\n",
       "      <td>0.045182</td>\n",
       "      <td>0.144163</td>\n",
       "      <td>0.166917</td>\n",
       "      <td>0.189818</td>\n",
       "      <td>3.614458e-01</td>\n",
       "    </tr>\n",
       "    <tr>\n",
       "      <th>value</th>\n",
       "      <td>255096.0</td>\n",
       "      <td>140540.600793</td>\n",
       "      <td>99061.016727</td>\n",
       "      <td>24100.000000</td>\n",
       "      <td>79900.000000</td>\n",
       "      <td>113700.000000</td>\n",
       "      <td>165100.000000</td>\n",
       "      <td>1.268600e+06</td>\n",
       "    </tr>\n",
       "    <tr>\n",
       "      <th>year</th>\n",
       "      <td>255096.0</td>\n",
       "      <td>2006.908003</td>\n",
       "      <td>6.393508</td>\n",
       "      <td>1996.000000</td>\n",
       "      <td>2001.000000</td>\n",
       "      <td>2007.000000</td>\n",
       "      <td>2012.000000</td>\n",
       "      <td>2.018000e+03</td>\n",
       "    </tr>\n",
       "    <tr>\n",
       "      <th>population</th>\n",
       "      <td>252181.0</td>\n",
       "      <td>25939.370892</td>\n",
       "      <td>20385.536014</td>\n",
       "      <td>1056.000000</td>\n",
       "      <td>9761.000000</td>\n",
       "      <td>21879.000000</td>\n",
       "      <td>37281.000000</td>\n",
       "      <td>1.282940e+05</td>\n",
       "    </tr>\n",
       "    <tr>\n",
       "      <th>median_family_income</th>\n",
       "      <td>252181.0</td>\n",
       "      <td>77689.448301</td>\n",
       "      <td>32642.262099</td>\n",
       "      <td>21169.000000</td>\n",
       "      <td>56108.000000</td>\n",
       "      <td>69722.000000</td>\n",
       "      <td>90867.000000</td>\n",
       "      <td>2.500010e+05</td>\n",
       "    </tr>\n",
       "    <tr>\n",
       "      <th>latitude</th>\n",
       "      <td>252181.0</td>\n",
       "      <td>31.108154</td>\n",
       "      <td>1.797547</td>\n",
       "      <td>25.944000</td>\n",
       "      <td>29.736000</td>\n",
       "      <td>30.805000</td>\n",
       "      <td>32.723999</td>\n",
       "      <td>3.604600e+01</td>\n",
       "    </tr>\n",
       "    <tr>\n",
       "      <th>longitude</th>\n",
       "      <td>252181.0</td>\n",
       "      <td>-97.222148</td>\n",
       "      <td>2.252386</td>\n",
       "      <td>-106.608002</td>\n",
       "      <td>-97.957001</td>\n",
       "      <td>-97.019997</td>\n",
       "      <td>-95.523003</td>\n",
       "      <td>-9.361600e+01</td>\n",
       "    </tr>\n",
       "  </tbody>\n",
       "</table>\n",
       "</div>"
      ],
      "text/plain": [
       "                         count           mean           std           min  \\\n",
       "zipcode               255096.0   77163.777546   1361.342308  75001.000000   \n",
       "ROI                   250160.0       0.940549      0.418125     -0.375469   \n",
       "std                   255096.0   23762.532113  16134.709292   2684.773009   \n",
       "mean                  255096.0  140540.600793  94822.092356  32718.292683   \n",
       "CV                    255096.0       0.168955      0.040480      0.045182   \n",
       "value                 255096.0  140540.600793  99061.016727  24100.000000   \n",
       "year                  255096.0    2006.908003      6.393508   1996.000000   \n",
       "population            252181.0   25939.370892  20385.536014   1056.000000   \n",
       "median_family_income  252181.0   77689.448301  32642.262099  21169.000000   \n",
       "latitude              252181.0      31.108154      1.797547     25.944000   \n",
       "longitude             252181.0     -97.222148      2.252386   -106.608002   \n",
       "\n",
       "                               25%            50%            75%           max  \n",
       "zipcode               76017.000000   77098.000000   78251.000000  7.993800e+04  \n",
       "ROI                       0.721048       0.903395       1.101759  6.550360e+00  \n",
       "std                   13998.832825   19663.932774   29134.083926  1.437548e+05  \n",
       "mean                  81482.641509  115224.150943  165333.207547  8.802596e+05  \n",
       "CV                        0.144163       0.166917       0.189818  3.614458e-01  \n",
       "value                 79900.000000  113700.000000  165100.000000  1.268600e+06  \n",
       "year                   2001.000000    2007.000000    2012.000000  2.018000e+03  \n",
       "population             9761.000000   21879.000000   37281.000000  1.282940e+05  \n",
       "median_family_income  56108.000000   69722.000000   90867.000000  2.500010e+05  \n",
       "latitude                 29.736000      30.805000      32.723999  3.604600e+01  \n",
       "longitude               -97.957001     -97.019997     -95.523003 -9.361600e+01  "
      ]
     },
     "execution_count": 55,
     "metadata": {},
     "output_type": "execute_result"
    }
   ],
   "source": [
    "df_merged.describe().T\n"
   ]
  },
  {
   "cell_type": "code",
   "execution_count": 56,
   "metadata": {},
   "outputs": [],
   "source": [
    "df_merged_upper_pop = df_merged['population'].quantile(.75)\n",
    "df_filtered = df_merged[(df_merged['population'] > df_merged_upper_pop)]"
   ]
  },
  {
   "cell_type": "code",
   "execution_count": 57,
   "metadata": {},
   "outputs": [
    {
     "name": "stdout",
     "output_type": "stream",
     "text": [
      "<class 'pandas.core.frame.DataFrame'>\n",
      "DatetimeIndex: 31421 entries, 1996-04-01 to 2018-04-01\n",
      "Data columns (total 13 columns):\n",
      " #   Column                Non-Null Count  Dtype  \n",
      "---  ------                --------------  -----  \n",
      " 0   zipcode               31421 non-null  int64  \n",
      " 1   City                  31421 non-null  object \n",
      " 2   CountyName            31421 non-null  object \n",
      " 3   ROI                   31421 non-null  float64\n",
      " 4   std                   31421 non-null  float64\n",
      " 5   mean                  31421 non-null  float64\n",
      " 6   CV                    31421 non-null  float64\n",
      " 7   value                 31421 non-null  float64\n",
      " 8   year                  31421 non-null  int64  \n",
      " 9   population            31421 non-null  float64\n",
      " 10  median_family_income  31421 non-null  float64\n",
      " 11  latitude              31421 non-null  float64\n",
      " 12  longitude             31421 non-null  float64\n",
      "dtypes: float64(9), int64(2), object(2)\n",
      "memory usage: 3.4+ MB\n"
     ]
    }
   ],
   "source": [
    "# Select the first quantile\n",
    "q1 = df_filtered['value'].quantile(.25)\n",
    "\n",
    "# Select the third quantile\n",
    "q3 = df_filtered['value'].quantile(.75)\n",
    "\n",
    "\n",
    "# Create a filtered in between q1 & q3\n",
    "filtered = df_filtered[(df_filtered['value']>=q1) \n",
    "             & (df_filtered['value']<=q3)]\n",
    "df_filtered = pd.DataFrame(filtered)\n",
    "df_filtered.info()"
   ]
  },
  {
   "cell_type": "code",
   "execution_count": 58,
   "metadata": {},
   "outputs": [],
   "source": [
    "# group by date and aggregate on median value\n",
    "df_filtered['median_house_price'] = df_filtered.groupby('date').aggregate({'value':'median'})\n",
    "df_filtered['affordability'] = df_filtered['value'] - df_filtered['median_family_income']/.12"
   ]
  },
  {
   "cell_type": "code",
   "execution_count": 59,
   "metadata": {
    "scrolled": true
   },
   "outputs": [
    {
     "data": {
      "text/html": [
       "<div>\n",
       "<style scoped>\n",
       "    .dataframe tbody tr th:only-of-type {\n",
       "        vertical-align: middle;\n",
       "    }\n",
       "\n",
       "    .dataframe tbody tr th {\n",
       "        vertical-align: top;\n",
       "    }\n",
       "\n",
       "    .dataframe thead th {\n",
       "        text-align: right;\n",
       "    }\n",
       "</style>\n",
       "<table border=\"1\" class=\"dataframe\">\n",
       "  <thead>\n",
       "    <tr style=\"text-align: right;\">\n",
       "      <th></th>\n",
       "      <th>zipcode</th>\n",
       "      <th>City</th>\n",
       "      <th>CountyName</th>\n",
       "      <th>ROI</th>\n",
       "      <th>std</th>\n",
       "      <th>mean</th>\n",
       "      <th>CV</th>\n",
       "      <th>value</th>\n",
       "      <th>year</th>\n",
       "      <th>population</th>\n",
       "      <th>median_family_income</th>\n",
       "      <th>latitude</th>\n",
       "      <th>longitude</th>\n",
       "      <th>median_house_price</th>\n",
       "      <th>affordability</th>\n",
       "      <th>affordability_score</th>\n",
       "    </tr>\n",
       "    <tr>\n",
       "      <th>date</th>\n",
       "      <th></th>\n",
       "      <th></th>\n",
       "      <th></th>\n",
       "      <th></th>\n",
       "      <th></th>\n",
       "      <th></th>\n",
       "      <th></th>\n",
       "      <th></th>\n",
       "      <th></th>\n",
       "      <th></th>\n",
       "      <th></th>\n",
       "      <th></th>\n",
       "      <th></th>\n",
       "      <th></th>\n",
       "      <th></th>\n",
       "      <th></th>\n",
       "    </tr>\n",
       "  </thead>\n",
       "  <tbody>\n",
       "    <tr>\n",
       "      <th>1996-04-01</th>\n",
       "      <td>78660</td>\n",
       "      <td>Pflugerville</td>\n",
       "      <td>Travis</td>\n",
       "      <td>0.748020</td>\n",
       "      <td>24894.592870</td>\n",
       "      <td>168193.584906</td>\n",
       "      <td>0.148012</td>\n",
       "      <td>138900.0</td>\n",
       "      <td>1996</td>\n",
       "      <td>91300.0</td>\n",
       "      <td>99733.0</td>\n",
       "      <td>30.440001</td>\n",
       "      <td>-97.595001</td>\n",
       "      <td>124500.0</td>\n",
       "      <td>-692208.333333</td>\n",
       "      <td>0.409033</td>\n",
       "    </tr>\n",
       "    <tr>\n",
       "      <th>1996-04-01</th>\n",
       "      <td>77573</td>\n",
       "      <td>League City</td>\n",
       "      <td>Galveston</td>\n",
       "      <td>0.848656</td>\n",
       "      <td>29647.359699</td>\n",
       "      <td>183261.509434</td>\n",
       "      <td>0.161776</td>\n",
       "      <td>141400.0</td>\n",
       "      <td>1996</td>\n",
       "      <td>88131.0</td>\n",
       "      <td>121943.0</td>\n",
       "      <td>29.504000</td>\n",
       "      <td>-95.086998</td>\n",
       "      <td>124500.0</td>\n",
       "      <td>-874791.666667</td>\n",
       "      <td>0.221835</td>\n",
       "    </tr>\n",
       "    <tr>\n",
       "      <th>1996-04-01</th>\n",
       "      <td>77584</td>\n",
       "      <td>Pearland</td>\n",
       "      <td>Brazoria</td>\n",
       "      <td>0.851986</td>\n",
       "      <td>27064.756641</td>\n",
       "      <td>188628.301887</td>\n",
       "      <td>0.143482</td>\n",
       "      <td>138500.0</td>\n",
       "      <td>1996</td>\n",
       "      <td>90372.0</td>\n",
       "      <td>126143.0</td>\n",
       "      <td>29.545000</td>\n",
       "      <td>-95.350998</td>\n",
       "      <td>124500.0</td>\n",
       "      <td>-912691.666667</td>\n",
       "      <td>0.182977</td>\n",
       "    </tr>\n",
       "    <tr>\n",
       "      <th>1996-04-01</th>\n",
       "      <td>79912</td>\n",
       "      <td>El Paso</td>\n",
       "      <td>El Paso</td>\n",
       "      <td>0.571429</td>\n",
       "      <td>26245.575483</td>\n",
       "      <td>154012.075472</td>\n",
       "      <td>0.170412</td>\n",
       "      <td>119700.0</td>\n",
       "      <td>1996</td>\n",
       "      <td>78267.0</td>\n",
       "      <td>77146.0</td>\n",
       "      <td>31.849001</td>\n",
       "      <td>-106.533997</td>\n",
       "      <td>124500.0</td>\n",
       "      <td>-523183.333333</td>\n",
       "      <td>0.582329</td>\n",
       "    </tr>\n",
       "    <tr>\n",
       "      <th>1996-04-01</th>\n",
       "      <td>78130</td>\n",
       "      <td>New Braunfels</td>\n",
       "      <td>Comal</td>\n",
       "      <td>0.784504</td>\n",
       "      <td>23349.861603</td>\n",
       "      <td>153368.301887</td>\n",
       "      <td>0.152247</td>\n",
       "      <td>123900.0</td>\n",
       "      <td>1996</td>\n",
       "      <td>77400.0</td>\n",
       "      <td>76824.0</td>\n",
       "      <td>29.694000</td>\n",
       "      <td>-98.072998</td>\n",
       "      <td>124500.0</td>\n",
       "      <td>-516300.000000</td>\n",
       "      <td>0.589387</td>\n",
       "    </tr>\n",
       "    <tr>\n",
       "      <th>...</th>\n",
       "      <td>...</td>\n",
       "      <td>...</td>\n",
       "      <td>...</td>\n",
       "      <td>...</td>\n",
       "      <td>...</td>\n",
       "      <td>...</td>\n",
       "      <td>...</td>\n",
       "      <td>...</td>\n",
       "      <td>...</td>\n",
       "      <td>...</td>\n",
       "      <td>...</td>\n",
       "      <td>...</td>\n",
       "      <td>...</td>\n",
       "      <td>...</td>\n",
       "      <td>...</td>\n",
       "      <td>...</td>\n",
       "    </tr>\n",
       "    <tr>\n",
       "      <th>2018-04-01</th>\n",
       "      <td>78552</td>\n",
       "      <td>Harlingen</td>\n",
       "      <td>Cameron</td>\n",
       "      <td>0.468835</td>\n",
       "      <td>9181.535729</td>\n",
       "      <td>85940.377358</td>\n",
       "      <td>0.106836</td>\n",
       "      <td>108400.0</td>\n",
       "      <td>2018</td>\n",
       "      <td>37948.0</td>\n",
       "      <td>52891.0</td>\n",
       "      <td>26.194000</td>\n",
       "      <td>-97.750999</td>\n",
       "      <td>144750.0</td>\n",
       "      <td>-332358.333333</td>\n",
       "      <td>0.777977</td>\n",
       "    </tr>\n",
       "    <tr>\n",
       "      <th>2018-04-01</th>\n",
       "      <td>77014</td>\n",
       "      <td>Houston</td>\n",
       "      <td>Harris</td>\n",
       "      <td>0.619588</td>\n",
       "      <td>15782.797130</td>\n",
       "      <td>122692.452830</td>\n",
       "      <td>0.128637</td>\n",
       "      <td>157100.0</td>\n",
       "      <td>2018</td>\n",
       "      <td>37488.0</td>\n",
       "      <td>55613.0</td>\n",
       "      <td>29.981001</td>\n",
       "      <td>-95.463997</td>\n",
       "      <td>144750.0</td>\n",
       "      <td>-306341.666667</td>\n",
       "      <td>0.804651</td>\n",
       "    </tr>\n",
       "    <tr>\n",
       "      <th>2018-04-01</th>\n",
       "      <td>77506</td>\n",
       "      <td>Pasadena</td>\n",
       "      <td>Harris</td>\n",
       "      <td>1.255187</td>\n",
       "      <td>12538.003841</td>\n",
       "      <td>69982.264151</td>\n",
       "      <td>0.179160</td>\n",
       "      <td>108700.0</td>\n",
       "      <td>2018</td>\n",
       "      <td>38765.0</td>\n",
       "      <td>46462.0</td>\n",
       "      <td>29.714001</td>\n",
       "      <td>-95.199997</td>\n",
       "      <td>144750.0</td>\n",
       "      <td>-278483.333333</td>\n",
       "      <td>0.833214</td>\n",
       "    </tr>\n",
       "    <tr>\n",
       "      <th>2018-04-01</th>\n",
       "      <td>77087</td>\n",
       "      <td>Houston</td>\n",
       "      <td>Harris</td>\n",
       "      <td>1.345521</td>\n",
       "      <td>16003.158261</td>\n",
       "      <td>80695.094340</td>\n",
       "      <td>0.198316</td>\n",
       "      <td>128300.0</td>\n",
       "      <td>2018</td>\n",
       "      <td>37886.0</td>\n",
       "      <td>43997.0</td>\n",
       "      <td>29.687000</td>\n",
       "      <td>-95.304001</td>\n",
       "      <td>144750.0</td>\n",
       "      <td>-238341.666667</td>\n",
       "      <td>0.874370</td>\n",
       "    </tr>\n",
       "    <tr>\n",
       "      <th>2018-04-01</th>\n",
       "      <td>75224</td>\n",
       "      <td>Dallas</td>\n",
       "      <td>Dallas</td>\n",
       "      <td>1.667832</td>\n",
       "      <td>18519.476196</td>\n",
       "      <td>84335.094340</td>\n",
       "      <td>0.219594</td>\n",
       "      <td>152600.0</td>\n",
       "      <td>2018</td>\n",
       "      <td>37592.0</td>\n",
       "      <td>46872.0</td>\n",
       "      <td>32.710999</td>\n",
       "      <td>-96.838997</td>\n",
       "      <td>144750.0</td>\n",
       "      <td>-238000.000000</td>\n",
       "      <td>0.874720</td>\n",
       "    </tr>\n",
       "  </tbody>\n",
       "</table>\n",
       "<p>31421 rows × 16 columns</p>\n",
       "</div>"
      ],
      "text/plain": [
       "            zipcode           City CountyName       ROI           std  \\\n",
       "date                                                                    \n",
       "1996-04-01    78660   Pflugerville     Travis  0.748020  24894.592870   \n",
       "1996-04-01    77573    League City  Galveston  0.848656  29647.359699   \n",
       "1996-04-01    77584       Pearland   Brazoria  0.851986  27064.756641   \n",
       "1996-04-01    79912        El Paso    El Paso  0.571429  26245.575483   \n",
       "1996-04-01    78130  New Braunfels      Comal  0.784504  23349.861603   \n",
       "...             ...            ...        ...       ...           ...   \n",
       "2018-04-01    78552      Harlingen    Cameron  0.468835   9181.535729   \n",
       "2018-04-01    77014        Houston     Harris  0.619588  15782.797130   \n",
       "2018-04-01    77506       Pasadena     Harris  1.255187  12538.003841   \n",
       "2018-04-01    77087        Houston     Harris  1.345521  16003.158261   \n",
       "2018-04-01    75224         Dallas     Dallas  1.667832  18519.476196   \n",
       "\n",
       "                     mean        CV     value  year  population  \\\n",
       "date                                                              \n",
       "1996-04-01  168193.584906  0.148012  138900.0  1996     91300.0   \n",
       "1996-04-01  183261.509434  0.161776  141400.0  1996     88131.0   \n",
       "1996-04-01  188628.301887  0.143482  138500.0  1996     90372.0   \n",
       "1996-04-01  154012.075472  0.170412  119700.0  1996     78267.0   \n",
       "1996-04-01  153368.301887  0.152247  123900.0  1996     77400.0   \n",
       "...                   ...       ...       ...   ...         ...   \n",
       "2018-04-01   85940.377358  0.106836  108400.0  2018     37948.0   \n",
       "2018-04-01  122692.452830  0.128637  157100.0  2018     37488.0   \n",
       "2018-04-01   69982.264151  0.179160  108700.0  2018     38765.0   \n",
       "2018-04-01   80695.094340  0.198316  128300.0  2018     37886.0   \n",
       "2018-04-01   84335.094340  0.219594  152600.0  2018     37592.0   \n",
       "\n",
       "            median_family_income   latitude   longitude  median_house_price  \\\n",
       "date                                                                          \n",
       "1996-04-01               99733.0  30.440001  -97.595001            124500.0   \n",
       "1996-04-01              121943.0  29.504000  -95.086998            124500.0   \n",
       "1996-04-01              126143.0  29.545000  -95.350998            124500.0   \n",
       "1996-04-01               77146.0  31.849001 -106.533997            124500.0   \n",
       "1996-04-01               76824.0  29.694000  -98.072998            124500.0   \n",
       "...                          ...        ...         ...                 ...   \n",
       "2018-04-01               52891.0  26.194000  -97.750999            144750.0   \n",
       "2018-04-01               55613.0  29.981001  -95.463997            144750.0   \n",
       "2018-04-01               46462.0  29.714001  -95.199997            144750.0   \n",
       "2018-04-01               43997.0  29.687000  -95.304001            144750.0   \n",
       "2018-04-01               46872.0  32.710999  -96.838997            144750.0   \n",
       "\n",
       "            affordability  affordability_score  \n",
       "date                                            \n",
       "1996-04-01 -692208.333333             0.409033  \n",
       "1996-04-01 -874791.666667             0.221835  \n",
       "1996-04-01 -912691.666667             0.182977  \n",
       "1996-04-01 -523183.333333             0.582329  \n",
       "1996-04-01 -516300.000000             0.589387  \n",
       "...                   ...                  ...  \n",
       "2018-04-01 -332358.333333             0.777977  \n",
       "2018-04-01 -306341.666667             0.804651  \n",
       "2018-04-01 -278483.333333             0.833214  \n",
       "2018-04-01 -238341.666667             0.874370  \n",
       "2018-04-01 -238000.000000             0.874720  \n",
       "\n",
       "[31421 rows x 16 columns]"
      ]
     },
     "execution_count": 59,
     "metadata": {},
     "output_type": "execute_result"
    }
   ],
   "source": [
    "# create function to normalize data\n",
    "def normalize_data(data):\n",
    "    return (data - np.min(data)) / (np.max(data) - np.min(data))\n",
    "df_filtered['affordability_score']  = normalize_data(df_filtered['affordability'])\n",
    "df_filtered"
   ]
  },
  {
   "cell_type": "code",
   "execution_count": 60,
   "metadata": {},
   "outputs": [
    {
     "data": {
      "text/plain": [
       "0.5827053536337383"
      ]
     },
     "execution_count": 60,
     "metadata": {},
     "output_type": "execute_result"
    }
   ],
   "source": [
    "# filtering to the 20th percentile\n",
    "top_20 = df_filtered['affordability_score'].quantile(.5)\n",
    "top_20"
   ]
  },
  {
   "cell_type": "code",
   "execution_count": 61,
   "metadata": {},
   "outputs": [],
   "source": [
    "df_filtered_20 = df_filtered[(df_filtered['affordability_score'] < top_20)]"
   ]
  },
  {
   "cell_type": "code",
   "execution_count": 62,
   "metadata": {},
   "outputs": [
    {
     "data": {
      "text/plain": [
       "date                    0\n",
       "zipcode                 0\n",
       "City                    0\n",
       "CountyName              0\n",
       "ROI                     0\n",
       "std                     0\n",
       "mean                    0\n",
       "CV                      0\n",
       "value                   0\n",
       "year                    0\n",
       "population              0\n",
       "median_family_income    0\n",
       "latitude                0\n",
       "longitude               0\n",
       "median_house_price      0\n",
       "affordability           0\n",
       "affordability_score     0\n",
       "dtype: int64"
      ]
     },
     "execution_count": 62,
     "metadata": {},
     "output_type": "execute_result"
    }
   ],
   "source": [
    "df_filtered_20.reset_index().isna().sum()"
   ]
  },
  {
   "cell_type": "code",
   "execution_count": 63,
   "metadata": {},
   "outputs": [],
   "source": [
    "df_filtered_20 = df_filtered_20['2017-01-01':].dropna()"
   ]
  },
  {
   "cell_type": "code",
   "execution_count": 64,
   "metadata": {},
   "outputs": [
    {
     "data": {
      "text/html": [
       "<div>\n",
       "<style scoped>\n",
       "    .dataframe tbody tr th:only-of-type {\n",
       "        vertical-align: middle;\n",
       "    }\n",
       "\n",
       "    .dataframe tbody tr th {\n",
       "        vertical-align: top;\n",
       "    }\n",
       "\n",
       "    .dataframe thead th {\n",
       "        text-align: right;\n",
       "    }\n",
       "</style>\n",
       "<table border=\"1\" class=\"dataframe\">\n",
       "  <thead>\n",
       "    <tr style=\"text-align: right;\">\n",
       "      <th></th>\n",
       "      <th>zipcode</th>\n",
       "      <th>City</th>\n",
       "      <th>CountyName</th>\n",
       "      <th>ROI</th>\n",
       "      <th>std</th>\n",
       "      <th>mean</th>\n",
       "      <th>CV</th>\n",
       "      <th>value</th>\n",
       "      <th>year</th>\n",
       "      <th>population</th>\n",
       "      <th>median_family_income</th>\n",
       "      <th>latitude</th>\n",
       "      <th>longitude</th>\n",
       "      <th>median_house_price</th>\n",
       "      <th>affordability</th>\n",
       "      <th>affordability_score</th>\n",
       "    </tr>\n",
       "    <tr>\n",
       "      <th>date</th>\n",
       "      <th></th>\n",
       "      <th></th>\n",
       "      <th></th>\n",
       "      <th></th>\n",
       "      <th></th>\n",
       "      <th></th>\n",
       "      <th></th>\n",
       "      <th></th>\n",
       "      <th></th>\n",
       "      <th></th>\n",
       "      <th></th>\n",
       "      <th></th>\n",
       "      <th></th>\n",
       "      <th></th>\n",
       "      <th></th>\n",
       "      <th></th>\n",
       "    </tr>\n",
       "  </thead>\n",
       "  <tbody>\n",
       "    <tr>\n",
       "      <th>2017-01-01</th>\n",
       "      <td>79423</td>\n",
       "      <td>Lubbock</td>\n",
       "      <td>Lubbock</td>\n",
       "      <td>1.082037</td>\n",
       "      <td>21451.329003</td>\n",
       "      <td>105156.226415</td>\n",
       "      <td>0.203995</td>\n",
       "      <td>139000.0</td>\n",
       "      <td>2017</td>\n",
       "      <td>40303.0</td>\n",
       "      <td>82989.0</td>\n",
       "      <td>33.439999</td>\n",
       "      <td>-101.855003</td>\n",
       "      <td>145050.0</td>\n",
       "      <td>-552575.000000</td>\n",
       "      <td>0.552195</td>\n",
       "    </tr>\n",
       "    <tr>\n",
       "      <th>2017-01-01</th>\n",
       "      <td>77571</td>\n",
       "      <td>La Porte</td>\n",
       "      <td>Harris</td>\n",
       "      <td>1.040936</td>\n",
       "      <td>20507.800452</td>\n",
       "      <td>116197.358491</td>\n",
       "      <td>0.176491</td>\n",
       "      <td>153100.0</td>\n",
       "      <td>2017</td>\n",
       "      <td>37427.0</td>\n",
       "      <td>85150.0</td>\n",
       "      <td>29.688000</td>\n",
       "      <td>-95.056999</td>\n",
       "      <td>145050.0</td>\n",
       "      <td>-556483.333333</td>\n",
       "      <td>0.548188</td>\n",
       "    </tr>\n",
       "    <tr>\n",
       "      <th>2017-01-01</th>\n",
       "      <td>76108</td>\n",
       "      <td>Fort Worth</td>\n",
       "      <td>Tarrant</td>\n",
       "      <td>1.013480</td>\n",
       "      <td>17152.126989</td>\n",
       "      <td>106005.660377</td>\n",
       "      <td>0.161804</td>\n",
       "      <td>143500.0</td>\n",
       "      <td>2017</td>\n",
       "      <td>43169.0</td>\n",
       "      <td>80040.0</td>\n",
       "      <td>32.787998</td>\n",
       "      <td>-97.524002</td>\n",
       "      <td>145050.0</td>\n",
       "      <td>-523500.000000</td>\n",
       "      <td>0.582005</td>\n",
       "    </tr>\n",
       "    <tr>\n",
       "      <th>2017-01-01</th>\n",
       "      <td>75052</td>\n",
       "      <td>Grand Prairie</td>\n",
       "      <td>Dallas</td>\n",
       "      <td>0.995040</td>\n",
       "      <td>19370.586349</td>\n",
       "      <td>134230.188679</td>\n",
       "      <td>0.144309</td>\n",
       "      <td>176200.0</td>\n",
       "      <td>2017</td>\n",
       "      <td>95495.0</td>\n",
       "      <td>85220.0</td>\n",
       "      <td>32.665001</td>\n",
       "      <td>-97.025002</td>\n",
       "      <td>145050.0</td>\n",
       "      <td>-533966.666667</td>\n",
       "      <td>0.571274</td>\n",
       "    </tr>\n",
       "    <tr>\n",
       "      <th>2017-01-01</th>\n",
       "      <td>75104</td>\n",
       "      <td>Cedar Hill</td>\n",
       "      <td>Dallas</td>\n",
       "      <td>0.954222</td>\n",
       "      <td>18302.905606</td>\n",
       "      <td>129367.924528</td>\n",
       "      <td>0.141479</td>\n",
       "      <td>166100.0</td>\n",
       "      <td>2017</td>\n",
       "      <td>49171.0</td>\n",
       "      <td>83143.0</td>\n",
       "      <td>32.580002</td>\n",
       "      <td>-96.964996</td>\n",
       "      <td>145050.0</td>\n",
       "      <td>-526758.333333</td>\n",
       "      <td>0.578664</td>\n",
       "    </tr>\n",
       "  </tbody>\n",
       "</table>\n",
       "</div>"
      ],
      "text/plain": [
       "            zipcode           City CountyName       ROI           std  \\\n",
       "date                                                                    \n",
       "2017-01-01    79423        Lubbock    Lubbock  1.082037  21451.329003   \n",
       "2017-01-01    77571       La Porte     Harris  1.040936  20507.800452   \n",
       "2017-01-01    76108     Fort Worth    Tarrant  1.013480  17152.126989   \n",
       "2017-01-01    75052  Grand Prairie     Dallas  0.995040  19370.586349   \n",
       "2017-01-01    75104     Cedar Hill     Dallas  0.954222  18302.905606   \n",
       "\n",
       "                     mean        CV     value  year  population  \\\n",
       "date                                                              \n",
       "2017-01-01  105156.226415  0.203995  139000.0  2017     40303.0   \n",
       "2017-01-01  116197.358491  0.176491  153100.0  2017     37427.0   \n",
       "2017-01-01  106005.660377  0.161804  143500.0  2017     43169.0   \n",
       "2017-01-01  134230.188679  0.144309  176200.0  2017     95495.0   \n",
       "2017-01-01  129367.924528  0.141479  166100.0  2017     49171.0   \n",
       "\n",
       "            median_family_income   latitude   longitude  median_house_price  \\\n",
       "date                                                                          \n",
       "2017-01-01               82989.0  33.439999 -101.855003            145050.0   \n",
       "2017-01-01               85150.0  29.688000  -95.056999            145050.0   \n",
       "2017-01-01               80040.0  32.787998  -97.524002            145050.0   \n",
       "2017-01-01               85220.0  32.665001  -97.025002            145050.0   \n",
       "2017-01-01               83143.0  32.580002  -96.964996            145050.0   \n",
       "\n",
       "            affordability  affordability_score  \n",
       "date                                            \n",
       "2017-01-01 -552575.000000             0.552195  \n",
       "2017-01-01 -556483.333333             0.548188  \n",
       "2017-01-01 -523500.000000             0.582005  \n",
       "2017-01-01 -533966.666667             0.571274  \n",
       "2017-01-01 -526758.333333             0.578664  "
      ]
     },
     "execution_count": 64,
     "metadata": {},
     "output_type": "execute_result"
    }
   ],
   "source": [
    "df_filtered_20 = df_filtered_20.reset_index()\n",
    "df_filtered_20 = df_filtered_20.loc[df_filtered_20.groupby(\"zipcode\")[\"ROI\"].idxmax()].sort_values('ROI',axis=0,ascending=False)[:5]\n",
    "df_filtered_20.set_index('date',inplace=True)\n",
    "df_filtered_20"
   ]
  },
  {
   "cell_type": "code",
   "execution_count": 65,
   "metadata": {},
   "outputs": [],
   "source": [
    "zipcodes = list(df_filtered_20['zipcode'].values)"
   ]
  },
  {
   "cell_type": "code",
   "execution_count": 66,
   "metadata": {},
   "outputs": [],
   "source": [
    "df_filtered_20 = df_filtered_20[df_filtered_20['zipcode'].isin(zipcodes)]"
   ]
  },
  {
   "cell_type": "code",
   "execution_count": 67,
   "metadata": {},
   "outputs": [],
   "source": [
    "df_merged = df_merged[df_merged['zipcode'].isin(zipcodes)]"
   ]
  },
  {
   "cell_type": "code",
   "execution_count": 68,
   "metadata": {},
   "outputs": [
    {
     "data": {
      "text/plain": [
       "77571    265\n",
       "79423    265\n",
       "75104    265\n",
       "75052    265\n",
       "76108    265\n",
       "Name: zipcode, dtype: int64"
      ]
     },
     "execution_count": 68,
     "metadata": {},
     "output_type": "execute_result"
    }
   ],
   "source": [
    "df_merged['zipcode'].value_counts()"
   ]
  },
  {
   "cell_type": "code",
   "execution_count": 69,
   "metadata": {},
   "outputs": [],
   "source": [
    "df_prices = pd.DataFrame(df_merged[['zipcode', 'value']], index = df_merged.index)\n",
    "df_prices.reset_index(inplace=True)"
   ]
  },
  {
   "cell_type": "code",
   "execution_count": 70,
   "metadata": {},
   "outputs": [
    {
     "data": {
      "text/html": [
       "<div>\n",
       "<style scoped>\n",
       "    .dataframe tbody tr th:only-of-type {\n",
       "        vertical-align: middle;\n",
       "    }\n",
       "\n",
       "    .dataframe tbody tr th {\n",
       "        vertical-align: top;\n",
       "    }\n",
       "\n",
       "    .dataframe thead th {\n",
       "        text-align: right;\n",
       "    }\n",
       "</style>\n",
       "<table border=\"1\" class=\"dataframe\">\n",
       "  <thead>\n",
       "    <tr style=\"text-align: right;\">\n",
       "      <th>zipcode</th>\n",
       "      <th>75052</th>\n",
       "      <th>75104</th>\n",
       "      <th>76108</th>\n",
       "      <th>77571</th>\n",
       "      <th>79423</th>\n",
       "    </tr>\n",
       "    <tr>\n",
       "      <th>date</th>\n",
       "      <th></th>\n",
       "      <th></th>\n",
       "      <th></th>\n",
       "      <th></th>\n",
       "      <th></th>\n",
       "    </tr>\n",
       "  </thead>\n",
       "  <tbody>\n",
       "    <tr>\n",
       "      <th>1996-04-01</th>\n",
       "      <td>100800.0</td>\n",
       "      <td>98300.0</td>\n",
       "      <td>81600.0</td>\n",
       "      <td>85500.0</td>\n",
       "      <td>70700.0</td>\n",
       "    </tr>\n",
       "    <tr>\n",
       "      <th>1996-05-01</th>\n",
       "      <td>100900.0</td>\n",
       "      <td>98500.0</td>\n",
       "      <td>81500.0</td>\n",
       "      <td>85600.0</td>\n",
       "      <td>70900.0</td>\n",
       "    </tr>\n",
       "    <tr>\n",
       "      <th>1996-06-01</th>\n",
       "      <td>101000.0</td>\n",
       "      <td>98700.0</td>\n",
       "      <td>81400.0</td>\n",
       "      <td>85800.0</td>\n",
       "      <td>71200.0</td>\n",
       "    </tr>\n",
       "    <tr>\n",
       "      <th>1996-07-01</th>\n",
       "      <td>101000.0</td>\n",
       "      <td>99000.0</td>\n",
       "      <td>81400.0</td>\n",
       "      <td>85900.0</td>\n",
       "      <td>71500.0</td>\n",
       "    </tr>\n",
       "    <tr>\n",
       "      <th>1996-08-01</th>\n",
       "      <td>101200.0</td>\n",
       "      <td>99200.0</td>\n",
       "      <td>81400.0</td>\n",
       "      <td>86000.0</td>\n",
       "      <td>71800.0</td>\n",
       "    </tr>\n",
       "    <tr>\n",
       "      <th>...</th>\n",
       "      <td>...</td>\n",
       "      <td>...</td>\n",
       "      <td>...</td>\n",
       "      <td>...</td>\n",
       "      <td>...</td>\n",
       "    </tr>\n",
       "    <tr>\n",
       "      <th>2017-12-01</th>\n",
       "      <td>194300.0</td>\n",
       "      <td>184400.0</td>\n",
       "      <td>158300.0</td>\n",
       "      <td>170300.0</td>\n",
       "      <td>147900.0</td>\n",
       "    </tr>\n",
       "    <tr>\n",
       "      <th>2018-01-01</th>\n",
       "      <td>195200.0</td>\n",
       "      <td>187000.0</td>\n",
       "      <td>160100.0</td>\n",
       "      <td>171800.0</td>\n",
       "      <td>148200.0</td>\n",
       "    </tr>\n",
       "    <tr>\n",
       "      <th>2018-02-01</th>\n",
       "      <td>196700.0</td>\n",
       "      <td>189100.0</td>\n",
       "      <td>161900.0</td>\n",
       "      <td>173100.0</td>\n",
       "      <td>148200.0</td>\n",
       "    </tr>\n",
       "    <tr>\n",
       "      <th>2018-03-01</th>\n",
       "      <td>199100.0</td>\n",
       "      <td>190800.0</td>\n",
       "      <td>163400.0</td>\n",
       "      <td>174100.0</td>\n",
       "      <td>147800.0</td>\n",
       "    </tr>\n",
       "    <tr>\n",
       "      <th>2018-04-01</th>\n",
       "      <td>201100.0</td>\n",
       "      <td>192100.0</td>\n",
       "      <td>164300.0</td>\n",
       "      <td>174500.0</td>\n",
       "      <td>147200.0</td>\n",
       "    </tr>\n",
       "  </tbody>\n",
       "</table>\n",
       "<p>265 rows × 5 columns</p>\n",
       "</div>"
      ],
      "text/plain": [
       "zipcode        75052     75104     76108     77571     79423\n",
       "date                                                        \n",
       "1996-04-01  100800.0   98300.0   81600.0   85500.0   70700.0\n",
       "1996-05-01  100900.0   98500.0   81500.0   85600.0   70900.0\n",
       "1996-06-01  101000.0   98700.0   81400.0   85800.0   71200.0\n",
       "1996-07-01  101000.0   99000.0   81400.0   85900.0   71500.0\n",
       "1996-08-01  101200.0   99200.0   81400.0   86000.0   71800.0\n",
       "...              ...       ...       ...       ...       ...\n",
       "2017-12-01  194300.0  184400.0  158300.0  170300.0  147900.0\n",
       "2018-01-01  195200.0  187000.0  160100.0  171800.0  148200.0\n",
       "2018-02-01  196700.0  189100.0  161900.0  173100.0  148200.0\n",
       "2018-03-01  199100.0  190800.0  163400.0  174100.0  147800.0\n",
       "2018-04-01  201100.0  192100.0  164300.0  174500.0  147200.0\n",
       "\n",
       "[265 rows x 5 columns]"
      ]
     },
     "execution_count": 70,
     "metadata": {},
     "output_type": "execute_result"
    }
   ],
   "source": [
    "df_p = df_prices.pivot(\"date\", \"zipcode\", \"value\")\n",
    "df_p"
   ]
  },
  {
   "cell_type": "code",
   "execution_count": 73,
   "metadata": {},
   "outputs": [
    {
     "data": {
      "text/plain": [
       "Int64Index([75052, 75104, 76108, 77571, 79423], dtype='int64', name='zipcode')"
      ]
     },
     "execution_count": 73,
     "metadata": {},
     "output_type": "execute_result"
    }
   ],
   "source": [
    "df_p.columns"
   ]
  },
  {
   "cell_type": "markdown",
   "metadata": {},
   "source": [
    "# 77571"
   ]
  },
  {
   "cell_type": "code",
   "execution_count": 222,
   "metadata": {},
   "outputs": [],
   "source": [
    "df_77571 = pd.DataFrame(df_p[77571][df_p[77571].notnull()]).astype(int) \n",
    "df_77571['value'] = df_77571[77571] \n",
    "df_77571.drop(df_77571.columns[np.r_[1]], axis=1, inplace=True)"
   ]
  },
  {
   "cell_type": "code",
   "execution_count": 223,
   "metadata": {},
   "outputs": [
    {
     "data": {
      "text/html": [
       "<div>\n",
       "<style scoped>\n",
       "    .dataframe tbody tr th:only-of-type {\n",
       "        vertical-align: middle;\n",
       "    }\n",
       "\n",
       "    .dataframe tbody tr th {\n",
       "        vertical-align: top;\n",
       "    }\n",
       "\n",
       "    .dataframe thead th {\n",
       "        text-align: right;\n",
       "    }\n",
       "</style>\n",
       "<table border=\"1\" class=\"dataframe\">\n",
       "  <thead>\n",
       "    <tr style=\"text-align: right;\">\n",
       "      <th></th>\n",
       "      <th>77571</th>\n",
       "    </tr>\n",
       "    <tr>\n",
       "      <th>date</th>\n",
       "      <th></th>\n",
       "    </tr>\n",
       "  </thead>\n",
       "  <tbody>\n",
       "    <tr>\n",
       "      <th>1996-04-01</th>\n",
       "      <td>85500</td>\n",
       "    </tr>\n",
       "    <tr>\n",
       "      <th>1996-05-01</th>\n",
       "      <td>85600</td>\n",
       "    </tr>\n",
       "    <tr>\n",
       "      <th>1996-06-01</th>\n",
       "      <td>85800</td>\n",
       "    </tr>\n",
       "    <tr>\n",
       "      <th>1996-07-01</th>\n",
       "      <td>85900</td>\n",
       "    </tr>\n",
       "    <tr>\n",
       "      <th>1996-08-01</th>\n",
       "      <td>86000</td>\n",
       "    </tr>\n",
       "    <tr>\n",
       "      <th>...</th>\n",
       "      <td>...</td>\n",
       "    </tr>\n",
       "    <tr>\n",
       "      <th>2017-12-01</th>\n",
       "      <td>170300</td>\n",
       "    </tr>\n",
       "    <tr>\n",
       "      <th>2018-01-01</th>\n",
       "      <td>171800</td>\n",
       "    </tr>\n",
       "    <tr>\n",
       "      <th>2018-02-01</th>\n",
       "      <td>173100</td>\n",
       "    </tr>\n",
       "    <tr>\n",
       "      <th>2018-03-01</th>\n",
       "      <td>174100</td>\n",
       "    </tr>\n",
       "    <tr>\n",
       "      <th>2018-04-01</th>\n",
       "      <td>174500</td>\n",
       "    </tr>\n",
       "  </tbody>\n",
       "</table>\n",
       "<p>265 rows × 1 columns</p>\n",
       "</div>"
      ],
      "text/plain": [
       "             77571\n",
       "date              \n",
       "1996-04-01   85500\n",
       "1996-05-01   85600\n",
       "1996-06-01   85800\n",
       "1996-07-01   85900\n",
       "1996-08-01   86000\n",
       "...            ...\n",
       "2017-12-01  170300\n",
       "2018-01-01  171800\n",
       "2018-02-01  173100\n",
       "2018-03-01  174100\n",
       "2018-04-01  174500\n",
       "\n",
       "[265 rows x 1 columns]"
      ]
     },
     "execution_count": 223,
     "metadata": {},
     "output_type": "execute_result"
    }
   ],
   "source": [
    "df_77571"
   ]
  },
  {
   "cell_type": "code",
   "execution_count": 224,
   "metadata": {},
   "outputs": [
    {
     "data": {
      "text/plain": [
       "<AxesSubplot:xlabel='date'>"
      ]
     },
     "execution_count": 224,
     "metadata": {},
     "output_type": "execute_result"
    },
    {
     "data": {
      "image/png": "[encoded data removed]",
      "text/plain": [
       "<Figure size 432x288 with 1 Axes>"
      ]
     },
     "metadata": {
      "needs_background": "light"
     },
     "output_type": "display_data"
    }
   ],
   "source": [
    "train = df_77571[:-24]\n",
    "test = df_77571[-241:]\n",
    "train.plot()"
   ]
  },
  {
   "cell_type": "code",
   "execution_count": 225,
   "metadata": {},
   "outputs": [
    {
     "data": {
      "text/plain": [
       "<AxesSubplot:xlabel='date'>"
      ]
     },
     "execution_count": 225,
     "metadata": {},
     "output_type": "execute_result"
    },
    {
     "data": {
      "image/png": "[encoded data removed]",
      "text/plain": [
       "<Figure size 432x288 with 1 Axes>"
      ]
     },
     "metadata": {
      "needs_background": "light"
     },
     "output_type": "display_data"
    }
   ],
   "source": [
    "# Plot the rolling mean with a window of a year\n",
    "\n",
    "roll_mean = train.rolling(window=52).mean()\n",
    "roll_mean.plot()"
   ]
  },
  {
   "cell_type": "code",
   "execution_count": 226,
   "metadata": {},
   "outputs": [
    {
     "data": {
      "text/plain": [
       "<AxesSubplot:xlabel='date'>"
      ]
     },
     "execution_count": 226,
     "metadata": {},
     "output_type": "execute_result"
    },
    {
     "data": {
      "image/png": "[encoded data removed]",
      "text/plain": [
       "<Figure size 864x432 with 1 Axes>"
      ]
     },
     "metadata": {
      "needs_background": "light"
     },
     "output_type": "display_data"
    },
    {
     "data": {
      "image/png": "[encoded data removed]",
      "text/plain": [
       "<Figure size 864x432 with 1 Axes>"
      ]
     },
     "metadata": {
      "needs_background": "light"
     },
     "output_type": "display_data"
    }
   ],
   "source": [
    "# Apply a 1st order difference to the time series and plot the rolling mean\n",
    "\n",
    "rm_diff_1 = roll_mean.diff(periods=1)\n",
    "rm_diff_1.plot(figsize=(12,6))\n",
    "\n",
    "\n",
    "rm_diff_2 = roll_mean.diff(periods=1).diff(periods=1)\n",
    "rm_diff_2.plot(figsize=(12,6))"
   ]
  },
  {
   "cell_type": "code",
   "execution_count": 227,
   "metadata": {},
   "outputs": [],
   "source": [
    "def stationarity_check(df):\n",
    "    roll_mean = df.rolling(window=12, center=False).mean()\n",
    "    roll_std = df.rolling(window=12, center=False).std()\n",
    "    \n",
    "    df_test = adfuller(df)\n",
    "    print('Results of Dickey-Fuller Test: \\n')\n",
    "\n",
    "    dfoutput = pd.Series(df_test[0:4], index=['Test Statistic', 'p-value', \n",
    "                                             '#Lags Used', 'Number of Observations Used'])\n",
    "    for key,value in df_test[4].items():\n",
    "        dfoutput['Critical Value (%s)'%key] = value\n",
    "    print(dfoutput)\n",
    "    roll_mean.plot()\n",
    "    roll_std.plot()\n",
    "    return None"
   ]
  },
  {
   "cell_type": "code",
   "execution_count": 229,
   "metadata": {},
   "outputs": [
    {
     "name": "stdout",
     "output_type": "stream",
     "text": [
      "Results of Dickey-Fuller Test: \n",
      "\n",
      "Test Statistic                   0.511947\n",
      "p-value                          0.985232\n",
      "#Lags Used                       5.000000\n",
      "Number of Observations Used    259.000000\n",
      "Critical Value (1%)             -3.455853\n",
      "Critical Value (5%)             -2.872765\n",
      "Critical Value (10%)            -2.572752\n",
      "dtype: float64\n",
      "None\n",
      "Results of Dickey-Fuller Test: \n",
      "\n",
      "Test Statistic                  -2.400236\n",
      "p-value                          0.141670\n",
      "#Lags Used                       4.000000\n",
      "Number of Observations Used    183.000000\n",
      "Critical Value (1%)             -3.466598\n",
      "Critical Value (5%)             -2.877467\n",
      "Critical Value (10%)            -2.575260\n",
      "dtype: float64\n",
      "None\n"
     ]
    },
    {
     "data": {
      "image/png": "[encoded data removed]",
      "text/plain": [
       "<Figure size 432x288 with 1 Axes>"
      ]
     },
     "metadata": {
      "needs_background": "light"
     },
     "output_type": "display_data"
    },
    {
     "data": {
      "image/png": "[encoded data removed]",
      "text/plain": [
       "<Figure size 432x288 with 1 Axes>"
      ]
     },
     "metadata": {
      "needs_background": "light"
     },
     "output_type": "display_data"
    },
    {
     "data": {
      "image/png": "[encoded data removed]",
      "text/plain": [
       "<Figure size 432x288 with 1 Axes>"
      ]
     },
     "metadata": {
      "needs_background": "light"
     },
     "output_type": "display_data"
    },
    {
     "data": {
      "image/png": "[encoded data removed]",
      "text/plain": [
       "<Figure size 432x288 with 1 Axes>"
      ]
     },
     "metadata": {
      "needs_background": "light"
     },
     "output_type": "display_data"
    }
   ],
   "source": [
    "print(stationarity_check(df_77571))\n",
    "print(stationarity_check(rm_diff_2.dropna()))"
   ]
  },
  {
   "cell_type": "code",
   "execution_count": 230,
   "metadata": {},
   "outputs": [
    {
     "name": "stdout",
     "output_type": "stream",
     "text": [
      "                               SARIMAX Results                                \n",
      "==============================================================================\n",
      "Dep. Variable:                  value   No. Observations:                  265\n",
      "Model:                 ARIMA(1, 0, 0)   Log Likelihood               -1893.027\n",
      "Date:                Wed, 06 Oct 2021   AIC                           3792.054\n",
      "Time:                        14:31:23   BIC                           3802.793\n",
      "Sample:                    04-01-1996   HQIC                          3796.369\n",
      "                         - 04-01-2018                                         \n",
      "Covariance Type:                  opg                                         \n",
      "==============================================================================\n",
      "                 coef    std err          z      P>|z|      [0.025      0.975]\n",
      "------------------------------------------------------------------------------\n",
      "const       1636.3189   3109.209      0.526      0.599   -4457.620    7730.257\n",
      "ar.L1          0.9947      0.007    143.037      0.000       0.981       1.008\n",
      "sigma2      9.217e+04   7546.305     12.214      0.000    7.74e+04    1.07e+05\n",
      "===================================================================================\n",
      "Ljung-Box (L1) (Q):                 162.00   Jarque-Bera (JB):                12.31\n",
      "Prob(Q):                              0.00   Prob(JB):                         0.00\n",
      "Heteroskedasticity (H):               6.59   Skew:                            -0.42\n",
      "Prob(H) (two-sided):                  0.00   Kurtosis:                         3.63\n",
      "===================================================================================\n",
      "\n",
      "Warnings:\n",
      "[1] Covariance matrix calculated using the outer product of gradients (complex-step).\n"
     ]
    },
    {
     "name": "stderr",
     "output_type": "stream",
     "text": [
      "/Users/rashidkarriti/opt/anaconda3/envs/learn-env/lib/python3.8/site-packages/statsmodels/tsa/base/tsa_model.py:524: ValueWarning: No frequency information was provided, so inferred frequency MS will be used.\n",
      "  warnings.warn('No frequency information was'\n",
      "/Users/rashidkarriti/opt/anaconda3/envs/learn-env/lib/python3.8/site-packages/statsmodels/tsa/base/tsa_model.py:524: ValueWarning: No frequency information was provided, so inferred frequency MS will be used.\n",
      "  warnings.warn('No frequency information was'\n",
      "/Users/rashidkarriti/opt/anaconda3/envs/learn-env/lib/python3.8/site-packages/statsmodels/tsa/base/tsa_model.py:524: ValueWarning: No frequency information was provided, so inferred frequency MS will be used.\n",
      "  warnings.warn('No frequency information was'\n",
      "/Users/rashidkarriti/opt/anaconda3/envs/learn-env/lib/python3.8/site-packages/statsmodels/tsa/statespace/sarimax.py:965: UserWarning: Non-stationary starting autoregressive parameters found. Using zeros as starting parameters.\n",
      "  warn('Non-stationary starting autoregressive parameters'\n"
     ]
    }
   ],
   "source": [
    "from statsmodels.tsa.arima.model import ARIMA\n",
    "\n",
    "arima = ARIMA(train, order=(1, 0, 0))\n",
    "sm = arima.fit()\n",
    "print(res.summary())"
   ]
  },
  {
   "cell_type": "code",
   "execution_count": 231,
   "metadata": {},
   "outputs": [
    {
     "data": {
      "text/plain": [
       "1996-04-01    111897.937948\n",
       "1996-05-01     85505.226855\n",
       "1996-06-01     85605.207055\n",
       "1996-07-01     85805.167454\n",
       "1996-08-01     85905.147654\n",
       "                  ...      \n",
       "2015-12-01    137194.990131\n",
       "2016-01-01    138294.772328\n",
       "2016-02-01    139694.495125\n",
       "2016-03-01    140594.316923\n",
       "2016-04-01    141194.198121\n",
       "Freq: MS, Name: predicted_mean, Length: 241, dtype: float64"
      ]
     },
     "execution_count": 231,
     "metadata": {},
     "output_type": "execute_result"
    }
   ],
   "source": [
    "y_train_hat = sm.predict()\n",
    "y_train_hat"
   ]
  },
  {
   "cell_type": "code",
   "execution_count": 235,
   "metadata": {},
   "outputs": [
    {
     "data": {
      "text/plain": [
       "1781.8310247517156"
      ]
     },
     "execution_count": 235,
     "metadata": {},
     "output_type": "execute_result"
    }
   ],
   "source": [
    "# Calculate the training root mean squared error (same syntax as a linear regression prediction)\n",
    "\n",
    "from sklearn.metrics import mean_squared_error\n",
    "rmse = mean_squared_error(train, y_train_hat, squared=False)\n",
    "rmse"
   ]
  },
  {
   "cell_type": "code",
   "execution_count": 236,
   "metadata": {},
   "outputs": [
    {
     "name": "stderr",
     "output_type": "stream",
     "text": [
      "/Users/rashidkarriti/opt/anaconda3/envs/learn-env/lib/python3.8/site-packages/statsmodels/tsa/base/tsa_model.py:524: ValueWarning: No frequency information was provided, so inferred frequency MS will be used.\n",
      "  warnings.warn('No frequency information was'\n",
      "/Users/rashidkarriti/opt/anaconda3/envs/learn-env/lib/python3.8/site-packages/statsmodels/tsa/base/tsa_model.py:524: ValueWarning: No frequency information was provided, so inferred frequency MS will be used.\n",
      "  warnings.warn('No frequency information was'\n",
      "/Users/rashidkarriti/opt/anaconda3/envs/learn-env/lib/python3.8/site-packages/statsmodels/tsa/statespace/sarimax.py:965: UserWarning: Non-stationary starting autoregressive parameters found. Using zeros as starting parameters.\n",
      "  warn('Non-stationary starting autoregressive parameters'\n"
     ]
    },
    {
     "data": {
      "text/html": [
       "<table class=\"simpletable\">\n",
       "<caption>SARIMAX Results</caption>\n",
       "<tr>\n",
       "  <th>Dep. Variable:</th>         <td>77571</td>      <th>  No. Observations:  </th>    <td>241</td>   \n",
       "</tr>\n",
       "<tr>\n",
       "  <th>Model:</th>           <td>SARIMAX(1, 0, 0)</td> <th>  Log Likelihood     </th> <td>-1860.654</td>\n",
       "</tr>\n",
       "<tr>\n",
       "  <th>Date:</th>            <td>Wed, 06 Oct 2021</td> <th>  AIC                </th> <td>3725.309</td> \n",
       "</tr>\n",
       "<tr>\n",
       "  <th>Time:</th>                <td>14:35:53</td>     <th>  BIC                </th> <td>3732.278</td> \n",
       "</tr>\n",
       "<tr>\n",
       "  <th>Sample:</th>             <td>04-01-1996</td>    <th>  HQIC               </th> <td>3728.117</td> \n",
       "</tr>\n",
       "<tr>\n",
       "  <th></th>                   <td>- 04-01-2016</td>   <th>                     </th>     <td> </td>    \n",
       "</tr>\n",
       "<tr>\n",
       "  <th>Covariance Type:</th>        <td>opg</td>       <th>                     </th>     <td> </td>    \n",
       "</tr>\n",
       "</table>\n",
       "<table class=\"simpletable\">\n",
       "<tr>\n",
       "     <td></td>       <th>coef</th>     <th>std err</th>      <th>z</th>      <th>P>|z|</th>  <th>[0.025</th>    <th>0.975]</th>  \n",
       "</tr>\n",
       "<tr>\n",
       "  <th>ar.L1</th>  <td>    1.0000</td> <td> 7.73e-05</td> <td> 1.29e+04</td> <td> 0.000</td> <td>    1.000</td> <td>    1.000</td>\n",
       "</tr>\n",
       "<tr>\n",
       "  <th>sigma2</th> <td> 2.838e+05</td> <td> 2.48e-14</td> <td> 1.14e+19</td> <td> 0.000</td> <td> 2.84e+05</td> <td> 2.84e+05</td>\n",
       "</tr>\n",
       "</table>\n",
       "<table class=\"simpletable\">\n",
       "<tr>\n",
       "  <th>Ljung-Box (L1) (Q):</th>     <td>192.78</td> <th>  Jarque-Bera (JB):  </th> <td>12.64</td>\n",
       "</tr>\n",
       "<tr>\n",
       "  <th>Prob(Q):</th>                 <td>0.00</td>  <th>  Prob(JB):          </th> <td>0.00</td> \n",
       "</tr>\n",
       "<tr>\n",
       "  <th>Heteroskedasticity (H):</th>  <td>4.55</td>  <th>  Skew:              </th> <td>-0.38</td>\n",
       "</tr>\n",
       "<tr>\n",
       "  <th>Prob(H) (two-sided):</th>     <td>0.00</td>  <th>  Kurtosis:          </th> <td>3.83</td> \n",
       "</tr>\n",
       "</table><br/><br/>Warnings:<br/>[1] Covariance matrix calculated using the outer product of gradients (complex-step).<br/>[2] Covariance matrix is singular or near-singular, with condition number    inf. Standard errors may be unstable."
      ],
      "text/plain": [
       "<class 'statsmodels.iolib.summary.Summary'>\n",
       "\"\"\"\n",
       "                               SARIMAX Results                                \n",
       "==============================================================================\n",
       "Dep. Variable:                  77571   No. Observations:                  241\n",
       "Model:               SARIMAX(1, 0, 0)   Log Likelihood               -1860.654\n",
       "Date:                Wed, 06 Oct 2021   AIC                           3725.309\n",
       "Time:                        14:35:53   BIC                           3732.278\n",
       "Sample:                    04-01-1996   HQIC                          3728.117\n",
       "                         - 04-01-2016                                         \n",
       "Covariance Type:                  opg                                         \n",
       "==============================================================================\n",
       "                 coef    std err          z      P>|z|      [0.025      0.975]\n",
       "------------------------------------------------------------------------------\n",
       "ar.L1          1.0000   7.73e-05   1.29e+04      0.000       1.000       1.000\n",
       "sigma2      2.838e+05   2.48e-14   1.14e+19      0.000    2.84e+05    2.84e+05\n",
       "===================================================================================\n",
       "Ljung-Box (L1) (Q):                 192.78   Jarque-Bera (JB):                12.64\n",
       "Prob(Q):                              0.00   Prob(JB):                         0.00\n",
       "Heteroskedasticity (H):               4.55   Skew:                            -0.38\n",
       "Prob(H) (two-sided):                  0.00   Kurtosis:                         3.83\n",
       "===================================================================================\n",
       "\n",
       "Warnings:\n",
       "[1] Covariance matrix calculated using the outer product of gradients (complex-step).\n",
       "[2] Covariance matrix is singular or near-singular, with condition number    inf. Standard errors may be unstable.\n",
       "\"\"\""
      ]
     },
     "execution_count": 236,
     "metadata": {},
     "output_type": "execute_result"
    }
   ],
   "source": [
    "from statsmodels.tsa.statespace.sarimax import SARIMAX\n",
    "\n",
    "sarimax = SARIMAX(train, order=[1,0,0]).fit()\n",
    "sarimax.summary()"
   ]
  },
  {
   "cell_type": "code",
   "execution_count": 237,
   "metadata": {},
   "outputs": [
    {
     "data": {
      "text/plain": [
       "1781.8310247517156"
      ]
     },
     "execution_count": 237,
     "metadata": {},
     "output_type": "execute_result"
    }
   ],
   "source": [
    "# Calculate the training root mean squared error (same syntax as a linear regression prediction)\n",
    "\n",
    "from sklearn.metrics import mean_squared_error\n",
    "rmse = mean_squared_error(train, y_train_hat, squared=False)\n",
    "rmse"
   ]
  },
  {
   "cell_type": "code",
   "execution_count": 238,
   "metadata": {},
   "outputs": [],
   "source": [
    "def print_ts_metrics(endog=train, test=test, order=[0,0,0], seasonal_order=[0,0,0,0]):\n",
    "    \n",
    "    '''\n",
    "    Print out RMSE for a given set of orders (seasonal and non-seasonal)\n",
    "    \n",
    "    Return the model fit on the training set.\n",
    "    '''\n",
    "    \n",
    "    sm = SARIMAX(endog, order=order, seasonal_order=seasonal_order).fit()\n",
    "    rmse_endog = mean_squared_error(endog, \n",
    "                             sm.predict(endog.index[0], endog.index[-1], \n",
    "                                        typ='levels'), \n",
    "                                        squared=False)\n",
    "    rmse_test = mean_squared_error(test, \n",
    "                             sm.predict(test.index[0], test.index[-1], \n",
    "                                        typ='levels'), \n",
    "                                        squared=False)\n",
    "    print(rmse_endog)\n",
    "    \n",
    "    print(rmse_test)\n",
    "    return sm"
   ]
  },
  {
   "cell_type": "code",
   "execution_count": 239,
   "metadata": {},
   "outputs": [],
   "source": [
    "def plot_predictions(test=test, sarimax=sarimax):\n",
    "    \n",
    "    '''\n",
    "    Pass a test set, as well as a model fit to the training set \n",
    "    to this function, and plot the test predictions against\n",
    "    the true test values\n",
    "    '''\n",
    "    \n",
    "    sarimax.predict(test.index[0], test.index[-1], typ='levels').plot()\n",
    "    test.plot()"
   ]
  },
  {
   "cell_type": "code",
   "execution_count": 240,
   "metadata": {},
   "outputs": [
    {
     "name": "stderr",
     "output_type": "stream",
     "text": [
      "/Users/rashidkarriti/opt/anaconda3/envs/learn-env/lib/python3.8/site-packages/statsmodels/tsa/base/tsa_model.py:524: ValueWarning: No frequency information was provided, so inferred frequency MS will be used.\n",
      "  warnings.warn('No frequency information was'\n",
      "/Users/rashidkarriti/opt/anaconda3/envs/learn-env/lib/python3.8/site-packages/statsmodels/tsa/base/tsa_model.py:524: ValueWarning: No frequency information was provided, so inferred frequency MS will be used.\n",
      "  warnings.warn('No frequency information was'\n",
      "/Users/rashidkarriti/opt/anaconda3/envs/learn-env/lib/python3.8/site-packages/statsmodels/tsa/statespace/sarimax.py:996: UserWarning: Non-stationary starting seasonal autoregressive Using zeros as starting parameters.\n",
      "  warn('Non-stationary starting seasonal autoregressive'\n"
     ]
    },
    {
     "name": "stdout",
     "output_type": "stream",
     "text": [
      "6224.873068100134\n",
      "6003.230271519471\n"
     ]
    },
    {
     "data": {
      "image/png": "[encoded data removed]",
      "text/plain": [
       "<Figure size 432x288 with 1 Axes>"
      ]
     },
     "metadata": {
      "needs_background": "light"
     },
     "output_type": "display_data"
    },
    {
     "data": {
      "image/png": "[encoded data removed]",
      "text/plain": [
       "<Figure size 432x288 with 1 Axes>"
      ]
     },
     "metadata": {
      "needs_background": "light"
     },
     "output_type": "display_data"
    }
   ],
   "source": [
    "# set print_ts_metrics equal to model, then feed that model to plot_predictions\n",
    "model = print_ts_metrics(endog=train, test=test, order=[1,1,0], seasonal_order=[1,1,0,52])\n",
    "plot_predictions(test, model)"
   ]
  },
  {
   "cell_type": "code",
   "execution_count": 241,
   "metadata": {},
   "outputs": [
    {
     "data": {
      "image/png": "[encoded data removed]",
      "text/plain": [
       "<Figure size 720x288 with 1 Axes>"
      ]
     },
     "metadata": {
      "needs_background": "light"
     },
     "output_type": "display_data"
    },
    {
     "data": {
      "image/png": "[encoded data removed]",
      "text/plain": [
       "<Figure size 432x288 with 1 Axes>"
      ]
     },
     "metadata": {
      "needs_background": "light"
     },
     "output_type": "display_data"
    },
    {
     "data": {
      "image/png": "[encoded data removed]",
      "text/plain": [
       "<Figure size 432x288 with 1 Axes>"
      ]
     },
     "metadata": {
      "needs_background": "light"
     },
     "output_type": "display_data"
    }
   ],
   "source": [
    "plt.figure(figsize=(10, 4))\n",
    "\n",
    "plt.plot(train)\n",
    "plt.show()\n",
    "plot_acf(train, lags=90) \n",
    "plt.show()\n",
    "plot_pacf(train, lags=90) \n",
    "plt.show()"
   ]
  },
  {
   "cell_type": "code",
   "execution_count": 242,
   "metadata": {},
   "outputs": [
    {
     "data": {
      "image/png": "[encoded data removed]",
      "text/plain": [
       "<Figure size 720x288 with 1 Axes>"
      ]
     },
     "metadata": {
      "needs_background": "light"
     },
     "output_type": "display_data"
    },
    {
     "data": {
      "image/png": "[encoded data removed]",
      "text/plain": [
       "<Figure size 432x288 with 1 Axes>"
      ]
     },
     "metadata": {
      "needs_background": "light"
     },
     "output_type": "display_data"
    },
    {
     "data": {
      "image/png": "[encoded data removed]",
      "text/plain": [
       "<Figure size 432x288 with 1 Axes>"
      ]
     },
     "metadata": {
      "needs_background": "light"
     },
     "output_type": "display_data"
    }
   ],
   "source": [
    "plt.figure(figsize=(10, 4))\n",
    "\n",
    "plt.plot(test)\n",
    "plt.show()\n",
    "plot_acf(test, lags=90) \n",
    "plt.show()\n",
    "plot_pacf(test, lags=90) \n",
    "plt.show()"
   ]
  },
  {
   "cell_type": "code",
   "execution_count": 151,
   "metadata": {},
   "outputs": [
    {
     "name": "stdout",
     "output_type": "stream",
     "text": [
      "TimeSeriesSplit(gap=0, max_train_size=None, n_splits=5, test_size=None)\n",
      "[0 1 2 3 4 5 6 7 8 9] [10 11 12 13 14 15 16 17]\n",
      "[ 0  1  2  3  4  5  6  7  8  9 10 11 12 13 14 15 16 17] [18 19 20 21 22 23 24 25]\n",
      "[ 0  1  2  3  4  5  6  7  8  9 10 11 12 13 14 15 16 17 18 19 20 21 22 23\n",
      " 24 25] [26 27 28 29 30 31 32 33]\n",
      "[ 0  1  2  3  4  5  6  7  8  9 10 11 12 13 14 15 16 17 18 19 20 21 22 23\n",
      " 24 25 26 27 28 29 30 31 32 33] [34 35 36 37 38 39 40 41]\n",
      "[ 0  1  2  3  4  5  6  7  8  9 10 11 12 13 14 15 16 17 18 19 20 21 22 23\n",
      " 24 25 26 27 28 29 30 31 32 33 34 35 36 37 38 39 40 41] [42 43 44 45 46 47 48 49]\n"
     ]
    }
   ],
   "source": [
    "from sklearn.model_selection import TimeSeriesSplit\n",
    "\n",
    "tscv = TimeSeriesSplit()\n",
    "print(tscv)\n",
    "\n",
    "for train, test in tscv.split(X):\n",
    "    print(train, test)"
   ]
  },
  {
   "cell_type": "code",
   "execution_count": 176,
   "metadata": {},
   "outputs": [
    {
     "name": "stdout",
     "output_type": "stream",
     "text": [
      "                               SARIMAX Results                                \n",
      "==============================================================================\n",
      "Dep. Variable:                  value   No. Observations:                  265\n",
      "Model:                 ARIMA(1, 0, 0)   Log Likelihood               -1893.027\n",
      "Date:                Wed, 06 Oct 2021   AIC                           3792.054\n",
      "Time:                        14:02:23   BIC                           3802.793\n",
      "Sample:                    04-01-1996   HQIC                          3796.369\n",
      "                         - 04-01-2018                                         \n",
      "Covariance Type:                  opg                                         \n",
      "==============================================================================\n",
      "                 coef    std err          z      P>|z|      [0.025      0.975]\n",
      "------------------------------------------------------------------------------\n",
      "const       1636.3189   3109.209      0.526      0.599   -4457.620    7730.257\n",
      "ar.L1          0.9947      0.007    143.037      0.000       0.981       1.008\n",
      "sigma2      9.217e+04   7546.305     12.214      0.000    7.74e+04    1.07e+05\n",
      "===================================================================================\n",
      "Ljung-Box (L1) (Q):                 162.00   Jarque-Bera (JB):                12.31\n",
      "Prob(Q):                              0.00   Prob(JB):                         0.00\n",
      "Heteroskedasticity (H):               6.59   Skew:                            -0.42\n",
      "Prob(H) (two-sided):                  0.00   Kurtosis:                         3.63\n",
      "===================================================================================\n",
      "\n",
      "Warnings:\n",
      "[1] Covariance matrix calculated using the outer product of gradients (complex-step).\n"
     ]
    },
    {
     "name": "stderr",
     "output_type": "stream",
     "text": [
      "/Users/rashidkarriti/opt/anaconda3/envs/learn-env/lib/python3.8/site-packages/statsmodels/tsa/base/tsa_model.py:524: ValueWarning: No frequency information was provided, so inferred frequency MS will be used.\n",
      "  warnings.warn('No frequency information was'\n",
      "/Users/rashidkarriti/opt/anaconda3/envs/learn-env/lib/python3.8/site-packages/statsmodels/tsa/base/tsa_model.py:524: ValueWarning: No frequency information was provided, so inferred frequency MS will be used.\n",
      "  warnings.warn('No frequency information was'\n",
      "/Users/rashidkarriti/opt/anaconda3/envs/learn-env/lib/python3.8/site-packages/statsmodels/tsa/base/tsa_model.py:524: ValueWarning: No frequency information was provided, so inferred frequency MS will be used.\n",
      "  warnings.warn('No frequency information was'\n"
     ]
    }
   ],
   "source": [
    "from statsmodels.tsa.arima.model import ARIMA\n",
    "\n",
    "mod = ARIMA(df_log_wrm, order=(1, 0, 0))\n",
    "res = mod.fit()\n",
    "print(res.summary())"
   ]
  },
  {
   "cell_type": "code",
   "execution_count": null,
   "metadata": {},
   "outputs": [],
   "source": []
  }
 ],
 "metadata": {
  "kernelspec": {
   "display_name": "Python (learn-env)",
   "language": "python",
   "name": "learn-env"
  },
  "language_info": {
   "codemirror_mode": {
    "name": "ipython",
    "version": 3
   },
   "file_extension": ".py",
   "mimetype": "text/x-python",
   "name": "python",
   "nbconvert_exporter": "python",
   "pygments_lexer": "ipython3",
   "version": "3.8.5"
  }
 },
 "nbformat": 4,
 "nbformat_minor": 4
}
